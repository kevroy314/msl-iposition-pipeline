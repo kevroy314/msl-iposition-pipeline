{
 "cells": [
  {
   "cell_type": "markdown",
   "metadata": {},
   "source": [
    "# Time Travel Task Analyses\n",
    "\n",
    "This notebook contains the analyses necessary to generate the results for the Time Travel Task. The time travel task outputs a binary format log file for space efficiency which first needs to be converted to the appropriate intermediate representations (the iPosition format for test results and an intermediate navigation format for study/test navigation results).\n",
    "\n",
    "Note: This file was generated from other, older analysis files and needs to be tested."
   ]
  },
  {
   "cell_type": "markdown",
   "metadata": {},
   "source": [
    "## Data Conversion\n",
    "\n",
    "First we'll process the data into the appropriate formats."
   ]
  },
  {
   "cell_type": "code",
   "execution_count": 3,
   "metadata": {
    "collapsed": true
   },
   "outputs": [],
   "source": [
    "import cogrecon.core.data_flexing.time_travel_task.time_travel_task_to_iposition as ttt2i"
   ]
  },
  {
   "cell_type": "code",
   "execution_count": null,
   "metadata": {
    "collapsed": true
   },
   "outputs": [],
   "source": [
    "data_directory = r'\\\\192.168.2.2\\kevroy314\\Work\\Time Travel Task\\Paper Data (cleaned)'\n",
    "data_output_directory = r'\\\\192.168.2.2\\kevroy314\\Work\\Time Travel Task\\Paper Data (iPosition format cleaned)'\n",
    "\n",
    "ttt2i.time_travel_task_to_iposition(data_directory, data_output_directory)"
   ]
  },
  {
   "cell_type": "markdown",
   "metadata": {},
   "source": [
    "## Test Analyses\n",
    "\n",
    "For test, there are several primary analyses to be run. First, a basic analysis for the purpose of determining the test-time performance in space or in time are performed. This can be done quite simply with the basic batch processing functions.\n",
    "\n",
    "Note that these files contain all the output metrics necessary to perform the statistics on Space/Time Misplacement, Number of Incorrect Event Types, Miassignments in Space vs. Time, and Context Boundary Effects."
   ]
  },
  {
   "cell_type": "code",
   "execution_count": 2,
   "metadata": {
    "collapsed": true
   },
   "outputs": [],
   "source": [
    "from cogrecon.core.batch_pipeline import batch_pipeline\n",
    "from cogrecon.core.data_flexing.time_travel_task.time_travel_task_analytics import summarize_test_data"
   ]
  },
  {
   "cell_type": "code",
   "execution_count": null,
   "metadata": {
    "collapsed": true
   },
   "outputs": [],
   "source": [
    "summarize_test_data(search_directory=data_directory)  # For Time Travel Task specific analyses\n",
    "# For Time vs. Space Reconstruction Analyses\n",
    "temporal_result = batch_pipeline(str(data_output_directory), 'TimeTravelTask_TimeOnly.csv', removal_dim_indicies=[0, 1])\n",
    "spatial_result = batch_pipeline(str(data_output_directory), 'TimeTravelTask_SpaceOnly.csv', removal_dim_indicies=[2])"
   ]
  },
  {
   "cell_type": "markdown",
   "metadata": {},
   "source": [
    "## Basic Navigation Analyses\n",
    "\n",
    "Next, we can create the summary file for basic navigation metrics.\n",
    "\n",
    "Note that this file contains all the output metrics for basic spatial and temporal navigation."
   ]
  },
  {
   "cell_type": "code",
   "execution_count": 5,
   "metadata": {
    "collapsed": true
   },
   "outputs": [],
   "source": [
    "from cogrecon.core.data_flexing.time_travel_task.time_travel_task_analytics import summarize_navigation_data"
   ]
  },
  {
   "cell_type": "code",
   "execution_count": null,
   "metadata": {
    "collapsed": true
   },
   "outputs": [],
   "source": [
    "summarize_navigation_data(search_directory=data_directory)  # For Time Travel Task specific analyses"
   ]
  },
  {
   "attachments": {},
   "cell_type": "markdown",
   "metadata": {},
   "source": [
    "## Effect of Context on Misassignment\n",
    "\n",
    "The analysis of the effect of context on misassignment is not included in any of the packages directly. As a result, we need to do some custom computation to get out these numbers.\n",
    "\n",
    "First, we need to read the data from the **Accurate Misassignment Pairs** column in the temporal only test output file. Because we're running this in one file, we can simply extract this from the output result rather than reading from file."
   ]
  },
  {
   "cell_type": "code",
   "execution_count": 6,
   "metadata": {
    "collapsed": true
   },
   "outputs": [],
   "source": [
    "from cogrecon.core.batch_pipeline import get_header_labels"
   ]
  },
  {
   "cell_type": "code",
   "execution_count": null,
   "metadata": {
    "collapsed": true
   },
   "outputs": [],
   "source": [
    "misassignment_pairs = np.transpose(temporal_result)[get_header_labels().index('Accurate Misassignment Pairs')]"
   ]
  },
  {
   "cell_type": "markdown",
   "metadata": {},
   "source": [
    "Next we'll process the list, counting the number of within vs. across context pairs."
   ]
  },
  {
   "cell_type": "code",
   "execution_count": null,
   "metadata": {
    "collapsed": true
   },
   "outputs": [],
   "source": [
    "import numpy as np\n",
    "\n",
    "# The pairs which share a context (note that order doesn't matter for this)\n",
    "within_key = [[0, 1], [1, 0], [2, 3], [3, 2], [4, 5], [5, 4], [6, 7], [7, 6]]\n",
    "# The items to exclude because they had no contextual information\n",
    "# thus if they were given temporal information, they would not be a valid misassignment\n",
    "exclusion_items = [8, 9]\n",
    "\n",
    "within_list = []\n",
    "across_list = []\n",
    "totals_list = []\n",
    "for i, a in enumerate(misassignment_pairs):\n",
    "    totals_list.append(len(a))\n",
    "    within_list.append(0)\n",
    "    across_list.append(0)\n",
    "    for el in a:\n",
    "        if all([el_i not in exclusion_items for el_i in el]):\n",
    "            if el in within_key:\n",
    "                within_list[-1] += 1\n",
    "            else:\n",
    "                across_list[-1] += 1\n",
    "within_list_proportion = [float(x)/float(y) if y is not 0 else np.nan for x, y in zip(within_list, totals_list)]\n",
    "across_list_proportion = [float(x)/float(y) if y is not 0 else np.nan for x, y in zip(across_list, totals_list)]"
   ]
  },
  {
   "cell_type": "markdown",
   "metadata": {},
   "source": [
    "Next we can save these results to an intermediate file for running statistics."
   ]
  },
  {
   "cell_type": "code",
   "execution_count": null,
   "metadata": {
    "collapsed": true
   },
   "outputs": [],
   "source": [
    "with open('misassignments_by_context.csv', 'w') as fp:\n",
    "    fp.write('total_misassignments,within_misassignments,across_misassignments,within_misassignment_proportions,across_misassignment_proportions\\n')\n",
    "    for t, w, a, wp, ap in zip(totals_list,within_list ,across_list,within_list_proportion,across_list_proportion):\n",
    "        fp.write('{0},{1},{2},{3},{4}\\n'.format(t, w, a, wp, ap))"
   ]
  },
  {
   "cell_type": "code",
   "execution_count": null,
   "metadata": {
    "collapsed": true
   },
   "outputs": [],
   "source": []
  }
 ],
 "metadata": {
  "kernelspec": {
   "display_name": "Python 2",
   "language": "python",
   "name": "python2"
  },
  "language_info": {
   "codemirror_mode": {
    "name": "ipython",
    "version": 2
   },
   "file_extension": ".py",
   "mimetype": "text/x-python",
   "name": "python",
   "nbconvert_exporter": "python",
   "pygments_lexer": "ipython2",
   "version": "2.7.13"
  }
 },
 "nbformat": 4,
 "nbformat_minor": 2
}
