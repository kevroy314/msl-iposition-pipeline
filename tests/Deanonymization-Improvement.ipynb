{
 "cells": [
  {
   "cell_type": "code",
   "execution_count": 1,
   "metadata": {
    "collapsed": true
   },
   "outputs": [],
   "source": [
    "import itertools\n",
    "import random\n",
    "import numpy as np\n",
    "from scipy.spatial import distance\n",
    "\n",
    "from scipy.spatial.distance import cdist\n",
    "from scipy.optimize import linear_sum_assignment"
   ]
  },
  {
   "cell_type": "code",
   "execution_count": 2,
   "metadata": {
    "collapsed": true
   },
   "outputs": [],
   "source": [
    "def minimization_function(list1, list2):\n",
    "    return sum(np.diag(distance.cdist(list1, list2)))\n",
    "\n",
    "def find_minimal_mapping(p0, p1):\n",
    "    min_score = np.inf\n",
    "    min_score_idx = -1\n",
    "    min_permutation = p1\n",
    "    idx = 0\n",
    "    for perm in itertools.permutations(p1):\n",
    "        score = minimization_function(perm, p0)\n",
    "        if score < min_score:\n",
    "            min_score = score\n",
    "            min_score_idx = idx\n",
    "            min_permutation = perm\n",
    "            if score == 0:\n",
    "                break\n",
    "        idx += 1\n",
    "    return min_score, min_score_idx, min_permutation"
   ]
  },
  {
   "cell_type": "code",
   "execution_count": 3,
   "metadata": {
    "collapsed": true
   },
   "outputs": [],
   "source": [
    "from math import factorial\n",
    "\n",
    "def lexicographic_index(p):\n",
    "    \"\"\"\n",
    "    Return the lexicographic index of the permutation `p` among all\n",
    "    permutations of its elements. `p` must be a sequence and all elements\n",
    "    of `p` must be distinct.\n",
    "\n",
    "    >>> lexicographic_index('dacb')\n",
    "    19\n",
    "    >>> from itertools import permutations\n",
    "    >>> all(lexicographic_index(p) == i\n",
    "    ...     for i, p in enumerate(permutations('abcde')))\n",
    "    True\n",
    "    \"\"\"\n",
    "    result = 0\n",
    "    for j in range(len(p)):\n",
    "        k = sum(1 for i in p[j + 1:] if i < p[j])\n",
    "        result += k * factorial(len(p) - j - 1)\n",
    "    return result\n",
    "\n",
    "def scipy_find_minimal_mapping(p0, p1):\n",
    "    C = cdist(p0, p1)\n",
    "\n",
    "    _, assignment = linear_sum_assignment(C)\n",
    "\n",
    "    p1_reordered = [p1[idx] for idx in assignment]\n",
    "    return minimization_function(p0, p1_reordered), lexicographic_index(assignment), p1_reordered"
   ]
  },
  {
   "cell_type": "code",
   "execution_count": 4,
   "metadata": {
    "collapsed": true
   },
   "outputs": [],
   "source": [
    "def generate_random_test_points(number_of_points=5, dimension=2, shuffle_points=True, noise=(1.0 / 20.0),\n",
    "                                num_rerandomed_points=1):\n",
    "    correct_points = [[random.random() for _ in range(dimension)] for _ in range(0, number_of_points)]\n",
    "    offsets = [[(random.random()) * noise for _ in range(dimension)] for _ in range(0, number_of_points)]\n",
    "    input_points = np.array(correct_points) + np.array(offsets)\n",
    "\n",
    "    if shuffle_points:\n",
    "        perms = list(itertools.permutations(input_points))\n",
    "        input_points = perms[random.randint(0, len(perms) - 1)]\n",
    "\n",
    "    if num_rerandomed_points > len(input_points):  # Bound the number of randomized points to the number of points\n",
    "        num_rerandomed_points = len(input_points)\n",
    "    # Generate a random sampling of point indicies\n",
    "    indicies = random.sample(range(0, len(input_points)), num_rerandomed_points)\n",
    "    # Loop through each index and re-randomize each element in the point\n",
    "    for index in indicies:\n",
    "        for idx in range(len(input_points[index])):\n",
    "            input_points[index][idx] = random.random()\n",
    "\n",
    "    return np.array(correct_points).tolist(), np.array(input_points).tolist()"
   ]
  },
  {
   "cell_type": "code",
   "execution_count": 5,
   "metadata": {},
   "outputs": [
    {
     "name": "stdout",
     "output_type": "stream",
     "text": [
      "n=2 took 0.0160000324249 seconds\n",
      "n=3 took 0.00399994850159 seconds\n",
      "n=4 took 0.00300002098083 seconds\n",
      "n=5 took 0.00300002098083 seconds\n",
      "n=6 took 0.0160000324249 seconds\n",
      "n=7 took 0.00999999046326 seconds\n",
      "n=8 took 0.0280001163483 seconds\n",
      "n=9 took 0.381999969482 seconds\n"
     ]
    }
   ],
   "source": [
    "import time\n",
    "\n",
    "for n in range(2, 10):\n",
    "    start_time = time.time()\n",
    "    scipy_find_minimal_mapping(*generate_random_test_points(number_of_points=n))\n",
    "    duration = time.time() - start_time\n",
    "    print('n={0} took {1} seconds'.format(n, duration))"
   ]
  },
  {
   "cell_type": "code",
   "execution_count": 6,
   "metadata": {},
   "outputs": [
    {
     "name": "stdout",
     "output_type": "stream",
     "text": [
      "n=2 took 0.000999927520752 seconds with solution (0.16851318052400716, 1, ([0.5640533283191939, 0.9208686709871031], [0.9717418142406326, 0.43461656810887767]))\n",
      "n=2 took 0.00200009346008 seconds with solution (0.16851318052400716, 1, [[0.5640533283191939, 0.9208686709871031], [0.9717418142406326, 0.43461656810887767]])\n",
      "n=3 took 0.000999927520752 seconds with solution (0.78869030894771708, 2, ([0.15479030725739756, 0.6539097555288998], [0.9337663220325537, 0.6101549632668956], [0.04010621958130567, 0.1907402154076766]))\n",
      "n=3 took 0.00400018692017 seconds with solution (0.78869030894771708, 2, [[0.15479030725739756, 0.6539097555288998], [0.9337663220325537, 0.6101549632668956], [0.04010621958130567, 0.1907402154076766]])\n",
      "n=4 took 0.00300002098083 seconds with solution (0.66138326252331681, 23, ([0.12115177456711804, 0.12468415102025109], [0.07615423066588439, 0.9197368964556536], [0.5480178481536797, 0.5209147630711618], [0.2393979661381697, 0.4734060641848463]))\n",
      "n=4 took 0.00100016593933 seconds with solution (0.66138326252331681, 23, [[0.12115177456711804, 0.12468415102025109], [0.07615423066588439, 0.9197368964556536], [0.5480178481536797, 0.5209147630711618], [0.2393979661381697, 0.4734060641848463]])\n",
      "n=5 took 0.0140001773834 seconds with solution (0.40772956997320703, 93, ([0.7518707724296709, 0.10572347797572762], [0.7360735614255219, 0.9950889631827854], [0.840391050840297, 0.2941396517446149], [0.48663677035215913, 0.11814596322818238], [0.8719946078178596, 0.3497425695734443]))\n",
      "n=5 took 0.0019998550415 seconds with solution (0.40772956997320703, 93, [[0.7518707724296709, 0.10572347797572762], [0.7360735614255219, 0.9950889631827854], [0.840391050840297, 0.2941396517446149], [0.48663677035215913, 0.11814596322818238], [0.8719946078178596, 0.3497425695734443]])\n",
      "n=6 took 0.0989999771118 seconds with solution (0.66216574919836813, 565, ([0.188960409741791, 0.6807377110831224], [1.0045853439472137, 0.33310135499722243], [0.02713657377870194, 0.20728324840436307], [0.5230378406858807, 0.3957282886375608], [0.425107702646402, 0.6307221632313113], [0.25110816642387834, 0.9252553913234183]))\n",
      "n=6 took 0.00300002098083 seconds with solution (0.66216574919836813, 565, [[0.188960409741791, 0.6807377110831224], [1.0045853439472137, 0.33310135499722243], [0.02713657377870194, 0.20728324840436307], [0.5230378406858807, 0.3957282886375608], [0.425107702646402, 0.6307221632313113], [0.25110816642387834, 0.9252553913234183]])\n",
      "n=7 took 0.605999946594 seconds with solution (1.1361593073411096, 2303, ([0.6012887596759241, 0.3567666193721368], [0.6253703396134506, 0.39773651398673615], [0.7872333007387788, 0.9834493258255682], [0.012945305758647163, 0.7046046363188546], [0.2312309822410539, 0.4667134373028612], [0.49939699579178926, 0.9600030815248657], [0.6441617016032172, 0.3458928237587465]))\n",
      "n=7 took 0.00300002098083 seconds with solution (1.1361593073411096, 2303, [[0.6012887596759241, 0.3567666193721368], [0.6253703396134506, 0.39773651398673615], [0.7872333007387788, 0.9834493258255682], [0.012945305758647163, 0.7046046363188546], [0.2312309822410539, 0.4667134373028612], [0.49939699579178926, 0.9600030815248657], [0.6441617016032172, 0.3458928237587465]])\n",
      "n=8 took 3.32699990273 seconds with solution (0.88796799889939948, 1683, ([0.6776255382105087, 0.8900725106956376], [0.4398102925263727, 0.7409275650205726], [0.702140868027044, 0.8894174407209017], [0.7058318641107926, 0.7946595514651242], [0.7575206157686628, 0.9812511400275089], [0.6419602440433747, 0.0972707659949964], [0.8983155655949744, 0.34090392583454354], [0.24633335031260362, 0.3990706267101489]))\n",
      "n=8 took 0.00300002098083 seconds with solution (0.88796799889939948, 1683, [[0.6776255382105087, 0.8900725106956376], [0.4398102925263727, 0.7409275650205726], [0.702140868027044, 0.8894174407209017], [0.7058318641107926, 0.7946595514651242], [0.7575206157686628, 0.9812511400275089], [0.6419602440433747, 0.0972707659949964], [0.8983155655949744, 0.34090392583454354], [0.24633335031260362, 0.3990706267101489]])\n",
      "n=9 took 35.756000042 seconds with solution (1.2191970635970895, 196589, ([0.4975402343576817, 0.026520321972440586], [0.9515854649757195, 0.8969064090300749], [0.3240837350601613, 0.38336174989927446], [0.24041262608955846, 0.24019744677623592], [0.5535755626409554, 0.4821520268120864], [0.9678363003918331, 0.4046691265001393], [0.5912709012240219, 0.9230010199400565], [0.974334416486526, 0.42714325180852497], [0.15166706616510225, 0.7753950481763591]))\n",
      "n=9 took 0.00600004196167 seconds with solution (1.2191970635970895, 196589, [[0.4975402343576817, 0.026520321972440586], [0.9515854649757195, 0.8969064090300749], [0.3240837350601613, 0.38336174989927446], [0.24041262608955846, 0.24019744677623592], [0.5535755626409554, 0.4821520268120864], [0.9678363003918331, 0.4046691265001393], [0.5912709012240219, 0.9230010199400565], [0.974334416486526, 0.42714325180852497], [0.15166706616510225, 0.7753950481763591]])\n"
     ]
    }
   ],
   "source": [
    "import time\n",
    "\n",
    "for n in range(2, 10):\n",
    "    rand_input = generate_random_test_points(number_of_points=n)\n",
    "    start_time = time.time()\n",
    "    a, b, c = find_minimal_mapping(*rand_input)\n",
    "    duration = time.time() - start_time\n",
    "    print('n={0} took {1} seconds with solution {2}'.format(n, duration, (a, b, c)))\n",
    "    \n",
    "    start_time = time.time()\n",
    "    a, b, c = scipy_find_minimal_mapping(*rand_input)\n",
    "    scipy_duration = time.time() - start_time\n",
    "    print('n={0} took {1} seconds with solution {2}'.format(n, scipy_duration, (a, b, c)))"
   ]
  },
  {
   "cell_type": "code",
   "execution_count": 7,
   "metadata": {
    "collapsed": true
   },
   "outputs": [],
   "source": [
    "import sys\n",
    "\n",
    "# noinspection PyUnusedLocal\n",
    "def greedy_find_minimal_mapping(p0, p1, order):\n",
    "    assert len(p0) == len(p1) and len(p0) == len(order), \"greedy_find_minimal_mapping requires all list to be equal \" \\\n",
    "                                                         \"in length \"\n",
    "    assert sorted(list(set(order))) == list(range(len(order))), \"greedy_find_minimal_mapping order should contain \" \\\n",
    "                                                                \"unique values between 0 and n-1, inclusively, \" \\\n",
    "                                                                \"where n is the number of items \"\n",
    "    # Sort by order\n",
    "    indices = list(range(len(order)))\n",
    "    indices.sort(key=order.__getitem__)\n",
    "    sorted_p0 = list(map(p0.__getitem__, indices))\n",
    "    sorted_p1 = list(map(p1.__getitem__, indices))\n",
    "\n",
    "    map_order = []\n",
    "    for idx, p in enumerate(sorted_p1):\n",
    "        min_dist = sys.float_info.max\n",
    "        min_idx = -1\n",
    "        for idxx, pp in enumerate(sorted_p0):\n",
    "            dist = distance.euclidean(p, pp)\n",
    "            if dist < min_dist:\n",
    "                min_dist = dist\n",
    "                min_idx = idx\n",
    "        map_order.append(min_idx)\n",
    "        del sorted_p1[min_idx]\n",
    "\n",
    "    p1_reordered = [p1[idx] for idx in map_order]\n",
    "\n",
    "    return minimization_function(p0, p1_reordered), lexicographic_index(map_order), p1_reordered"
   ]
  },
  {
   "cell_type": "code",
   "execution_count": 8,
   "metadata": {},
   "outputs": [
    {
     "name": "stdout",
     "output_type": "stream",
     "text": [
      "[[[0.1030208570313127, 0.7935064281056959], [0.5753613501656863, 0.6140669845489641], [0.4790942915287918, 0.12381446664879947], [0.910796515212774, 0.5659234601968963], [0.8727087112092808, 0.48967899503230283], [0.5830437896034872, 0.21046327104316342]], [[0.12459229088039214, 0.8159940172701569], [0.7473471206013302, 0.5002770372326758], [0.9528314292531614, 0.5828705563238215], [0.8834598782733476, 0.5177542267826247], [0.524421989595909, 0.1611470476253673], [0.5822710496431329, 0.617939576862467]], [1, 3, 4, 2, 5, 0]]\n",
      "---------------\n",
      "(0.89704865226330455, 0, [[0.12459229088039214, 0.8159940172701569], [0.7473471206013302, 0.5002770372326758], [0.9528314292531614, 0.5828705563238215]])\n"
     ]
    }
   ],
   "source": [
    "n=6\n",
    "order = list(range(0, n))\n",
    "random.shuffle(order)\n",
    "input_data = (list(generate_random_test_points(number_of_points=n)) + [order])\n",
    "print(input_data)\n",
    "a, b, c = greedy_find_minimal_mapping(*input_data)\n",
    "print('---------------')\n",
    "print((a,b,c))"
   ]
  },
  {
   "cell_type": "markdown",
   "metadata": {},
   "source": [
    "If we compare greedy to global, we find that greedy general and systematically finds a solution which reduces the overall error less due to the later order items being non-ideal. This difference is likely to be lower with lower overall error."
   ]
  },
  {
   "cell_type": "code",
   "execution_count": 9,
   "metadata": {},
   "outputs": [
    {
     "name": "stdout",
     "output_type": "stream",
     "text": [
      "n=2 scipy has mean dist 0.563720721398 while greedy has mean dist 0.399080086332\n",
      "n=3 scipy has mean dist 0.597504125486 while greedy has mean dist 0.82934887313\n",
      "n=4 scipy has mean dist 0.621569548532 while greedy has mean dist 0.86678920343\n",
      "n=5 scipy has mean dist 0.660538371261 while greedy has mean dist 1.36745136503\n",
      "n=6 scipy has mean dist 0.702322866431 while greedy has mean dist 1.36026506714\n",
      "n=7 scipy has mean dist 0.742642581201 while greedy has mean dist 1.86623460431\n",
      "n=8 scipy has mean dist 0.767110952481 while greedy has mean dist 1.87384094121\n"
     ]
    }
   ],
   "source": [
    "import time\n",
    "\n",
    "iterations = 1000\n",
    "for n in range(2, 9):\n",
    "    scipy = []\n",
    "    greedy = []\n",
    "    for i in range(0, iterations):\n",
    "        rand_input = generate_random_test_points(number_of_points=n)\n",
    "        order = list(range(0, n))\n",
    "        random.shuffle(order)\n",
    "        input_data = (list(generate_random_test_points(number_of_points=n)) + [order])\n",
    "\n",
    "        a0, b0, c0 = scipy_find_minimal_mapping(*rand_input)\n",
    "\n",
    "        a1, b1, c1 = greedy_find_minimal_mapping(*input_data)\n",
    "        \n",
    "        scipy.append(a0)\n",
    "        greedy.append(a1)\n",
    "    \n",
    "    print('n={0} scipy has mean dist {1} while greedy has mean dist {2}'.format(n, np.mean(scipy), np.mean(greedy)))"
   ]
  },
  {
   "cell_type": "code",
   "execution_count": null,
   "metadata": {
    "collapsed": true
   },
   "outputs": [],
   "source": []
  }
 ],
 "metadata": {
  "kernelspec": {
   "display_name": "Python 2",
   "language": "python",
   "name": "python2"
  },
  "language_info": {
   "codemirror_mode": {
    "name": "ipython",
    "version": 2
   },
   "file_extension": ".py",
   "mimetype": "text/x-python",
   "name": "python",
   "nbconvert_exporter": "python",
   "pygments_lexer": "ipython2",
   "version": "2.7.13"
  }
 },
 "nbformat": 4,
 "nbformat_minor": 1
}
