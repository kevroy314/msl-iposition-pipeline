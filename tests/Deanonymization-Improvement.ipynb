{
 "cells": [
  {
   "cell_type": "code",
   "execution_count": null,
   "metadata": {
    "collapsed": true
   },
   "outputs": [],
   "source": [
    "import itertools\n",
    "import random\n",
    "import numpy as np\n",
    "from scipy.spatial import distance\n",
    "\n",
    "from scipy.spatial.distance import cdist\n",
    "from scipy.optimize import linear_sum_assignment"
   ]
  },
  {
   "cell_type": "code",
   "execution_count": null,
   "metadata": {
    "collapsed": true
   },
   "outputs": [],
   "source": [
    "def minimization_function(list1, list2):\n",
    "    return sum(np.diag(distance.cdist(list1, list2)))\n",
    "\n",
    "def find_minimal_mapping(p0, p1):\n",
    "    min_score = np.inf\n",
    "    min_score_idx = -1\n",
    "    min_permutation = p1\n",
    "    idx = 0\n",
    "    for perm in itertools.permutations(p1):\n",
    "        score = minimization_function(perm, p0)\n",
    "        if score < min_score:\n",
    "            min_score = score\n",
    "            min_score_idx = idx\n",
    "            min_permutation = perm\n",
    "            if score == 0:\n",
    "                break\n",
    "        idx += 1\n",
    "    return min_score, min_score_idx, min_permutation"
   ]
  },
  {
   "cell_type": "code",
   "execution_count": null,
   "metadata": {
    "collapsed": true
   },
   "outputs": [],
   "source": [
    "from math import factorial\n",
    "\n",
    "def lexicographic_index(p):\n",
    "    \"\"\"\n",
    "    Return the lexicographic index of the permutation `p` among all\n",
    "    permutations of its elements. `p` must be a sequence and all elements\n",
    "    of `p` must be distinct.\n",
    "\n",
    "    >>> lexicographic_index('dacb')\n",
    "    19\n",
    "    >>> from itertools import permutations\n",
    "    >>> all(lexicographic_index(p) == i\n",
    "    ...     for i, p in enumerate(permutations('abcde')))\n",
    "    True\n",
    "    \"\"\"\n",
    "    result = 0\n",
    "    for j in range(len(p)):\n",
    "        k = sum(1 for i in p[j + 1:] if i < p[j])\n",
    "        result += k * factorial(len(p) - j - 1)\n",
    "    return result\n",
    "\n",
    "def scipy_find_minimal_mapping(p0, p1):\n",
    "    C = cdist(p0, p1)\n",
    "\n",
    "    _, assignment = linear_sum_assignment(C)\n",
    "\n",
    "    p1_reordered = [p1[idx] for idx in assignment]\n",
    "    return minimization_function(p0, p1_reordered), lexicographic_index(assignment), p1_reordered"
   ]
  },
  {
   "cell_type": "code",
   "execution_count": null,
   "metadata": {
    "collapsed": true
   },
   "outputs": [],
   "source": [
    "def generate_random_test_points(number_of_points=5, dimension=2, shuffle_points=True, noise=(1.0 / 20.0),\n",
    "                                num_rerandomed_points=1):\n",
    "    correct_points = [[random.random() for _ in range(dimension)] for _ in range(0, number_of_points)]\n",
    "    offsets = [[(random.random()) * noise for _ in range(dimension)] for _ in range(0, number_of_points)]\n",
    "    input_points = np.array(correct_points) + np.array(offsets)\n",
    "\n",
    "    if shuffle_points:\n",
    "        perms = list(itertools.permutations(input_points))\n",
    "        input_points = perms[random.randint(0, len(perms) - 1)]\n",
    "\n",
    "    if num_rerandomed_points > len(input_points):  # Bound the number of randomized points to the number of points\n",
    "        num_rerandomed_points = len(input_points)\n",
    "    # Generate a random sampling of point indicies\n",
    "    indicies = random.sample(range(0, len(input_points)), num_rerandomed_points)\n",
    "    # Loop through each index and re-randomize each element in the point\n",
    "    for index in indicies:\n",
    "        for idx in range(len(input_points[index])):\n",
    "            input_points[index][idx] = random.random()\n",
    "\n",
    "    return np.array(correct_points).tolist(), np.array(input_points).tolist()"
   ]
  },
  {
   "cell_type": "code",
   "execution_count": null,
   "metadata": {
    "collapsed": true
   },
   "outputs": [],
   "source": [
    "import time\n",
    "\n",
    "for n in range(2, 10):\n",
    "    start_time = time.time()\n",
    "    scipy_find_minimal_mapping(*generate_random_test_points(number_of_points=n))\n",
    "    duration = time.time() - start_time\n",
    "    print('n={0} took {1} seconds'.format(n, duration))"
   ]
  },
  {
   "cell_type": "code",
   "execution_count": null,
   "metadata": {
    "collapsed": true
   },
   "outputs": [],
   "source": [
    "import time\n",
    "\n",
    "for n in range(2, 10):\n",
    "    rand_input = generate_random_test_points(number_of_points=n)\n",
    "    start_time = time.time()\n",
    "    a, b, c = find_minimal_mapping(*rand_input)\n",
    "    duration = time.time() - start_time\n",
    "    print('n={0} took {1} seconds with solution {2}'.format(n, duration, (a, b, c)))\n",
    "    \n",
    "    start_time = time.time()\n",
    "    a, b, c = scipy_find_minimal_mapping(*rand_input)\n",
    "    scipy_duration = time.time() - start_time\n",
    "    print('n={0} took {1} seconds with solution {2}'.format(n, scipy_duration, (a, b, c)))"
   ]
  },
  {
   "cell_type": "code",
   "execution_count": null,
   "metadata": {
    "collapsed": true
   },
   "outputs": [],
   "source": [
    "import sys\n",
    "\n",
    "# noinspection PyUnusedLocal\n",
    "def greedy_find_minimal_mapping(p0, p1, order):\n",
    "    assert len(p0) == len(p1) and len(p0) == len(order), \"greedy_find_minimal_mapping requires all list to be equal \" \\\n",
    "                                                         \"in length \"\n",
    "    assert sorted(list(set(order))) == list(range(len(order))), \"greedy_find_minimal_mapping order should contain \" \\\n",
    "                                                                \"unique values between 0 and n-1, inclusively, \" \\\n",
    "                                                                \"where n is the number of items \"\n",
    "    # Sort by order\n",
    "    indices = list(range(len(order)))\n",
    "    indices.sort(key=order.__getitem__)\n",
    "    sorted_p0 = list(map(p0.__getitem__, indices))\n",
    "    sorted_p1 = list(map(p1.__getitem__, indices))\n",
    "\n",
    "    map_order = []\n",
    "    for idx, p in enumerate(sorted_p1):\n",
    "        min_dist = sys.float_info.max\n",
    "        min_idx = -1\n",
    "        for idxx, pp in enumerate(sorted_p0):\n",
    "            dist = distance.euclidean(p, pp)\n",
    "            if dist < min_dist:\n",
    "                min_dist = dist\n",
    "                min_idx = idx\n",
    "        map_order.append(min_idx)\n",
    "        del sorted_p1[min_idx]\n",
    "\n",
    "    p1_reordered = [p1[idx] for idx in map_order]\n",
    "\n",
    "    return minimization_function(p0, p1_reordered), lexicographic_index(map_order), p1_reordered"
   ]
  },
  {
   "cell_type": "code",
   "execution_count": null,
   "metadata": {
    "collapsed": true
   },
   "outputs": [],
   "source": [
    "n=6\n",
    "order = list(range(0, n))\n",
    "random.shuffle(order)\n",
    "input_data = (list(generate_random_test_points(number_of_points=n)) + [order])\n",
    "print(input_data)\n",
    "a, b, c = greedy_find_minimal_mapping(*input_data)\n",
    "print('---------------')\n",
    "print((a,b,c))"
   ]
  },
  {
   "cell_type": "markdown",
   "metadata": {},
   "source": [
    "If we compare greedy to global, we find that greedy general and systematically finds a solution which reduces the overall error less due to the later order items being non-ideal. This difference is likely to be lower with lower overall error."
   ]
  },
  {
   "cell_type": "code",
   "execution_count": null,
   "metadata": {
    "collapsed": true
   },
   "outputs": [],
   "source": [
    "import time\n",
    "\n",
    "iterations = 1000\n",
    "for n in range(2, 9):\n",
    "    scipy = []\n",
    "    greedy = []\n",
    "    for i in range(0, iterations):\n",
    "        rand_input = generate_random_test_points(number_of_points=n)\n",
    "        order = list(range(0, n))\n",
    "        random.shuffle(order)\n",
    "        input_data = (list(generate_random_test_points(number_of_points=n)) + [order])\n",
    "\n",
    "        a0, b0, c0 = scipy_find_minimal_mapping(*rand_input)\n",
    "\n",
    "        a1, b1, c1 = greedy_find_minimal_mapping(*input_data)\n",
    "        \n",
    "        scipy.append(a0)\n",
    "        greedy.append(a1)\n",
    "    \n",
    "    print('n={0} scipy has mean dist {1} while greedy has mean dist {2}'.format(n, np.mean(scipy), np.mean(greedy)))"
   ]
  },
  {
   "cell_type": "code",
   "execution_count": null,
   "metadata": {
    "collapsed": true
   },
   "outputs": [],
   "source": []
  }
 ],
 "metadata": {
  "kernelspec": {
   "display_name": "Python 2",
   "language": "python",
   "name": "python2"
  },
  "language_info": {
   "codemirror_mode": {
    "name": "ipython",
    "version": 2
   },
   "file_extension": ".py",
   "mimetype": "text/x-python",
   "name": "python",
   "nbconvert_exporter": "python",
   "pygments_lexer": "ipython2",
   "version": "2.7.13"
  }
 },
 "nbformat": 4,
 "nbformat_minor": 1
}
