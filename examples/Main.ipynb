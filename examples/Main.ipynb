{
 "cells": [
  {
   "cell_type": "markdown",
   "metadata": {},
   "source": [
    "# Full Pipeline Test\n",
    "This section tests the Full Pipeline - which runs on a single participant's data.\n",
    "\n",
    "The process is as follows:\n",
    "1. Use helper function, [generate_random_test_points](https://msl-iposition-pipeline.readthedocs.io/en/latest/source/cogrecon.core.html#cogrecon.core.tools.generate_random_test_points), to generate actual and test coordinates.\n",
    "2. Create a [ParticipantData](https://msl-iposition-pipeline.readthedocs.io/en/latest/source/cogrecon.core.html#cogrecon.core.data_structures.ParticipantData) object populated with a list containing a single [TrialData](https://msl-iposition-pipeline.readthedocs.io/en/latest/source/cogrecon.core.html#cogrecon.core.data_structures.TrialData) object (i.e. one participant with one trial).\n",
    "3. Create an [AnalysisConfiguration](https://msl-iposition-pipeline.readthedocs.io/en/latest/source/cogrecon.core.html#cogrecon.core.data_structures.AnalysisConfiguration) object which contains the configuration information for how the analysis should be run.\n",
    "4. Call the [full_pipeline](https://msl-iposition-pipeline.readthedocs.io/en/latest/source/cogrecon.core.html#cogrecon.core.full_pipeline.full_pipeline) function with the data and configuration and ask it to visualize the result.\n",
    "\n",
    "This process could then be run in a loop if desired over any data of interest, however, as will be shown in the next section, the [batch_pipeline](https://msl-iposition-pipeline.readthedocs.io/en/latest/source/cogrecon.core.html#cogrecon.core.batch_pipeline.batch_pipeline) function provides a variety of functionality to make this largely unnecessary.\n",
    "\n",
    "Note: If you've never used Jupyter Notebooks before, please see the [Jupyter/IPython Notebook Quick Start Guide](https://jupyter-notebook-beginner-guide.readthedocs.io/en/latest/)."
   ]
  },
  {
   "cell_type": "code",
   "execution_count": 3,
   "metadata": {
    "collapsed": true
   },
   "outputs": [],
   "source": [
    "# Import the library functions we're using\n",
    "from cogrecon.core.full_pipeline import full_pipeline\n",
    "from cogrecon.core.data_structures import TrialData, ParticipantData, AnalysisConfiguration\n",
    "from cogrecon.core.tools import generate_random_test_points\n",
    "# Set up visualization via matplotlib\n",
    "%matplotlib inline"
   ]
  },
  {
   "cell_type": "code",
   "execution_count": 7,
   "metadata": {},
   "outputs": [
    {
     "name": "stdout",
     "output_type": "stream",
     "text": [
      "Original Misplacement: 0.535523803242\n",
      "Original Swap: 0.2\n",
      "Original Edge Resizing: 0.235812629393\n",
      "Original Edge Distortion: 0.9\n",
      "Axis Swap Pairs: [[1, 4], [2, 3]]\n",
      "Pre-Processed Accurate Placements: 3\n",
      "Pre-Processed Inaccurate Placements: 2\n",
      "Pre-Processed Accuracy Threshold: 0.835654894135\n",
      "Deanonymized Accurate Placements: 4\n",
      "Deanonymized Inaccurate Placements: 1\n",
      "Deanonymized Accuracy Threshold: 0.267779977935\n",
      "Raw Deanonymized Misplacement: 0.119992776159\n",
      "Post-Deanonymized Misplacement: 0.119992776159\n",
      "Transformation Auto-Exclusion: False\n",
      "Number of Points Excluded From Geometric Transform: 1\n",
      "Rotation Theta: 0.794507235335\n",
      "Scaling: 0.97800051366\n",
      "Translation Magnitude: 0.0153917961679\n",
      "TranslationX: -0.0151802941224\n",
      "TranslationY: -0.00254284479129\n",
      "Geometric Distance Threshold: 0.267779977935\n",
      "Post-Transform Misplacement: 0.117945400107\n",
      "Number of Components: 3\n",
      "Accurate Single-Item Placements: 1\n",
      "Inaccurate Single-Item Placements: 0\n",
      "True Swaps: 1\n",
      "Partial Swaps: 1\n",
      "Cycle Swaps: 0\n",
      "Partial Cycle Swaps: 0\n",
      "Misassignment: 4\n",
      "Accurate Misassignment: 3\n",
      "Inaccurate Misassignment: 1\n",
      "Swap Distance Threshold: 0.27299593382\n",
      "True Swap Data Distance: 0.909767104369\n",
      "True Swap Actual Distance: 0.90698756275\n",
      "Partial Swap Data Distance: 0.431896707716\n",
      "Partial Swap Actual Distance: 0.34210394992\n",
      "Cycle Swap Data Distance: nan\n",
      "Cycle Swap Actual Distance: nan\n",
      "Partial Cycle Swap Data Distance: nan\n",
      "Partial Cycle Swap Actual Distance: nan\n",
      "Unique Components: [[1, 4], [2, 3], [0]]\n",
      "Contains Category Data: False\n",
      "Category Label: None\n",
      "Accurate Misassignment Pairs: [[1, 4], [2, 3], [3, 2]]\n",
      "Inaccurate Misassignment Pairs: [[4, 1]]\n"
     ]
    },
    {
     "data": {
      "image/png": "[encoded data removed]",
      "text/plain": [
       "<matplotlib.figure.Figure at 0xb6d6d30>"
      ]
     },
     "metadata": {},
     "output_type": "display_data"
    }
   ],
   "source": [
    "# Test with random points\n",
    "actual_coordinates, data_coordinates = generate_random_test_points()\n",
    "data = ParticipantData([TrialData(actual_coordinates, data_coordinates)])\n",
    "config = AnalysisConfiguration(debug_labels=['test', -1])\n",
    "result = full_pipeline(data, config, visualize=True, visualization_extent=[[0., 1.], [0., 1.]])"
   ]
  },
  {
   "cell_type": "markdown",
   "metadata": {},
   "source": [
    "# Batch Pipeline Test\n",
    "This section tests the Batch Pipeline, which runs on a folder full of data files, automatically finding the appropriate files. The process is as follows:\n",
    "1. Produce a UI window for selection of a directory.\n",
    "2. Once a valid directory has been selected, run the [batch_pipeline](https://msl-iposition-pipeline.readthedocs.io/en/latest/source/cogrecon.core.html#cogrecon.core.batch_pipeline.batch_pipeline) command on the directory.\n",
    "\n",
    "Note that the [batch_pipeline](https://msl-iposition-pipeline.readthedocs.io/en/latest/source/cogrecon.core.html#cogrecon.core.batch_pipeline.batch_pipeline) function has a variety of options to make locating and processing large groups of files easier. Some of the more critical inputs are:\n",
    "* **trial_by_trial_accuracy** - if *True*, the accuracy windows are calculated on individual trials; otherwise, the accuracy windows are computed using the entire participant's data at once (this is generally preferred and is default)\n",
    "* **collapse_trials** - if *True*, one row per participant will be produced in the output; otherwise, each trial will get its own row (note that this does not impact whether or not the accuracy is being computed on a per-trial or per-participant basis)\n",
    "* **removal_dim_indicies** - this parameter takes a list of dimension indicies which will be excluded from the analysis (i.e. if the data is 3D, and only the first and third dimensions should be analyzed, the input could be *removal_dim_indicies=[1]*)\n",
    "* **actual_coordinate_prefixes** - if *True*, it is assumed that there will be a *\\*actual_coordinates.txt* file for every *\\*position_data_coordinates.txt* file; otherwise, only one *actual_coordinates.txt* file is expected\n",
    "* **\\_data_coodinates_file_suffix**, **\\_actual_coordinates_file_suffix** - these provide the search string for finding files of each type (i.e. *position_data_coordinates.txt* and *actual_coordinates.txt*)\n",
    "\n",
    "Note: The [batch_pipeline](https://msl-iposition-pipeline.readthedocs.io/en/latest/source/cogrecon.core.html#cogrecon.core.batch_pipeline.batch_pipeline) function can produce a significant number of logged outputs (mostly warnings about transformation functions). These outputs are generated via the [logging](https://docs.python.org/2/howto/logging.html#) library, and they can be supressed by uncommenting the following lines from the import cell:\n",
    "\n",
    "    import logging\n",
    "    logging.disable(logging.WARNING)\n",
    "    \n",
    "Note 2: Sometimes, the easygui.diropenbox prompt appears behind other active windows. Use ALT+TAB to easily find the window."
   ]
  },
  {
   "cell_type": "code",
   "execution_count": 24,
   "metadata": {
    "collapsed": true
   },
   "outputs": [],
   "source": [
    "from cogrecon.core.batch_pipeline import batch_pipeline\n",
    "from cogrecon.core.data_structures import TrialData, ParticipantData, AnalysisConfiguration\n",
    "import os, datetime, easygui\n",
    "# import logging\n",
    "# logging.disable(logging.WARNING)"
   ]
  },
  {
   "cell_type": "code",
   "execution_count": 25,
   "metadata": {},
   "outputs": [],
   "source": [
    "selected_directory = easygui.diropenbox()  # Get a directory from the user\n",
    "\n",
    "# Make the output filename just the current datatime\n",
    "output_filename = datetime.datetime.now().strftime(\"%Y-%m-%d_%H-%M-%S.csv\")\n",
    "\n",
    "if selected_directory is not None:  # If the user doesn't cancel the selection window\n",
    "    if os.path.exists(selected_directory):  # If the directory exists\n",
    "        batch_pipeline(str(selected_directory), output_filename)\n",
    "    elif selected_directory is not '':\n",
    "        logging.error('Directory not found.')"
   ]
  }
 ],
 "metadata": {
  "kernelspec": {
   "display_name": "Python 2",
   "language": "python",
   "name": "python2"
  },
  "language_info": {
   "codemirror_mode": {
    "name": "ipython",
    "version": 2
   },
   "file_extension": ".py",
   "mimetype": "text/x-python",
   "name": "python",
   "nbconvert_exporter": "python",
   "pygments_lexer": "ipython2",
   "version": "2.7.13"
  }
 },
 "nbformat": 4,
 "nbformat_minor": 1
}
