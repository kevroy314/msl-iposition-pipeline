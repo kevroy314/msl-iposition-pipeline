{
 "cells": [
  {
   "cell_type": "code",
   "execution_count": 7,
   "metadata": {
    "collapsed": true
   },
   "outputs": [],
   "source": [
    "import numpy as np\n",
    "import matplotlib.pyplot as plt\n",
    "import scipy.stats as stats\n",
    "from scipy.stats import t as tstat"
   ]
  },
  {
   "cell_type": "code",
   "execution_count": 12,
   "metadata": {
    "collapsed": true
   },
   "outputs": [],
   "source": [
    "def ste(_x):\n",
    "    return stats.sem(_x, axis=None, ddof=(len(_x)-1.))\n",
    "\n",
    "def regression(x, y, visualize=True, print_stats=True, p=0.95, two_tailed=True, extent=None):\n",
    "    slope, intercept, r_value, p_value, std_err = stats.linregress(x, y)\n",
    "    \n",
    "    print('p={0}, r={1}, y={2}*x+{3}, ste={4}'.format(p_value, r_value, slope, intercept, std_err))\n",
    "    \n",
    "    mean_x = np.mean(x)\n",
    "    n = len(x)\n",
    "    p_tailed = p\n",
    "    if two_tailed:\n",
    "        p_tailed = p + ((1. - p) / 2.)\n",
    "    t = tstat.ppf(p_tailed, n - 1.)\n",
    "    s_err = ste(y)\n",
    "    \n",
    "    z = np.polyfit(x,y,1)\n",
    "    p_x = np.arange(np.min(x),np.max(x)+1,1)\n",
    "    \n",
    "    confs = t * np.sqrt((s_err/(n-2))*(1.0/n + (np.power((p_x-mean_x),2)/((np.sum(np.power(x,2)))-n*(np.power(mean_x,2))))))\n",
    "    \n",
    "    p_y = z[0]*p_x+z[0]\n",
    "\n",
    "    lower = p_y - abs(confs)\n",
    "    upper = p_y + abs(confs)\n",
    "    \n",
    "    c_x = x\n",
    "    c_y = [slope * i + intercept for i in x]\n",
    "\n",
    "    if visualize:\n",
    "        plt.xlabel('X values')\n",
    "        plt.ylabel('Y values')\n",
    "        plt.title('Linear regression and confidence limits')\n",
    "\n",
    "        plt.plot(x,y,'bo',label='Sample observations')\n",
    "        plt.plot(c_x,c_y,'r-',label='Regression line')\n",
    "\n",
    "        tail = 'one-tailed'\n",
    "        if two_tailed:\n",
    "            tail = 'two-tailed'\n",
    "\n",
    "        plt.plot(p_x,lower,'b--',label='Lower confidence limit ({0}% {1})'.format(p, tail))\n",
    "        plt.plot(p_x,upper,'b--',label='Upper confidence limit ({0}% {1})'.format(p, tail))\n",
    "\n",
    "        if extent is None:\n",
    "            extent = [[min(x), max(x)], [min(y), max(y)]]\n",
    "        plt.xlim(*extent[0])\n",
    "        plt.ylim(*extent[1])\n",
    "\n",
    "        plt.legend(loc=0)\n",
    "        leg = plt.gca().get_legend()\n",
    "        ltext = leg.get_texts()\n",
    "        plt.setp(ltext, fontsize=10)\n",
    "\n",
    "        plt.show()"
   ]
  },
  {
   "cell_type": "code",
<<<<<<< HEAD
   "execution_count": null,
   "metadata": {
    "collapsed": true
   },
   "outputs": [],
=======
   "execution_count": 13,
   "metadata": {},
   "outputs": [
    {
     "name": "stdout",
     "output_type": "stream",
     "text": [
      "p=0.0214146234476, r=0.783549953436, y=0.780679703568*x+0.68400313408, ste=0.252727240137\n"
     ]
    },
    {
     "data": {
      "image/png": "iVBORw0KGgoAAAANSUhEUgAAAYUAAAEWCAYAAACJ0YulAAAABHNCSVQICAgIfAhkiAAAAAlwSFlz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\nmZX+ByfRoZMUvucQAAAAAElFTkSuQmCC\n",
      "text/plain": [
       "<matplotlib.figure.Figure at 0x65e9320>"
      ]
     },
     "metadata": {},
     "output_type": "display_data"
    }
   ],
>>>>>>> origin/master
   "source": [
    "# example data\n",
    "x = np.array([4.0,2.5,3.2,5.8,7.4,4.4,8.3,8.5])\n",
    "y = np.array([2.1,4.0,1.5,6.3,5.0,5.8,8.1,7.1])\n",
    "regression(x, y, extent=[[0, 10], [0, 10]])"
   ]
  },
  {
   "cell_type": "code",
   "execution_count": 14,
   "metadata": {
    "collapsed": true
   },
   "outputs": [],
   "source": [
    "import numpy as np\n",
    "import matplotlib.pyplot as plt\n",
    "import scipy.stats"
   ]
  },
  {
   "cell_type": "code",
   "execution_count": 15,
   "metadata": {
    "collapsed": true
   },
   "outputs": [],
   "source": [
    "def t_test(a, b, visualize=True, print_stats=True):\n",
    "    t, p = scipy.stats.ttest_ind(a, b, equal_var=False)\n",
    "    \n",
    "    print('t={0}, p={1}'.format(t, p))\n",
    "    \n",
    "    n_a = len(a)\n",
    "    n_b = len(b)\n",
    "    mean_a = np.mean(a)\n",
    "    mean_b = np.mean(b)\n",
    "    ste_a = ste(a)\n",
    "    ste_b = ste(b)\n",
    "\n",
    "    fig, ax = plt.subplots()\n",
    "    rects1 = ax.bar(np.arange(2), (mean_a, mean_b), 0.8, color='r', yerr=(ste_a, ste_b))\n",
    "\n",
    "    plt.show()"
   ]
  },
  {
   "cell_type": "code",
<<<<<<< HEAD
   "execution_count": null,
   "metadata": {
    "collapsed": true
   },
   "outputs": [],
=======
   "execution_count": 16,
   "metadata": {},
   "outputs": [
    {
     "name": "stdout",
     "output_type": "stream",
     "text": [
      "t=0.44977795236, p=0.659756028292\n"
     ]
    },
    {
     "data": {
      "image/png": "iVBORw0KGgoAAAANSUhEUgAAAW4AAAD8CAYAAABXe05zAAAABHNCSVQICAgIfAhkiAAAAAlwSFlz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\n",
      "text/plain": [
       "<matplotlib.figure.Figure at 0x7cdce80>"
      ]
     },
     "metadata": {},
     "output_type": "display_data"
    }
   ],
>>>>>>> origin/master
   "source": [
    "t_test(x, y)"
   ]
  },
  {
   "cell_type": "code",
   "execution_count": 17,
   "metadata": {
    "collapsed": true
   },
   "outputs": [],
   "source": [
    "import statsmodels.sandbox.stats.multicomp as multi"
   ]
  },
  {
   "cell_type": "code",
   "execution_count": 18,
   "metadata": {
    "collapsed": true
   },
   "outputs": [],
   "source": [
    "def multiple_compare_columns(a, b, a_cols, b_cols, p=0.95):\n",
    "    '''\n",
    "    From: http://www.statsmodels.org/devel/generated/statsmodels.sandbox.stats.multicomp.multipletests.html#statsmodels.sandbox.stats.multicomp.multipletests\n",
    "    `bonferroni` : one-step correction\n",
    "    `sidak` : one-step correction\n",
    "    `holm-sidak` : step down method using Sidak adjustments\n",
    "    `holm` : step-down method using Bonferroni adjustments\n",
    "    `simes-hochberg` : step-up method  (independent)\n",
    "    `hommel` : closed method based on Simes tests (non-negative)\n",
    "    `fdr_bh` : Benjamini/Hochberg  (non-negative)\n",
    "    `fdr_by` : Benjamini/Yekutieli (negative)\n",
    "    `fdr_tsbh` : two stage fdr correction (non-negative)\n",
    "    `fdr_tsbky` : two stage fdr correction (non-negative)\n",
    "    '''\n",
    "    \n",
    "    reject, pvals, alphacSidak, alphacBonf = multi.multipletests([0.1, 0.12, 0.13, 0.04], alpha=0.05, method='simes-hochberg')\n",
    "    \n",
    "    return reject, pvals, alphacSidak, alphacBonf"
   ]
  },
  {
   "cell_type": "code",
<<<<<<< HEAD
   "execution_count": null,
   "metadata": {
    "collapsed": true
   },
   "outputs": [],
=======
   "execution_count": 19,
   "metadata": {},
   "outputs": [
    {
     "data": {
      "text/plain": [
       "(array([False, False, False, False], dtype=bool),\n",
       " array([ 0.13,  0.13,  0.13,  0.13]),\n",
       " 0.012741455098566168,\n",
       " 0.0125)"
      ]
     },
     "execution_count": 19,
     "metadata": {},
     "output_type": "execute_result"
    }
   ],
>>>>>>> origin/master
   "source": [
    "multiple_compare_columns(0, 0, 0, 0)"
   ]
  },
  {
   "cell_type": "code",
   "execution_count": null,
   "metadata": {
    "collapsed": true
   },
   "outputs": [],
   "source": []
  },
  {
   "cell_type": "code",
   "execution_count": null,
   "metadata": {
    "collapsed": true
   },
   "outputs": [],
   "source": []
  }
 ],
 "metadata": {
  "kernelspec": {
   "display_name": "Python 2",
   "language": "python",
   "name": "python2"
  },
  "language_info": {
   "codemirror_mode": {
    "name": "ipython",
    "version": 2
   },
   "file_extension": ".py",
   "mimetype": "text/x-python",
   "name": "python",
   "nbconvert_exporter": "python",
   "pygments_lexer": "ipython2",
   "version": "2.7.13"
  }
 },
 "nbformat": 4,
 "nbformat_minor": 2
}
