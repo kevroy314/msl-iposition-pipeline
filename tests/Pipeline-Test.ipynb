{
 "cells": [
  {
   "cell_type": "markdown",
   "metadata": {},
   "source": [
    "# Full Pipeline Test\n",
    "This section tests the Full Pipeline - which runs on a single participant's data."
   ]
  },
  {
   "cell_type": "code",
   "execution_count": 1,
   "metadata": {},
   "outputs": [],
   "source": [
    "import cogrecon\n",
    "from cogrecon.core.full_pipeline import full_pipeline\n",
    "from cogrecon.core.data_structures import TrialData, ParticipantData, AnalysisConfiguration\n",
    "from cogrecon.core.tools import generate_random_test_points"
   ]
  },
  {
   "cell_type": "code",
   "execution_count": 6,
   "metadata": {},
   "outputs": [
    {
     "name": "stdout",
     "output_type": "stream",
     "text": [
      "Original Misplacement: 0.193187439004\n",
      "Original Swap: 0.1\n",
      "Original Edge Resizing: 0.0776543338872\n",
      "Original Edge Distortion: 0.8\n",
      "Axis Swap Pairs: [[2, 3]]\n",
      "Pre-Processed Accurate Placements: 4\n",
      "Pre-Processed Inaccurate Placements: 1\n",
      "Pre-Processed Accuracy Threshold: 0.314576996499\n",
      "Deanonymized Accurate Placements: 4\n",
      "Deanonymized Inaccurate Placements: 1\n",
      "Deanonymized Accuracy Threshold: 0.261760115926\n",
      "Raw Deanonymized Misplacement: 0.120973241824\n",
      "Transformation Auto-Exclusion: False\n",
      "Number of Points Excluded From Geometric Transform: 1\n",
      "Rotation Theta: 0.787280790577\n",
      "Scaling: 1.0419082837\n",
      "Translation Magnitude: 0.0707669773364\n",
      "Translation: [-0.05813761700883191, -0.040348266008178202]\n",
      "Geometric Distance Threshold: 0.261760115926\n",
      "Number of Components: 2\n",
      "Accurate Placements: 1\n",
      "Inaccurate Placements: 0\n",
      "True Swaps: 0\n",
      "Partial Swaps: 0\n",
      "Cycle Swaps: 0\n",
      "Partial Cycle Swaps: 1\n",
      "Misassignment: 4\n",
      "Accurate Misassignment: 3\n",
      "Inaccurate Misassignment: 1\n",
      "Swap Distance Threshold: 0.231311248661\n",
      "True Swap Data Distance: nan\n",
      "True Swap Actual Distance: nan\n",
      "Partial Swap Data Distance: nan\n",
      "Partial Swap Actual Distance: nan\n",
      "Cycle Swap Data Distance: nan\n",
      "Cycle Swap Actual Distance: nan\n",
      "Partial Cycle Swap Data Distance: 0.238683000485\n",
      "Partial Cycle Swap Actual Distance: 0.332030108144\n",
      "Unique Components: [[1, 2, 3, 4], [0]]\n",
      "[[True, True, False, True, True]]\n"
     ]
    },
    {
     "name": "stderr",
     "output_type": "stream",
     "text": [
      "C:\\Program Files\\Anaconda3\\envs\\iposition\\lib\\site-packages\\matplotlib\\figure.py:403: UserWarning: matplotlib is currently using a non-GUI backend, so cannot show the figure\n",
      "  \"matplotlib is currently using a non-GUI backend, \"\n"
     ]
    },
    {
     "data": {
      "image/png": "[encoded data removed]",
      "text/plain": [
       "<matplotlib.figure.Figure at 0x8f966a0>"
      ]
     },
     "metadata": {},
     "output_type": "display_data"
    },
    {
     "data": {
      "text/plain": [
       "array([[0.19318743900415292, 0.1, 0.077654333887212754, 0.8, [[2, 3]], 4,\n",
       "        1, 0.31457699649888093, 4, 1, 0.2617601159261167,\n",
       "        0.12097324182422323, False, 1, 0.78728079057709677,\n",
       "        1.0419082836975329, 0.070766977336412559,\n",
       "        [-0.05813761700883191, -0.040348266008178202], 0.2617601159261167,\n",
       "        2, 1, 0, 0, 0, 0, 1, 4, 3, 1, 0.23131124866091246, nan, nan, nan,\n",
       "        nan, nan, nan, 0.23868300048510452, 0.33203010814357647,\n",
       "        [[1, 2, 3, 4], [0]]]], dtype=object)"
      ]
     },
     "execution_count": 6,
     "metadata": {},
     "output_type": "execute_result"
    }
   ],
   "source": [
    "# Test with random first\n",
    "a, b = generate_random_test_points()\n",
    "data = ParticipantData([TrialData(a, b)])\n",
    "config = AnalysisConfiguration(debug_labels=['test', -1])\n",
    "full_pipeline(data, config, visualize=True)"
   ]
  },
  {
   "cell_type": "code",
   "execution_count": 7,
   "metadata": {},
   "outputs": [
    {
     "ename": "IOError",
     "evalue": "[Errno 2] No such file or directory: 'Z:\\\\Kevin\\\\iPosition\\\\Hillary\\\\MRE\\\\actual_coordinates.txt'",
     "traceback": [
      "\u001b[1;31m---------------------------------------------------------------------------\u001b[0m",
      "\u001b[1;31mIOError\u001b[0m                                   Traceback (most recent call last)",
      "\u001b[1;32m<ipython-input-7-93166451346a>\u001b[0m in \u001b[0;36m<module>\u001b[1;34m()\u001b[0m\n\u001b[0;32m     12\u001b[0m \u001b[1;33m\u001b[0m\u001b[0m\n\u001b[0;32m     13\u001b[0m \u001b[1;32mfor\u001b[0m \u001b[0mpid\u001b[0m\u001b[1;33m,\u001b[0m \u001b[0mlabel\u001b[0m\u001b[1;33m,\u001b[0m \u001b[0mtrial_n\u001b[0m \u001b[1;32min\u001b[0m \u001b[0mzip\u001b[0m\u001b[1;33m(\u001b[0m\u001b[0mparticipant_ids\u001b[0m\u001b[1;33m,\u001b[0m \u001b[0mlabels\u001b[0m\u001b[1;33m,\u001b[0m \u001b[0mtrial_nums\u001b[0m\u001b[1;33m)\u001b[0m\u001b[1;33m:\u001b[0m\u001b[1;33m\u001b[0m\u001b[0m\n\u001b[1;32m---> 14\u001b[1;33m     \u001b[0mdata\u001b[0m \u001b[1;33m=\u001b[0m \u001b[0mParticipantData\u001b[0m\u001b[1;33m.\u001b[0m\u001b[0mload_from_file\u001b[0m\u001b[1;33m(\u001b[0m\u001b[0mactual_coordinates_filepath\u001b[0m\u001b[1;33m,\u001b[0m \u001b[0mfilepath_template\u001b[0m\u001b[1;33m.\u001b[0m\u001b[0mformat\u001b[0m\u001b[1;33m(\u001b[0m\u001b[0mpid\u001b[0m\u001b[1;33m)\u001b[0m\u001b[1;33m,\u001b[0m \u001b[1;33m(\u001b[0m\u001b[1;36m15\u001b[0m\u001b[1;33m,\u001b[0m \u001b[1;36m5\u001b[0m\u001b[1;33m,\u001b[0m \u001b[1;36m2\u001b[0m\u001b[1;33m)\u001b[0m\u001b[1;33m)\u001b[0m\u001b[1;33m\u001b[0m\u001b[0m\n\u001b[0m\u001b[0;32m     15\u001b[0m     \u001b[0mdata\u001b[0m\u001b[1;33m.\u001b[0m\u001b[0mtrials\u001b[0m \u001b[1;33m=\u001b[0m \u001b[1;33m[\u001b[0m\u001b[0mdata\u001b[0m\u001b[1;33m.\u001b[0m\u001b[0mtrials\u001b[0m\u001b[1;33m[\u001b[0m\u001b[0mtrial_n\u001b[0m\u001b[1;33m]\u001b[0m\u001b[1;33m]\u001b[0m\u001b[1;33m\u001b[0m\u001b[0m\n\u001b[0;32m     16\u001b[0m     \u001b[0mconfig\u001b[0m \u001b[1;33m=\u001b[0m \u001b[0mAnalysisConfiguration\u001b[0m\u001b[1;33m(\u001b[0m\u001b[0mdebug_labels\u001b[0m\u001b[1;33m=\u001b[0m\u001b[1;33m[\u001b[0m\u001b[0mlabel\u001b[0m\u001b[1;33m,\u001b[0m \u001b[0mtrial_n\u001b[0m\u001b[1;33m]\u001b[0m\u001b[1;33m)\u001b[0m\u001b[1;33m\u001b[0m\u001b[0m\n",
      "\u001b[1;32mC:\\Program Files\\Anaconda3\\envs\\iposition\\lib\\site-packages\\cogrecon\\core\\data_structures.pyc\u001b[0m in \u001b[0;36mload_from_file\u001b[1;34m(actual_coordinates_filepath, data_coordinates_filepath, expected_shape)\u001b[0m\n\u001b[0;32m    157\u001b[0m     \u001b[1;33m@\u001b[0m\u001b[0mstaticmethod\u001b[0m\u001b[1;33m\u001b[0m\u001b[0m\n\u001b[0;32m    158\u001b[0m     \u001b[1;32mdef\u001b[0m \u001b[0mload_from_file\u001b[0m\u001b[1;33m(\u001b[0m\u001b[0mactual_coordinates_filepath\u001b[0m\u001b[1;33m,\u001b[0m \u001b[0mdata_coordinates_filepath\u001b[0m\u001b[1;33m,\u001b[0m \u001b[0mexpected_shape\u001b[0m\u001b[1;33m)\u001b[0m\u001b[1;33m:\u001b[0m\u001b[1;33m\u001b[0m\u001b[0m\n\u001b[1;32m--> 159\u001b[1;33m         \u001b[0mactual\u001b[0m \u001b[1;33m=\u001b[0m \u001b[0mget_coordinates_from_file\u001b[0m\u001b[1;33m(\u001b[0m\u001b[0mactual_coordinates_filepath\u001b[0m\u001b[1;33m,\u001b[0m \u001b[0mexpected_shape\u001b[0m\u001b[1;33m)\u001b[0m\u001b[1;33m\u001b[0m\u001b[0m\n\u001b[0m\u001b[0;32m    160\u001b[0m         \u001b[0mdata\u001b[0m \u001b[1;33m=\u001b[0m \u001b[0mget_coordinates_from_file\u001b[0m\u001b[1;33m(\u001b[0m\u001b[0mdata_coordinates_filepath\u001b[0m\u001b[1;33m,\u001b[0m \u001b[0mexpected_shape\u001b[0m\u001b[1;33m)\u001b[0m\u001b[1;33m\u001b[0m\u001b[0m\n\u001b[0;32m    161\u001b[0m         \u001b[0m_participant_data\u001b[0m \u001b[1;33m=\u001b[0m \u001b[0mParticipantData\u001b[0m\u001b[1;33m(\u001b[0m\u001b[1;33m[\u001b[0m\u001b[0mTrialData\u001b[0m\u001b[1;33m(\u001b[0m\u001b[0m_a\u001b[0m\u001b[1;33m,\u001b[0m \u001b[0m_d\u001b[0m\u001b[1;33m)\u001b[0m \u001b[1;32mfor\u001b[0m \u001b[0m_a\u001b[0m\u001b[1;33m,\u001b[0m \u001b[0m_d\u001b[0m \u001b[1;32min\u001b[0m \u001b[0mzip\u001b[0m\u001b[1;33m(\u001b[0m\u001b[0mactual\u001b[0m\u001b[1;33m,\u001b[0m \u001b[0mdata\u001b[0m\u001b[1;33m)\u001b[0m\u001b[1;33m]\u001b[0m\u001b[1;33m)\u001b[0m\u001b[1;33m\u001b[0m\u001b[0m\n",
      "\u001b[1;32mC:\\Program Files\\Anaconda3\\envs\\iposition\\lib\\site-packages\\cogrecon\\core\\file_io.pyc\u001b[0m in \u001b[0;36mget_coordinates_from_file\u001b[1;34m(path, expected_shape)\u001b[0m\n\u001b[0;32m      9\u001b[0m \u001b[1;31m# Nt is the number of trials (rows) and Ni is the number of items (columns / 2), and 2 is the number of dimensions.\u001b[0m\u001b[1;33m\u001b[0m\u001b[1;33m\u001b[0m\u001b[0m\n\u001b[0;32m     10\u001b[0m \u001b[1;32mdef\u001b[0m \u001b[0mget_coordinates_from_file\u001b[0m\u001b[1;33m(\u001b[0m\u001b[0mpath\u001b[0m\u001b[1;33m,\u001b[0m \u001b[0mexpected_shape\u001b[0m\u001b[1;33m)\u001b[0m\u001b[1;33m:\u001b[0m\u001b[1;33m\u001b[0m\u001b[0m\n\u001b[1;32m---> 11\u001b[1;33m     \u001b[1;32mwith\u001b[0m \u001b[0mopen\u001b[0m\u001b[1;33m(\u001b[0m\u001b[0mos\u001b[0m\u001b[1;33m.\u001b[0m\u001b[0mpath\u001b[0m\u001b[1;33m.\u001b[0m\u001b[0mabspath\u001b[0m\u001b[1;33m(\u001b[0m\u001b[0mpath\u001b[0m\u001b[1;33m)\u001b[0m\u001b[1;33m,\u001b[0m \u001b[1;34m'rU'\u001b[0m\u001b[1;33m)\u001b[0m \u001b[1;32mas\u001b[0m \u001b[0mtsv\u001b[0m\u001b[1;33m:\u001b[0m\u001b[1;33m\u001b[0m\u001b[0m\n\u001b[0m\u001b[0;32m     12\u001b[0m         coordinates = zip(*([float(element.strip()) for element in line.strip().split('\\t')]\n\u001b[0;32m     13\u001b[0m                             for line in tsv if line.strip() is not ''))\n",
      "\u001b[1;31mIOError\u001b[0m: [Errno 2] No such file or directory: 'Z:\\\\Kevin\\\\iPosition\\\\Hillary\\\\MRE\\\\actual_coordinates.txt'"
     ],
     "output_type": "error"
    }
   ],
   "source": [
    "# Now test with data\n",
    "actual_coordinates_filepath = r\"Z:\\Kevin\\iPosition\\Hillary\\MRE\\actual_coordinates.txt\"\n",
    "filepath_template = r\"Z:\\Kevin\\iPosition\\Hillary\\MRE\\{0}\\{0}position_data_coordinates.txt\"\n",
    "participant_ids = ['101', '104', '105', '112', '104', '101', '114', '118', '119', '120', '101', '104', '113', '120']\n",
    "labels = ['Cycle Agree - 101', 'Cycle Agree - 104', 'Cycle Agree - 105', 'Cycle Agree - 112',\n",
    "          'Debatable - 104',\n",
    "          'New Single Swap - 101', 'New Single Swap - 114',\n",
    "          'New Single Swap - 118', 'New Single Swap - 119', 'New Single Swap - 120',\n",
    "          'Old False Positive - 101', 'Old False Positive - 104',\n",
    "          'Old False Positive - 113', 'Old False Positive - 120']\n",
    "trial_nums = [10, 12, 2, 6, 2, 0, 12, 10, 10, 14, 11, 10, 2, 12]\n",
    "\n",
    "for pid, label, trial_n in zip(participant_ids, labels, trial_nums):\n",
    "    data = ParticipantData.load_from_file(actual_coordinates_filepath, filepath_template.format(pid), (15, 5, 2))\n",
    "    data.trials = [data.trials[trial_n]]\n",
    "    config = AnalysisConfiguration(debug_labels=[label, trial_n])\n",
    "    full_pipeline(data, config, visualize=True)"
   ]
  },
  {
   "cell_type": "markdown",
   "metadata": {},
   "source": [
    "# Batch Pipeline Test\n",
    "This section tests the Batch Pipeline, which runs on a folder full of data files, automatically finding the appropriate files."
   ]
  },
  {
   "cell_type": "code",
   "execution_count": 1,
   "metadata": {},
   "outputs": [],
   "source": [
    "import cogrecon\n",
    "from cogrecon.core.batch_pipeline import batch_pipeline\n",
    "from cogrecon.core.data_structures import TrialData, ParticipantData, AnalysisConfiguration\n",
    "import Tkinter as tk\n",
    "from tkFileDialog import askdirectory\n",
    "import os, datetime"
   ]
  },
  {
   "cell_type": "code",
   "execution_count": 4,
   "metadata": {},
   "outputs": [
    {
     "name": "stdout",
     "output_type": "stream",
     "text": [
      "None\n",
      "<type 'NoneType'>\n"
     ]
    },
    {
     "ename": "TypeError",
     "evalue": "coercing to Unicode: need string or buffer, NoneType found",
     "traceback": [
      "\u001b[1;31m---------------------------------------------------------------------------\u001b[0m",
      "\u001b[1;31mTypeError\u001b[0m                                 Traceback (most recent call last)",
      "\u001b[1;32m<ipython-input-4-f711f85e745a>\u001b[0m in \u001b[0;36m<module>\u001b[1;34m()\u001b[0m\n\u001b[0;32m      4\u001b[0m \u001b[1;32mprint\u001b[0m\u001b[1;33m(\u001b[0m\u001b[0mselected_directory\u001b[0m\u001b[1;33m)\u001b[0m\u001b[1;33m\u001b[0m\u001b[0m\n\u001b[0;32m      5\u001b[0m \u001b[1;32mprint\u001b[0m\u001b[1;33m(\u001b[0m\u001b[0mtype\u001b[0m\u001b[1;33m(\u001b[0m\u001b[0mselected_directory\u001b[0m\u001b[1;33m)\u001b[0m\u001b[1;33m)\u001b[0m\u001b[1;33m\u001b[0m\u001b[0m\n\u001b[1;32m----> 6\u001b[1;33m \u001b[1;32mif\u001b[0m \u001b[0mos\u001b[0m\u001b[1;33m.\u001b[0m\u001b[0mpath\u001b[0m\u001b[1;33m.\u001b[0m\u001b[0mexists\u001b[0m\u001b[1;33m(\u001b[0m\u001b[0mselected_directory\u001b[0m\u001b[1;33m)\u001b[0m\u001b[1;33m:\u001b[0m\u001b[1;33m\u001b[0m\u001b[0m\n\u001b[0m\u001b[0;32m      7\u001b[0m     \u001b[0mbatch_pipeline\u001b[0m\u001b[1;33m(\u001b[0m\u001b[0mstr\u001b[0m\u001b[1;33m(\u001b[0m\u001b[0mselected_directory\u001b[0m\u001b[1;33m)\u001b[0m\u001b[1;33m,\u001b[0m \u001b[0mdatetime\u001b[0m\u001b[1;33m.\u001b[0m\u001b[0mdatetime\u001b[0m\u001b[1;33m.\u001b[0m\u001b[0mnow\u001b[0m\u001b[1;33m(\u001b[0m\u001b[1;33m)\u001b[0m\u001b[1;33m.\u001b[0m\u001b[0mstrftime\u001b[0m\u001b[1;33m(\u001b[0m\u001b[1;34m\"%Y-%m-%d_%H-%M-%S.csv\"\u001b[0m\u001b[1;33m)\u001b[0m\u001b[1;33m)\u001b[0m\u001b[1;33m\u001b[0m\u001b[0m\n\u001b[0;32m      8\u001b[0m \u001b[1;32melif\u001b[0m \u001b[0mselected_directory\u001b[0m \u001b[1;32mis\u001b[0m \u001b[1;32mnot\u001b[0m \u001b[1;34m''\u001b[0m\u001b[1;33m:\u001b[0m\u001b[1;33m\u001b[0m\u001b[0m\n",
      "\u001b[1;32mC:\\Program Files\\Anaconda3\\envs\\iposition\\lib\\genericpath.pyc\u001b[0m in \u001b[0;36mexists\u001b[1;34m(path)\u001b[0m\n\u001b[0;32m     24\u001b[0m     \u001b[1;34m\"\"\"Test whether a path exists.  Returns False for broken symbolic links\"\"\"\u001b[0m\u001b[1;33m\u001b[0m\u001b[0m\n\u001b[0;32m     25\u001b[0m     \u001b[1;32mtry\u001b[0m\u001b[1;33m:\u001b[0m\u001b[1;33m\u001b[0m\u001b[0m\n\u001b[1;32m---> 26\u001b[1;33m         \u001b[0mos\u001b[0m\u001b[1;33m.\u001b[0m\u001b[0mstat\u001b[0m\u001b[1;33m(\u001b[0m\u001b[0mpath\u001b[0m\u001b[1;33m)\u001b[0m\u001b[1;33m\u001b[0m\u001b[0m\n\u001b[0m\u001b[0;32m     27\u001b[0m     \u001b[1;32mexcept\u001b[0m \u001b[0mos\u001b[0m\u001b[1;33m.\u001b[0m\u001b[0merror\u001b[0m\u001b[1;33m:\u001b[0m\u001b[1;33m\u001b[0m\u001b[0m\n\u001b[0;32m     28\u001b[0m         \u001b[1;32mreturn\u001b[0m \u001b[0mFalse\u001b[0m\u001b[1;33m\u001b[0m\u001b[0m\n",
      "\u001b[1;31mTypeError\u001b[0m: coercing to Unicode: need string or buffer, NoneType found"
     ],
     "output_type": "error"
    }
   ],
   "source": [
    "import easygui\n",
    "selected_directory = easygui.fileopenbox()\n",
    "\n",
    "print(selected_directory)\n",
    "print(type(selected_directory))\n",
    "if os.path.exists(selected_directory):\n",
    "    batch_pipeline(str(selected_directory), datetime.datetime.now().strftime(\"%Y-%m-%d_%H-%M-%S.csv\"))\n",
    "elif selected_directory is not '':\n",
    "    logging.error('Directory not found.')"
   ]
  },
  {
   "cell_type": "code",
   "execution_count": 5,
   "metadata": {},
   "outputs": [
    {
     "name": "stderr",
     "output_type": "stream",
     "text": [
      "INFO:root:Finding files in folder Z:\\Kevin\\iPosition\\Hillary\\MRE.\n",
      "ERROR:root:The input path was not found.\n"
     ]
    },
    {
     "ename": "NameError",
     "evalue": "global name 'exit' is not defined",
     "traceback": [
      "\u001b[1;31m---------------------------------------------------------------------------\u001b[0m",
      "\u001b[1;31mNameError\u001b[0m                                 Traceback (most recent call last)",
      "\u001b[1;32m<ipython-input-5-df63b852438d>\u001b[0m in \u001b[0;36m<module>\u001b[1;34m()\u001b[0m\n\u001b[0;32m      1\u001b[0m batch_pipeline(\"Z:\\\\Kevin\\\\iPosition\\\\Hillary\\\\MRE\",\n\u001b[0;32m      2\u001b[0m                \u001b[0mdatetime\u001b[0m\u001b[1;33m.\u001b[0m\u001b[0mdatetime\u001b[0m\u001b[1;33m.\u001b[0m\u001b[0mnow\u001b[0m\u001b[1;33m(\u001b[0m\u001b[1;33m)\u001b[0m\u001b[1;33m.\u001b[0m\u001b[0mstrftime\u001b[0m\u001b[1;33m(\u001b[0m\u001b[1;34m\"%Y-%m-%d_%H-%M-%S.csv\"\u001b[0m\u001b[1;33m)\u001b[0m\u001b[1;33m,\u001b[0m\u001b[1;33m\u001b[0m\u001b[0m\n\u001b[1;32m----> 3\u001b[1;33m                data_shape=(15, 5, 2))\n\u001b[0m",
      "\u001b[1;32mC:\\Program Files\\Anaconda3\\envs\\iposition\\lib\\site-packages\\cogrecon\\core\\batch_pipeline.pyc\u001b[0m in \u001b[0;36mbatch_pipeline\u001b[1;34m(search_directory, out_filename, data_shape, accuracy_z_value, trial_by_trial_accuracy, flags, collapse_trials, dimension, prefix_length, actual_coordinate_prefixes, manual_threshold)\u001b[0m\n\u001b[0;32m    225\u001b[0m     \u001b[1;32mexcept\u001b[0m \u001b[0mIOError\u001b[0m\u001b[1;33m:\u001b[0m\u001b[1;33m\u001b[0m\u001b[0m\n\u001b[0;32m    226\u001b[0m         \u001b[0mlogging\u001b[0m\u001b[1;33m.\u001b[0m\u001b[0merror\u001b[0m\u001b[1;33m(\u001b[0m\u001b[1;34m'The input path was not found.'\u001b[0m\u001b[1;33m)\u001b[0m\u001b[1;33m\u001b[0m\u001b[0m\n\u001b[1;32m--> 227\u001b[1;33m         \u001b[0mexit\u001b[0m\u001b[1;33m(\u001b[0m\u001b[1;33m)\u001b[0m\u001b[1;33m\u001b[0m\u001b[0m\n\u001b[0m\u001b[0;32m    228\u001b[0m \u001b[1;33m\u001b[0m\u001b[0m\n\u001b[0;32m    229\u001b[0m     \u001b[0mlogging\u001b[0m\u001b[1;33m.\u001b[0m\u001b[0minfo\u001b[0m\u001b[1;33m(\u001b[0m\u001b[1;34m'Parsing files with expected shape {0}.'\u001b[0m\u001b[1;33m.\u001b[0m\u001b[0mformat\u001b[0m\u001b[1;33m(\u001b[0m\u001b[0mdata_shape\u001b[0m\u001b[1;33m)\u001b[0m\u001b[1;33m)\u001b[0m\u001b[1;33m\u001b[0m\u001b[0m\n",
      "\u001b[1;31mNameError\u001b[0m: global name 'exit' is not defined"
     ],
     "output_type": "error"
    }
   ],
   "source": [
    "batch_pipeline(\"Z:\\\\Kevin\\\\iPosition\\\\Hillary\\\\MRE\",\n",
    "               datetime.datetime.now().strftime(\"%Y-%m-%d_%H-%M-%S.csv\"),\n",
    "               data_shape=(15, 5, 2))"
   ]
  },
  {
   "cell_type": "code",
   "execution_count": null,
   "metadata": {
    "collapsed": true
   },
   "outputs": [],
   "source": [
    ""
   ]
  }
 ],
 "metadata": {
  "kernelspec": {
   "display_name": "Python 2",
   "language": "python",
   "name": "python2"
  },
  "language_info": {
   "codemirror_mode": {
    "name": "ipython",
    "version": 2.0
   },
   "file_extension": ".py",
   "mimetype": "text/x-python",
   "name": "python",
   "nbconvert_exporter": "python",
   "pygments_lexer": "ipython2",
   "version": "2.7.13"
  }
 },
 "nbformat": 4,
 "nbformat_minor": 0
}