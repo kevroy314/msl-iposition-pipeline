{
 "cells": [
  {
   "cell_type": "markdown",
   "metadata": {},
   "source": [
    "# 2-Room Spatial Navigation Analyses\n",
    "\n",
    "This document contains a demonstration of how to analyse and visualize the 2-Room Spatial Navigation data.\n",
    "\n",
    "First, we import the required libraries."
   ]
  },
  {
   "cell_type": "code",
   "execution_count": 1,
   "metadata": {
    "collapsed": true
   },
   "outputs": [],
   "source": [
    "import cogrecon.core.data_flexing.spatial_navigation.spatial_navigation_analytics as analytics\n",
    "import cogrecon.core.data_flexing.spatial_navigation.spatial_navigation_parser as parser\n",
    "import os"
   ]
  },
  {
   "cell_type": "markdown",
   "metadata": {},
   "source": [
    "Then we establish our data directory and set the expected item labels given our experiment setup (for 2-room, the item labels are listed below)."
   ]
  },
  {
   "cell_type": "code",
   "execution_count": 2,
   "metadata": {},
   "outputs": [],
   "source": [
    "directory = r'Z:\\Kelsey\\2017 Summer RetLu\\Virtual_Navigation_Task\\v5_2\\NavigationTask_Data\\Logged_Data'\n",
    "parser.study_labels = ['PurseCube', 'CrownCube', 'BasketballCube', 'BootCube', 'CloverCube', 'GuitarCube', 'HammerCube', 'LemonCube', 'IceCubeCube', 'BottleCube']"
   ]
  },
  {
   "cell_type": "markdown",
   "metadata": {},
   "source": [
    "Next, we'll generate the intermediate file for the test data. This file summarizes all of the critical information about the test locations in one file. We can also use this function to filter out individuals without the minimum number of required trial."
   ]
  },
  {
   "cell_type": "markdown",
   "metadata": {},
   "source": [
    "## TODO: Fix \"incomplete trial\" checker"
   ]
  },
  {
   "cell_type": "code",
   "execution_count": 3,
   "metadata": {},
   "outputs": [
    {
     "name": "stderr",
     "output_type": "stream",
     "text": [
      "2018-01-28 18:17:32 DESKTOP-LKC15NF root[217840] INFO Done parsing command line arguments.\n",
      "2018-01-28 18:17:39 DESKTOP-LKC15NF root[217840] INFO Found 446 files. Attempting to catalog filenames by Individual, Trial, and Phase\n",
      "2018-01-28 18:17:39 DESKTOP-LKC15NF root[217840] INFO Found 222 raw files, 222 summary files, 0 test 2d raw files, and 2 non-matching files. Attempting to associate files.\n",
      "2018-01-28 18:17:39 DESKTOP-LKC15NF root[217840] INFO Done cataloging files. 24 individuals found which conform to the trial minimum (4). 2 files not matching any expected filename format. 0 files excluded on input criteria.\n",
      "2018-01-28 18:17:39 DESKTOP-LKC15NF root[217840] INFO Output directory (C:\\Users\\Kevin\\Documents\\GitHub\\msl-iposition-pipeline\\examples\\2018-01-28_18-17-39) created.\n",
      "2018-01-28 18:17:39 DESKTOP-LKC15NF root[217840] INFO Creating output files.\n",
      "2018-01-28 18:17:39 DESKTOP-LKC15NF root[217840] INFO Parsing input files.\n",
      "2018-01-28 18:17:40 DESKTOP-LKC15NF root[217840] INFO Parsing Individual 151 (1/24).\n",
      "2018-01-28 18:17:40 DESKTOP-LKC15NF root[217840] INFO Parsing Trial 0 (1/4).\n",
      "2018-01-28 18:17:40 DESKTOP-LKC15NF root[217840] INFO Parsing Trial 1 (2/4).\n",
      "2018-01-28 18:17:40 DESKTOP-LKC15NF root[217840] INFO Parsing Trial 2 (3/4).\n",
      "2018-01-28 18:17:40 DESKTOP-LKC15NF root[217840] INFO Parsing Trial 3 (4/4).\n",
      "2018-01-28 18:17:41 DESKTOP-LKC15NF root[217840] INFO Parsing Individual 150 (2/24).\n",
      "2018-01-28 18:17:41 DESKTOP-LKC15NF root[217840] INFO Parsing Trial 0 (1/4).\n",
      "2018-01-28 18:17:41 DESKTOP-LKC15NF root[217840] INFO Parsing Trial 1 (2/4).\n",
      "2018-01-28 18:17:41 DESKTOP-LKC15NF root[217840] INFO Parsing Trial 2 (3/4).\n",
      "2018-01-28 18:17:42 DESKTOP-LKC15NF root[217840] INFO Parsing Trial 3 (4/4).\n",
      "2018-01-28 18:17:42 DESKTOP-LKC15NF root[217840] INFO Parsing Individual 153 (3/24).\n",
      "2018-01-28 18:17:42 DESKTOP-LKC15NF root[217840] INFO Parsing Trial 0 (1/5).\n",
      "2018-01-28 18:17:42 DESKTOP-LKC15NF root[217840] INFO Parsing Trial 1 (2/5).\n",
      "2018-01-28 18:17:43 DESKTOP-LKC15NF root[217840] INFO Parsing Trial 2 (3/5).\n",
      "2018-01-28 18:17:43 DESKTOP-LKC15NF root[217840] INFO Parsing Trial 3 (4/5).\n",
      "2018-01-28 18:17:43 DESKTOP-LKC15NF root[217840] WARNING Warning: The summary file Z:\\Kelsey\\2017 Summer RetLu\\Virtual_Navigation_Task\\v5_2\\NavigationTask_Data\\Logged_Data\\2RoomStudy\\153\\SummaryLog_Sub153_Trial4_16_25_31_13-12-2017.csv contains an incorrect accounting (found 5, expected 10) of objects. This may impact parsing in unpredictable ways.\n",
      "2018-01-28 18:17:43 DESKTOP-LKC15NF root[217840] INFO Parsing Trial 4 (5/5).\n",
      "2018-01-28 18:17:43 DESKTOP-LKC15NF root[217840] INFO Parsing Individual 155 (4/24).\n",
      "2018-01-28 18:17:43 DESKTOP-LKC15NF root[217840] INFO Parsing Trial 0 (1/4).\n",
      "2018-01-28 18:17:43 DESKTOP-LKC15NF root[217840] INFO Parsing Trial 1 (2/4).\n",
      "2018-01-28 18:17:44 DESKTOP-LKC15NF root[217840] INFO Parsing Trial 2 (3/4).\n",
      "2018-01-28 18:17:44 DESKTOP-LKC15NF root[217840] INFO Parsing Trial 3 (4/4).\n",
      "2018-01-28 18:17:44 DESKTOP-LKC15NF root[217840] INFO Parsing Individual 154 (5/24).\n",
      "2018-01-28 18:17:44 DESKTOP-LKC15NF root[217840] INFO Parsing Trial 0 (1/4).\n",
      "2018-01-28 18:17:45 DESKTOP-LKC15NF root[217840] INFO Parsing Trial 1 (2/4).\n",
      "2018-01-28 18:17:45 DESKTOP-LKC15NF root[217840] INFO Parsing Trial 2 (3/4).\n",
      "2018-01-28 18:17:45 DESKTOP-LKC15NF root[217840] INFO Parsing Trial 3 (4/4).\n",
      "2018-01-28 18:17:46 DESKTOP-LKC15NF root[217840] INFO Parsing Individual 131 (6/24).\n",
      "2018-01-28 18:17:46 DESKTOP-LKC15NF root[217840] INFO Parsing Trial 0 (1/4).\n",
      "2018-01-28 18:17:46 DESKTOP-LKC15NF root[217840] INFO Parsing Trial 1 (2/4).\n",
      "2018-01-28 18:17:46 DESKTOP-LKC15NF root[217840] INFO Parsing Trial 2 (3/4).\n",
      "2018-01-28 18:17:46 DESKTOP-LKC15NF root[217840] INFO Parsing Trial 3 (4/4).\n",
      "2018-01-28 18:17:47 DESKTOP-LKC15NF root[217840] INFO Parsing Individual 130 (7/24).\n",
      "2018-01-28 18:17:47 DESKTOP-LKC15NF root[217840] INFO Parsing Trial 0 (1/4).\n",
      "2018-01-28 18:17:47 DESKTOP-LKC15NF root[217840] INFO Parsing Trial 1 (2/4).\n",
      "2018-01-28 18:17:48 DESKTOP-LKC15NF root[217840] INFO Parsing Trial 2 (3/4).\n",
      "2018-01-28 18:17:48 DESKTOP-LKC15NF root[217840] INFO Parsing Trial 3 (4/4).\n",
      "2018-01-28 18:17:48 DESKTOP-LKC15NF root[217840] INFO Parsing Individual 137 (8/24).\n",
      "2018-01-28 18:17:48 DESKTOP-LKC15NF root[217840] INFO Parsing Trial 0 (1/4).\n",
      "2018-01-28 18:17:49 DESKTOP-LKC15NF root[217840] INFO Parsing Trial 1 (2/4).\n",
      "2018-01-28 18:17:49 DESKTOP-LKC15NF root[217840] INFO Parsing Trial 2 (3/4).\n",
      "2018-01-28 18:17:50 DESKTOP-LKC15NF root[217840] INFO Parsing Trial 3 (4/4).\n",
      "2018-01-28 18:17:50 DESKTOP-LKC15NF root[217840] INFO Parsing Individual 136 (9/24).\n",
      "2018-01-28 18:17:50 DESKTOP-LKC15NF root[217840] INFO Parsing Trial 0 (1/4).\n",
      "2018-01-28 18:17:50 DESKTOP-LKC15NF root[217840] INFO Parsing Trial 1 (2/4).\n",
      "2018-01-28 18:17:51 DESKTOP-LKC15NF root[217840] INFO Parsing Trial 2 (3/4).\n",
      "2018-01-28 18:17:51 DESKTOP-LKC15NF root[217840] INFO Parsing Trial 3 (4/4).\n",
      "2018-01-28 18:17:51 DESKTOP-LKC15NF root[217840] INFO Parsing Individual 135 (10/24).\n",
      "2018-01-28 18:17:51 DESKTOP-LKC15NF root[217840] INFO Parsing Trial 0 (1/4).\n",
      "2018-01-28 18:17:52 DESKTOP-LKC15NF root[217840] INFO Parsing Trial 1 (2/4).\n",
      "2018-01-28 18:17:52 DESKTOP-LKC15NF root[217840] INFO Parsing Trial 2 (3/4).\n",
      "2018-01-28 18:17:52 DESKTOP-LKC15NF root[217840] INFO Parsing Trial 3 (4/4).\n",
      "2018-01-28 18:17:53 DESKTOP-LKC15NF root[217840] INFO Parsing Individual 134 (11/24).\n",
      "2018-01-28 18:17:53 DESKTOP-LKC15NF root[217840] INFO Parsing Trial 0 (1/4).\n",
      "2018-01-28 18:17:53 DESKTOP-LKC15NF root[217840] INFO Parsing Trial 1 (2/4).\n",
      "2018-01-28 18:17:53 DESKTOP-LKC15NF root[217840] INFO Parsing Trial 2 (3/4).\n",
      "2018-01-28 18:17:54 DESKTOP-LKC15NF root[217840] INFO Parsing Trial 3 (4/4).\n",
      "2018-01-28 18:17:54 DESKTOP-LKC15NF root[217840] INFO Parsing Individual 138 (12/24).\n",
      "2018-01-28 18:17:54 DESKTOP-LKC15NF root[217840] INFO Parsing Trial 0 (1/4).\n",
      "2018-01-28 18:17:54 DESKTOP-LKC15NF root[217840] INFO Parsing Trial 1 (2/4).\n",
      "2018-01-28 18:17:55 DESKTOP-LKC15NF root[217840] INFO Parsing Trial 2 (3/4).\n",
      "2018-01-28 18:17:55 DESKTOP-LKC15NF root[217840] INFO Parsing Trial 3 (4/4).\n",
      "2018-01-28 18:17:55 DESKTOP-LKC15NF root[217840] INFO Parsing Individual 146 (13/24).\n",
      "2018-01-28 18:17:55 DESKTOP-LKC15NF root[217840] INFO Parsing Trial 0 (1/4).\n",
      "2018-01-28 18:17:56 DESKTOP-LKC15NF root[217840] INFO Parsing Trial 1 (2/4).\n",
      "2018-01-28 18:17:56 DESKTOP-LKC15NF root[217840] INFO Parsing Trial 2 (3/4).\n",
      "2018-01-28 18:17:56 DESKTOP-LKC15NF root[217840] INFO Parsing Trial 3 (4/4).\n",
      "2018-01-28 18:17:57 DESKTOP-LKC15NF root[217840] INFO Parsing Individual 147 (14/24).\n",
      "2018-01-28 18:17:57 DESKTOP-LKC15NF root[217840] INFO Parsing Trial 0 (1/4).\n",
      "2018-01-28 18:17:57 DESKTOP-LKC15NF root[217840] INFO Parsing Trial 1 (2/4).\n",
      "2018-01-28 18:17:57 DESKTOP-LKC15NF root[217840] INFO Parsing Trial 2 (3/4).\n",
      "2018-01-28 18:17:57 DESKTOP-LKC15NF root[217840] INFO Parsing Trial 3 (4/4).\n",
      "2018-01-28 18:17:58 DESKTOP-LKC15NF root[217840] INFO Parsing Individual 144 (15/24).\n",
      "2018-01-28 18:17:58 DESKTOP-LKC15NF root[217840] INFO Parsing Trial 0 (1/4).\n",
      "2018-01-28 18:17:58 DESKTOP-LKC15NF root[217840] INFO Parsing Trial 1 (2/4).\n",
      "2018-01-28 18:17:58 DESKTOP-LKC15NF root[217840] INFO Parsing Trial 2 (3/4).\n",
      "2018-01-28 18:17:59 DESKTOP-LKC15NF root[217840] INFO Parsing Trial 3 (4/4).\n",
      "2018-01-28 18:17:59 DESKTOP-LKC15NF root[217840] INFO Parsing Individual 145 (16/24).\n",
      "2018-01-28 18:17:59 DESKTOP-LKC15NF root[217840] INFO Parsing Trial 0 (1/4).\n",
      "2018-01-28 18:17:59 DESKTOP-LKC15NF root[217840] INFO Parsing Trial 1 (2/4).\n",
      "2018-01-28 18:18:00 DESKTOP-LKC15NF root[217840] INFO Parsing Trial 2 (3/4).\n",
      "2018-01-28 18:18:00 DESKTOP-LKC15NF root[217840] INFO Parsing Trial 3 (4/4).\n",
      "2018-01-28 18:18:00 DESKTOP-LKC15NF root[217840] INFO Parsing Individual 142 (17/24).\n",
      "2018-01-28 18:18:00 DESKTOP-LKC15NF root[217840] INFO Parsing Trial 0 (1/4).\n",
      "2018-01-28 18:18:01 DESKTOP-LKC15NF root[217840] INFO Parsing Trial 1 (2/4).\n",
      "2018-01-28 18:18:01 DESKTOP-LKC15NF root[217840] INFO Parsing Trial 2 (3/4).\n",
      "2018-01-28 18:18:01 DESKTOP-LKC15NF root[217840] INFO Parsing Trial 3 (4/4).\n",
      "2018-01-28 18:18:02 DESKTOP-LKC15NF root[217840] INFO Parsing Individual 143 (18/24).\n"
     ]
    },
    {
     "name": "stderr",
     "output_type": "stream",
     "text": [
      "2018-01-28 18:18:02 DESKTOP-LKC15NF root[217840] INFO Parsing Trial 0 (1/4).\n",
      "2018-01-28 18:18:02 DESKTOP-LKC15NF root[217840] INFO Parsing Trial 1 (2/4).\n",
      "2018-01-28 18:18:02 DESKTOP-LKC15NF root[217840] INFO Parsing Trial 2 (3/4).\n",
      "2018-01-28 18:18:03 DESKTOP-LKC15NF root[217840] INFO Parsing Trial 3 (4/4).\n",
      "2018-01-28 18:18:03 DESKTOP-LKC15NF root[217840] INFO Parsing Individual 141 (19/24).\n",
      "2018-01-28 18:18:03 DESKTOP-LKC15NF root[217840] INFO Parsing Trial 0 (1/4).\n",
      "2018-01-28 18:18:03 DESKTOP-LKC15NF root[217840] INFO Parsing Trial 1 (2/4).\n",
      "2018-01-28 18:18:04 DESKTOP-LKC15NF root[217840] INFO Parsing Trial 2 (3/4).\n",
      "2018-01-28 18:18:04 DESKTOP-LKC15NF root[217840] INFO Parsing Trial 3 (4/4).\n",
      "2018-01-28 18:18:04 DESKTOP-LKC15NF root[217840] INFO Parsing Individual 148 (20/24).\n",
      "2018-01-28 18:18:04 DESKTOP-LKC15NF root[217840] INFO Parsing Trial 0 (1/4).\n",
      "2018-01-28 18:18:05 DESKTOP-LKC15NF root[217840] INFO Parsing Trial 1 (2/4).\n",
      "2018-01-28 18:18:05 DESKTOP-LKC15NF root[217840] INFO Parsing Trial 2 (3/4).\n",
      "2018-01-28 18:18:05 DESKTOP-LKC15NF root[217840] INFO Parsing Trial 3 (4/4).\n",
      "2018-01-28 18:18:06 DESKTOP-LKC15NF root[217840] INFO Parsing Individual 123 (21/24).\n",
      "2018-01-28 18:18:06 DESKTOP-LKC15NF root[217840] INFO Parsing Trial 0 (1/4).\n",
      "2018-01-28 18:18:06 DESKTOP-LKC15NF root[217840] INFO Parsing Trial 1 (2/4).\n",
      "2018-01-28 18:18:06 DESKTOP-LKC15NF root[217840] INFO Parsing Trial 2 (3/4).\n",
      "2018-01-28 18:18:06 DESKTOP-LKC15NF root[217840] INFO Parsing Trial 3 (4/4).\n",
      "2018-01-28 18:18:07 DESKTOP-LKC15NF root[217840] INFO Parsing Individual 124 (22/24).\n",
      "2018-01-28 18:18:07 DESKTOP-LKC15NF root[217840] INFO Parsing Trial 0 (1/4).\n",
      "2018-01-28 18:18:07 DESKTOP-LKC15NF root[217840] INFO Parsing Trial 1 (2/4).\n",
      "2018-01-28 18:18:07 DESKTOP-LKC15NF root[217840] INFO Parsing Trial 2 (3/4).\n",
      "2018-01-28 18:18:08 DESKTOP-LKC15NF root[217840] INFO Parsing Trial 3 (4/4).\n",
      "2018-01-28 18:18:08 DESKTOP-LKC15NF root[217840] INFO Parsing Individual 128 (23/24).\n",
      "2018-01-28 18:18:08 DESKTOP-LKC15NF root[217840] INFO Parsing Trial 0 (1/4).\n",
      "2018-01-28 18:18:08 DESKTOP-LKC15NF root[217840] INFO Parsing Trial 1 (2/4).\n",
      "2018-01-28 18:18:09 DESKTOP-LKC15NF root[217840] INFO Parsing Trial 2 (3/4).\n",
      "2018-01-28 18:18:09 DESKTOP-LKC15NF root[217840] INFO Parsing Trial 3 (4/4).\n",
      "2018-01-28 18:18:09 DESKTOP-LKC15NF root[217840] INFO Parsing Individual 129 (24/24).\n",
      "2018-01-28 18:18:09 DESKTOP-LKC15NF root[217840] INFO Parsing Trial 0 (1/4).\n",
      "2018-01-28 18:18:10 DESKTOP-LKC15NF root[217840] INFO Parsing Trial 1 (2/4).\n",
      "2018-01-28 18:18:10 DESKTOP-LKC15NF root[217840] INFO Parsing Trial 2 (3/4).\n",
      "2018-01-28 18:18:10 DESKTOP-LKC15NF root[217840] INFO Parsing Trial 3 (4/4).\n",
      "2018-01-28 18:18:10 DESKTOP-LKC15NF root[217840] INFO Done parsing input files.\n",
      "2018-01-28 18:18:10 DESKTOP-LKC15NF root[217840] INFO Closing output files.\n",
      "2018-01-28 18:18:11 DESKTOP-LKC15NF root[217840] INFO Parsing complete.\n"
     ]
    }
   ],
   "source": [
    "analytics.generate_intermediate_files(directory, full_study_path=False, full_study_look=False, full_test_path=False,\n",
    "                                full_test_look=False, full_practice_path=False, full_practice_look=False,\n",
    "                                full_test_2d=False, full_test_vr=True, min_num_trials=4)"
   ]
  },
  {
   "cell_type": "markdown",
   "metadata": {},
   "source": [
    "Next, we can use the output of the intermediate file (note that you'll need to change the file path according to your date/time of running the analysis) to generate the iPosition formatted outputs. "
   ]
  },
  {
   "cell_type": "code",
   "execution_count": 5,
   "metadata": {},
   "outputs": [],
   "source": [
    "import cogrecon.core.data_flexing.spatial_navigation.spatial_navigation_analytics as analytics\n",
    "import os\n",
    "\n",
    "intermediate_files_dir = r'C:\\Users\\Kevin\\Documents\\GitHub\\msl-iposition-pipeline\\examples\\2018-01-28_18-17-39'\n",
    "destination = r'C:\\Users\\Kevin\\Documents\\GitHub\\msl-iposition-pipeline\\examples\\2-room-iposition'\n",
    "analytics.convert_to_iposition(os.path.join(intermediate_files_dir, r'vr_test.csv'), destination)"
   ]
  },
  {
   "cell_type": "markdown",
   "metadata": {},
   "source": [
    "Finally, we'll get the iPosition output for the converted files."
   ]
  },
  {
   "cell_type": "code",
   "execution_count": null,
   "metadata": {
    "collapsed": true
   },
   "outputs": [],
   "source": [
    "from cogrecon.core.batch_pipeline import batch_pipeline\n",
    "import datetime\n",
    "import logging\n",
    "\n",
    "batch_pipeline(r\"C:\\Users\\Kevin\\Documents\\GitHub\\msl-iposition-pipeline\\tests\\saved_data\\4-room-iposition\",\n",
    "               datetime.datetime.now().strftime(\"Holodeck 4-Room Spatial Navigation - %Y-%m-%d_%H-%M-%S.csv\"), \n",
    "               trial_by_trial_accuracy=False)\n",
    "\n",
    "batch_pipeline(r\"C:\\Users\\Kevin\\Documents\\GitHub\\msl-iposition-pipeline\\tests\\saved_data\\4-room-iposition\",\n",
    "               datetime.datetime.now().strftime(\"Holodeck 4-Room Spatial Navigation with Categories - %Y-%m-%d_%H-%M-%S.csv\"), \n",
    "               category_independence_enabled=True, category_prefixes=True, trial_by_trial_accuracy=False)"
   ]
  },
  {
   "cell_type": "markdown",
   "metadata": {},
   "source": [
    "## Context Boundary Analysis\n",
    "\n",
    "Next, we'll look at whether or not context boundary effects were present in the data."
   ]
  },
  {
   "cell_type": "code",
   "execution_count": null,
   "metadata": {
    "collapsed": true
   },
   "outputs": [],
   "source": [
    "intermediate_files_dir = r'C:\\Users\\Kevin\\Documents\\GitHub\\msl-iposition-pipeline\\tests\\saved_data\\2017-06-27_19-13-53'\n",
    "\n",
    "analytics.generate_segmentation_analysis(intermediate_files_dir + r'\\vr_test.csv', '4-room_segmentation_analysis.csv')"
   ]
  },
  {
   "cell_type": "code",
   "execution_count": null,
   "metadata": {
    "collapsed": true
   },
   "outputs": [],
   "source": [
    "from cogrecon.core.data_structures import ParticipantData, AnalysisConfiguration\n",
    "from cogrecon.core.full_pipeline import full_pipeline\n",
    "\n",
    "subid = '135'\n",
    "\n",
    "root_path = r'C:\\Users\\Kevin\\Documents\\GitHub\\msl-iposition-pipeline\\tests\\saved_data\\4-room-iposition'\n",
    "full_pipeline(ParticipantData.load_from_file(root_path + r'\\actual_coordinates.txt', \n",
    "                                             root_path + r'\\{0}position_data_coordinates.txt'.format(subid), \n",
    "                                             None), \n",
    "              AnalysisConfiguration(trial_by_trial_accuracy=False), \n",
    "              visualize=True)"
   ]
  },
  {
   "cell_type": "markdown",
   "metadata": {},
   "source": [
    "## Visualize a Path"
   ]
  },
  {
   "cell_type": "code",
   "execution_count": 1,
   "metadata": {
    "collapsed": true
   },
   "outputs": [],
   "source": [
    "from cogrecon.core.visualization.vis_spatial_navigation_2room import visualize\n",
    "import os.path\n",
    "from matplotlib import rc\n",
    "rc('animation', html='html5')\n",
    "\n",
    "%matplotlib inline"
   ]
  },
  {
   "cell_type": "code",
   "execution_count": 2,
   "metadata": {
    "collapsed": true
   },
   "outputs": [],
   "source": [
    "directory = r'Z:\\Kelsey\\2017 Summer RetLu\\Virtual_Navigation_Task\\v5_2\\NavigationTask_Data\\Logged_Data\\2RoomTestAnonymous\\124'\n",
    "raw_filepath = os.path.join(directory, 'RawLog_Sub124_Trial1_13_15_57_30-05-2017.csv')\n",
    "summary_filepath = os.path.join(directory, 'SummaryLog_Sub124_Trial1_13_15_57_30-05-2017.csv')"
   ]
  },
  {
   "cell_type": "code",
   "execution_count": 5,
   "metadata": {},
   "outputs": [
    {
     "name": "stderr",
     "output_type": "stream",
     "text": [
      "2018-01-26 17:45:28 DESKTOP-LKC15NF root[178952] INFO Reading raw file Z:\\Kelsey\\2017 Summer RetLu\\Virtual_Navigation_Task\\v5_2\\NavigationTask_Data\\Logged_Data\\2RoomTestAnonymous\\124\\RawLog_Sub124_Trial1_13_15_57_30-05-2017.csv...\n",
      "2018-01-26 17:45:48 DESKTOP-LKC15NF root[178952] INFO Reading summary file Z:\\Kelsey\\2017 Summer RetLu\\Virtual_Navigation_Task\\v5_2\\NavigationTask_Data\\Logged_Data\\2RoomTestAnonymous\\124\\SummaryLog_Sub124_Trial1_13_15_57_30-05-2017.csv...\n",
      "2018-01-26 17:45:48 DESKTOP-LKC15NF root[178952] INFO Processing raw path into simple path...\n",
      "2018-01-26 17:45:48 DESKTOP-LKC15NF root[178952] INFO Plotting 77793 points.\n",
      "2018-01-26 17:45:48 DESKTOP-LKC15NF root[178952] INFO Processing raw path into simple orientation...\n",
      "2018-01-26 17:45:49 DESKTOP-LKC15NF root[178952] INFO Compressing data points...\n",
      "2018-01-26 17:45:50 DESKTOP-LKC15NF root[178952] INFO Plotting 17890 compressed points.\n",
      "2018-01-26 17:45:50 DESKTOP-LKC15NF root[178952] INFO Generating figures...\n",
      "2018-01-26 17:45:50 DESKTOP-LKC15NF root[178952] INFO Loading background image...\n",
      "2018-01-26 17:45:50 DESKTOP-LKC15NF root[178952] INFO Generating animation...\n",
      "2018-01-26 17:45:50 DESKTOP-LKC15NF root[178952] INFO Showing figure...\n"
     ]
    },
    {
     "data": {
      "image/png": "[encoded data removed]",
      "text/plain": [
       "<matplotlib.figure.Figure at 0x5e20630>"
      ]
     },
     "metadata": {},
     "output_type": "display_data"
    }
   ],
   "source": [
    "anim = visualize(raw_filepath, summary_filepath)"
   ]
  },
  {
   "cell_type": "code",
   "execution_count": 6,
   "metadata": {},
   "outputs": [
    {
     "ename": "IndexError",
     "evalue": "index 17890 is out of bounds for axis 1 with size 17890",
     "output_type": "error",
     "traceback": [
      "\u001b[1;31m---------------------------------------------------------------------------\u001b[0m",
      "\u001b[1;31mIndexError\u001b[0m                                Traceback (most recent call last)",
      "\u001b[1;32mC:\\Program Files\\Anaconda3\\envs\\iposition\\lib\\site-packages\\IPython\\core\\formatters.pyc\u001b[0m in \u001b[0;36m__call__\u001b[1;34m(self, obj)\u001b[0m\n\u001b[0;32m    309\u001b[0m             \u001b[0mmethod\u001b[0m \u001b[1;33m=\u001b[0m \u001b[0mget_real_method\u001b[0m\u001b[1;33m(\u001b[0m\u001b[0mobj\u001b[0m\u001b[1;33m,\u001b[0m \u001b[0mself\u001b[0m\u001b[1;33m.\u001b[0m\u001b[0mprint_method\u001b[0m\u001b[1;33m)\u001b[0m\u001b[1;33m\u001b[0m\u001b[0m\n\u001b[0;32m    310\u001b[0m             \u001b[1;32mif\u001b[0m \u001b[0mmethod\u001b[0m \u001b[1;32mis\u001b[0m \u001b[1;32mnot\u001b[0m \u001b[0mNone\u001b[0m\u001b[1;33m:\u001b[0m\u001b[1;33m\u001b[0m\u001b[0m\n\u001b[1;32m--> 311\u001b[1;33m                 \u001b[1;32mreturn\u001b[0m \u001b[0mmethod\u001b[0m\u001b[1;33m(\u001b[0m\u001b[1;33m)\u001b[0m\u001b[1;33m\u001b[0m\u001b[0m\n\u001b[0m\u001b[0;32m    312\u001b[0m             \u001b[1;32mreturn\u001b[0m \u001b[0mNone\u001b[0m\u001b[1;33m\u001b[0m\u001b[0m\n\u001b[0;32m    313\u001b[0m         \u001b[1;32melse\u001b[0m\u001b[1;33m:\u001b[0m\u001b[1;33m\u001b[0m\u001b[0m\n",
      "\u001b[1;32mC:\\Program Files\\Anaconda3\\envs\\iposition\\lib\\site-packages\\matplotlib\\animation.pyc\u001b[0m in \u001b[0;36m_repr_html_\u001b[1;34m(self)\u001b[0m\n\u001b[0;32m   1482\u001b[0m         \u001b[0mfmt\u001b[0m \u001b[1;33m=\u001b[0m \u001b[0mrcParams\u001b[0m\u001b[1;33m[\u001b[0m\u001b[1;34m'animation.html'\u001b[0m\u001b[1;33m]\u001b[0m\u001b[1;33m\u001b[0m\u001b[0m\n\u001b[0;32m   1483\u001b[0m         \u001b[1;32mif\u001b[0m \u001b[0mfmt\u001b[0m \u001b[1;33m==\u001b[0m \u001b[1;34m'html5'\u001b[0m\u001b[1;33m:\u001b[0m\u001b[1;33m\u001b[0m\u001b[0m\n\u001b[1;32m-> 1484\u001b[1;33m             \u001b[1;32mreturn\u001b[0m \u001b[0mself\u001b[0m\u001b[1;33m.\u001b[0m\u001b[0mto_html5_video\u001b[0m\u001b[1;33m(\u001b[0m\u001b[1;33m)\u001b[0m\u001b[1;33m\u001b[0m\u001b[0m\n\u001b[0m\u001b[0;32m   1485\u001b[0m         \u001b[1;32melif\u001b[0m \u001b[0mfmt\u001b[0m \u001b[1;33m==\u001b[0m \u001b[1;34m'jshtml'\u001b[0m\u001b[1;33m:\u001b[0m\u001b[1;33m\u001b[0m\u001b[0m\n\u001b[0;32m   1486\u001b[0m             \u001b[1;32mreturn\u001b[0m \u001b[0mself\u001b[0m\u001b[1;33m.\u001b[0m\u001b[0mto_jshtml\u001b[0m\u001b[1;33m(\u001b[0m\u001b[1;33m)\u001b[0m\u001b[1;33m\u001b[0m\u001b[0m\n",
      "\u001b[1;32mC:\\Program Files\\Anaconda3\\envs\\iposition\\lib\\site-packages\\matplotlib\\animation.pyc\u001b[0m in \u001b[0;36mto_html5_video\u001b[1;34m(self, embed_limit)\u001b[0m\n\u001b[0;32m   1411\u001b[0m                                 \u001b[0mbitrate\u001b[0m\u001b[1;33m=\u001b[0m\u001b[0mrcParams\u001b[0m\u001b[1;33m[\u001b[0m\u001b[1;34m'animation.bitrate'\u001b[0m\u001b[1;33m]\u001b[0m\u001b[1;33m,\u001b[0m\u001b[1;33m\u001b[0m\u001b[0m\n\u001b[0;32m   1412\u001b[0m                                 fps=1000. / self._interval)\n\u001b[1;32m-> 1413\u001b[1;33m                 \u001b[0mself\u001b[0m\u001b[1;33m.\u001b[0m\u001b[0msave\u001b[0m\u001b[1;33m(\u001b[0m\u001b[0mf\u001b[0m\u001b[1;33m.\u001b[0m\u001b[0mname\u001b[0m\u001b[1;33m,\u001b[0m \u001b[0mwriter\u001b[0m\u001b[1;33m=\u001b[0m\u001b[0mwriter\u001b[0m\u001b[1;33m)\u001b[0m\u001b[1;33m\u001b[0m\u001b[0m\n\u001b[0m\u001b[0;32m   1414\u001b[0m \u001b[1;33m\u001b[0m\u001b[0m\n\u001b[0;32m   1415\u001b[0m             \u001b[1;31m# Now open and base64 encode\u001b[0m\u001b[1;33m\u001b[0m\u001b[1;33m\u001b[0m\u001b[0m\n",
      "\u001b[1;32mC:\\Program Files\\Anaconda3\\envs\\iposition\\lib\\site-packages\\matplotlib\\animation.pyc\u001b[0m in \u001b[0;36msave\u001b[1;34m(self, filename, writer, fps, dpi, codec, bitrate, extra_args, metadata, extra_anim, savefig_kwargs)\u001b[0m\n\u001b[0;32m   1257\u001b[0m                     \u001b[1;32mfor\u001b[0m \u001b[0manim\u001b[0m\u001b[1;33m,\u001b[0m \u001b[0md\u001b[0m \u001b[1;32min\u001b[0m \u001b[0mzip\u001b[0m\u001b[1;33m(\u001b[0m\u001b[0mall_anim\u001b[0m\u001b[1;33m,\u001b[0m \u001b[0mdata\u001b[0m\u001b[1;33m)\u001b[0m\u001b[1;33m:\u001b[0m\u001b[1;33m\u001b[0m\u001b[0m\n\u001b[0;32m   1258\u001b[0m                         \u001b[1;31m# TODO: See if turning off blit is really necessary\u001b[0m\u001b[1;33m\u001b[0m\u001b[1;33m\u001b[0m\u001b[0m\n\u001b[1;32m-> 1259\u001b[1;33m                         \u001b[0manim\u001b[0m\u001b[1;33m.\u001b[0m\u001b[0m_draw_next_frame\u001b[0m\u001b[1;33m(\u001b[0m\u001b[0md\u001b[0m\u001b[1;33m,\u001b[0m \u001b[0mblit\u001b[0m\u001b[1;33m=\u001b[0m\u001b[0mFalse\u001b[0m\u001b[1;33m)\u001b[0m\u001b[1;33m\u001b[0m\u001b[0m\n\u001b[0m\u001b[0;32m   1260\u001b[0m                     \u001b[0mwriter\u001b[0m\u001b[1;33m.\u001b[0m\u001b[0mgrab_frame\u001b[0m\u001b[1;33m(\u001b[0m\u001b[1;33m**\u001b[0m\u001b[0msavefig_kwargs\u001b[0m\u001b[1;33m)\u001b[0m\u001b[1;33m\u001b[0m\u001b[0m\n\u001b[0;32m   1261\u001b[0m \u001b[1;33m\u001b[0m\u001b[0m\n",
      "\u001b[1;32mC:\\Program Files\\Anaconda3\\envs\\iposition\\lib\\site-packages\\matplotlib\\animation.pyc\u001b[0m in \u001b[0;36m_draw_next_frame\u001b[1;34m(self, framedata, blit)\u001b[0m\n\u001b[0;32m   1294\u001b[0m         \u001b[1;31m# post- draw, as well as the drawing of the frame itself.\u001b[0m\u001b[1;33m\u001b[0m\u001b[1;33m\u001b[0m\u001b[0m\n\u001b[0;32m   1295\u001b[0m         \u001b[0mself\u001b[0m\u001b[1;33m.\u001b[0m\u001b[0m_pre_draw\u001b[0m\u001b[1;33m(\u001b[0m\u001b[0mframedata\u001b[0m\u001b[1;33m,\u001b[0m \u001b[0mblit\u001b[0m\u001b[1;33m)\u001b[0m\u001b[1;33m\u001b[0m\u001b[0m\n\u001b[1;32m-> 1296\u001b[1;33m         \u001b[0mself\u001b[0m\u001b[1;33m.\u001b[0m\u001b[0m_draw_frame\u001b[0m\u001b[1;33m(\u001b[0m\u001b[0mframedata\u001b[0m\u001b[1;33m)\u001b[0m\u001b[1;33m\u001b[0m\u001b[0m\n\u001b[0m\u001b[0;32m   1297\u001b[0m         \u001b[0mself\u001b[0m\u001b[1;33m.\u001b[0m\u001b[0m_post_draw\u001b[0m\u001b[1;33m(\u001b[0m\u001b[0mframedata\u001b[0m\u001b[1;33m,\u001b[0m \u001b[0mblit\u001b[0m\u001b[1;33m)\u001b[0m\u001b[1;33m\u001b[0m\u001b[0m\n\u001b[0;32m   1298\u001b[0m \u001b[1;33m\u001b[0m\u001b[0m\n",
      "\u001b[1;32mC:\\Program Files\\Anaconda3\\envs\\iposition\\lib\\site-packages\\matplotlib\\animation.pyc\u001b[0m in \u001b[0;36m_draw_frame\u001b[1;34m(self, framedata)\u001b[0m\n\u001b[0;32m   1812\u001b[0m         \u001b[1;31m# Call the func with framedata and args. If blitting is desired,\u001b[0m\u001b[1;33m\u001b[0m\u001b[1;33m\u001b[0m\u001b[0m\n\u001b[0;32m   1813\u001b[0m         \u001b[1;31m# func needs to return a sequence of any artists that were modified.\u001b[0m\u001b[1;33m\u001b[0m\u001b[1;33m\u001b[0m\u001b[0m\n\u001b[1;32m-> 1814\u001b[1;33m         \u001b[0mself\u001b[0m\u001b[1;33m.\u001b[0m\u001b[0m_drawn_artists\u001b[0m \u001b[1;33m=\u001b[0m \u001b[0mself\u001b[0m\u001b[1;33m.\u001b[0m\u001b[0m_func\u001b[0m\u001b[1;33m(\u001b[0m\u001b[0mframedata\u001b[0m\u001b[1;33m,\u001b[0m \u001b[1;33m*\u001b[0m\u001b[0mself\u001b[0m\u001b[1;33m.\u001b[0m\u001b[0m_args\u001b[0m\u001b[1;33m)\u001b[0m\u001b[1;33m\u001b[0m\u001b[0m\n\u001b[0m\u001b[0;32m   1815\u001b[0m         \u001b[1;32mif\u001b[0m \u001b[0mself\u001b[0m\u001b[1;33m.\u001b[0m\u001b[0m_blit\u001b[0m\u001b[1;33m:\u001b[0m\u001b[1;33m\u001b[0m\u001b[0m\n\u001b[0;32m   1816\u001b[0m             \u001b[1;32mif\u001b[0m \u001b[0mself\u001b[0m\u001b[1;33m.\u001b[0m\u001b[0m_drawn_artists\u001b[0m \u001b[1;32mis\u001b[0m \u001b[0mNone\u001b[0m\u001b[1;33m:\u001b[0m\u001b[1;33m\u001b[0m\u001b[0m\n",
      "\u001b[1;32mC:\\Program Files\\Anaconda3\\envs\\iposition\\lib\\site-packages\\cogrecon\\core\\visualization\\vis_spatial_navigation_2room.pyc\u001b[0m in \u001b[0;36mupdate_line\u001b[1;34m(num, avatar, avatar_direction_marker, fig, pos, orient, line, r)\u001b[0m\n\u001b[0;32m     47\u001b[0m     \u001b[0mjump\u001b[0m \u001b[1;33m=\u001b[0m \u001b[1;36m10\u001b[0m\u001b[1;33m\u001b[0m\u001b[0m\n\u001b[0;32m     48\u001b[0m     \u001b[0mnum\u001b[0m \u001b[1;33m*=\u001b[0m \u001b[0mjump\u001b[0m\u001b[1;33m\u001b[0m\u001b[0m\n\u001b[1;32m---> 49\u001b[1;33m     \u001b[0mpos_data\u001b[0m \u001b[1;33m=\u001b[0m \u001b[0mpos\u001b[0m\u001b[1;33m[\u001b[0m\u001b[1;33m.\u001b[0m\u001b[1;33m.\u001b[0m\u001b[1;33m.\u001b[0m\u001b[1;33m,\u001b[0m \u001b[0mnum\u001b[0m\u001b[1;33m]\u001b[0m\u001b[1;33m\u001b[0m\u001b[0m\n\u001b[0m\u001b[0;32m     50\u001b[0m     \u001b[0mori_data\u001b[0m \u001b[1;33m=\u001b[0m \u001b[0morient\u001b[0m\u001b[1;33m[\u001b[0m\u001b[0mnum\u001b[0m\u001b[1;33m]\u001b[0m\u001b[1;33m\u001b[0m\u001b[0m\n\u001b[0;32m     51\u001b[0m     \u001b[0mavatar\u001b[0m\u001b[1;33m.\u001b[0m\u001b[0mcenter\u001b[0m \u001b[1;33m=\u001b[0m \u001b[0mpos_data\u001b[0m\u001b[1;33m\u001b[0m\u001b[0m\n",
      "\u001b[1;31mIndexError\u001b[0m: index 17890 is out of bounds for axis 1 with size 17890"
     ]
    },
    {
     "data": {
      "text/plain": [
       "<matplotlib.animation.FuncAnimation at 0x2a5edeb8>"
      ]
     },
     "execution_count": 6,
     "metadata": {},
     "output_type": "execute_result"
    }
   ],
   "source": [
    "anim"
   ]
  },
  {
   "cell_type": "code",
   "execution_count": null,
   "metadata": {
    "collapsed": true
   },
   "outputs": [],
   "source": []
  }
 ],
 "metadata": {
  "kernelspec": {
   "display_name": "Python 2",
   "language": "python",
   "name": "python2"
  },
  "language_info": {
   "codemirror_mode": {
    "name": "ipython",
    "version": 2
   },
   "file_extension": ".py",
   "mimetype": "text/x-python",
   "name": "python",
   "nbconvert_exporter": "python",
   "pygments_lexer": "ipython2",
   "version": "2.7.13"
  }
 },
 "nbformat": 4,
 "nbformat_minor": 2
}
