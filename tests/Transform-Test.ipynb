{
 "cells": [
  {
   "cell_type": "code",
   "execution_count": 6,
   "metadata": {
    "collapsed": true
   },
   "outputs": [],
   "source": [
    "import matplotlib.pyplot as plt\n",
    "import math\n",
    "import numpy as np\n",
    "from cogrecon.core.similarity_transform import similarity_transform\n",
    "import cogrecon.core.tools as tools\n",
    "import scipy.spatial.distance\n",
    "import operator\n",
    "import itertools"
   ]
  },
  {
   "cell_type": "code",
   "execution_count": 7,
   "metadata": {
    "collapsed": true
   },
   "outputs": [],
   "source": [
    "def points_in_circle(radius, num_points=100):\n",
    "    # noinspection PyCompatibility\n",
    "    return [(math.cos(2 * np.pi / num_points * xx) * radius, math.sin(2 * np.pi / num_points * xx) * radius)\n",
    "            for xx in xrange(0, num_points + 1)]\n",
    "\n",
    "def plot_heatmap(x_d, y_d, e, x_r, y_r, x_axis_label, fig_num):\n",
    "    vis_shape = (len(y_r), len(x_r))\n",
    "    min_error = min(e)\n",
    "    max_error = max(e)\n",
    "    print(\"shape={0}\".format(vis_shape))\n",
    "    print(\"min={0}, max={1}\".format(min_error, max_error))\n",
    "    xx = np.reshape(np.array(x_d), vis_shape)\n",
    "    yy = np.reshape(np.array(y_d), vis_shape)\n",
    "    z = np.reshape(np.array(e), vis_shape)\n",
    "    plt.figure(fig_num)\n",
    "    plt.contourf(xx, yy, z, cmap='RdBu', vmin=min_error, vmax=max_error)\n",
    "    plt.axis([xx.min(), xx.max(), yy.min(), yy.max()])\n",
    "    plt.colorbar()\n",
    "    plt.xlabel(x_axis_label)\n",
    "    plt.ylabel(\"Noise Level (proportion)\")"
   ]
  },
  {
   "cell_type": "code",
   "execution_count": 13,
   "metadata": {
    "collapsed": true
   },
   "outputs": [],
   "source": [
    "enable_translation = True\n",
    "enable_scaling = True\n",
    "enable_rotation = True\n",
    "\n",
    "# Test variable ranges; all ranges are proportions of space size [0, 1]\n",
    "noise_range = np.linspace(0, 0.5, 10)\n",
    "iterations = 50\n",
    "resolution = 2"
   ]
  },
  {
   "cell_type": "code",
   "execution_count": 14,
   "metadata": {},
   "outputs": [
    {
     "name": "stdout",
     "output_type": "stream",
     "text": [
      "Running test combination 0/840.\n",
      "Running test combination 100/840.\n",
      "Running test combination 200/840.\n",
      "Running test combination 300/840.\n",
      "Running test combination 400/840.\n",
      "Running test combination 500/840.\n",
      "Running test combination 600/840.\n",
      "Running test combination 700/840.\n",
      "Running test combination 800/840.\n"
     ]
    }
   ],
   "source": [
    "if enable_translation:\n",
    "    translation_range = map(lambda p: points_in_circle(p, 10), np.linspace(0.05, 0.5, 21))\n",
    "else:\n",
    "    translation_range = [[(0, 0)]]  # Identity\n",
    "if enable_scaling:\n",
    "    scaling_range = np.linspace(-0.5, 0.5, resolution)\n",
    "else:\n",
    "    scaling_range = [1]  # Identity\n",
    "if enable_rotation:\n",
    "    rotation_range = np.linspace(-np.pi, np.pi, resolution)\n",
    "else:\n",
    "    rotation_range = [0]  # Identity\n",
    "num_point_range = np.linspace(5, 5, 1)  # Identity\n",
    "\n",
    "\n",
    "# Test translation only\n",
    "test_combinations = list(\n",
    "    itertools.product(*[num_point_range, noise_range, translation_range, scaling_range, rotation_range]))\n",
    "translations = []\n",
    "scalings = []\n",
    "points = []\n",
    "rotations = []\n",
    "noises = []\n",
    "errors = []\n",
    "for idx, (n, noise_level, t, s, r) in enumerate(test_combinations):\n",
    "    if idx % 100 == 0:\n",
    "        print('Running test combination {0}/{1}.'.format(idx, len(test_combinations)))\n",
    "    results = []\n",
    "    expected_magnitude = np.linalg.norm([t[0][0], t[0][1]])\n",
    "    co, si = np.cos(r), np.sin(r)\n",
    "    rot_matrix = np.array([[co, -si], [si, co]])\n",
    "    for i in range(0, iterations):\n",
    "        # Generate noised test points\n",
    "        correct, random_input = tools.generate_random_test_points(number_of_points=int(n), dimension=2,\n",
    "                                                                  shuffle_points=False,\n",
    "                                                                  noise=noise_level, num_rerandomed_points=0)\n",
    "        for x, y in t:\n",
    "            transformed_input = [list((np.array(new_point) + np.array([x, y])).dot(rot_matrix) * s) for new_point in\n",
    "                                 random_input]  # Apply known translation\n",
    "            # noinspection PyRedeclaration\n",
    "            rot, scaling, translation = similarity_transform(np.array(correct), np.array(transformed_input))\n",
    "\n",
    "            output = [list((np.array(new_point) - np.array(translation)).dot(rot) / scaling) for new_point in\n",
    "                      transformed_input]  # Apply known translation\n",
    "\n",
    "            error = np.mean(map(lambda p: scipy.spatial.distance.euclidean(p[0], p[1]), zip(random_input, output)))\n",
    "            results.append(error)\n",
    "\n",
    "    scalings.append(s)\n",
    "    rotations.append(r)\n",
    "    points.append(n)\n",
    "    errors.append(np.mean(results))\n",
    "    translations.append(expected_magnitude)\n",
    "    noises.append(noise_level)"
   ]
  },
  {
   "cell_type": "code",
   "execution_count": 15,
   "metadata": {},
   "outputs": [
    {
     "name": "stdout",
     "output_type": "stream",
     "text": [
      "shape=(10, 21)\n",
      "min=2.96939306964e-16, max=0.377504458639\n",
      "shape=(10, 2)\n",
      "min=3.07772437717e-16, max=0.368710678744\n",
      "shape=(10, 2)\n",
      "min=3.10045833461e-16, max=0.368972276204\n"
     ]
    },
    {
     "data": {
      "image/png": "[encoded data removed]",
      "text/plain": [
       "<matplotlib.figure.Figure at 0x2acff28>"
      ]
     },
     "metadata": {},
     "output_type": "display_data"
    },
    {
     "data": {
      "image/png": "[encoded data removed]",
      "text/plain": [
       "<matplotlib.figure.Figure at 0x7b81f28>"
      ]
     },
     "metadata": {},
     "output_type": "display_data"
    },
    {
     "data": {
      "image/png": "[encoded data removed]",
      "text/plain": [
       "<matplotlib.figure.Figure at 0x800f5c0>"
      ]
     },
     "metadata": {},
     "output_type": "display_data"
    }
   ],
   "source": [
    "if enable_translation:\n",
    "    all_data = zip(points, noises, errors, translations, scalings, rotations)\n",
    "    all_data_sorted = sorted(all_data, key=operator.itemgetter(3))\n",
    "    _, ns, es, ts, _, _ = zip(*all_data_sorted)\n",
    "    partition_length = len(all_data) / (len(translation_range) * len(noise_range))\n",
    "    ns = np.mean(np.array(ns).reshape(-1, partition_length), axis=1)\n",
    "    es = np.mean(np.array(es).reshape(-1, partition_length), axis=1)\n",
    "    ts = np.mean(np.array(ts).reshape(-1, partition_length), axis=1)\n",
    "    plot_heatmap(ts, ns, es, translation_range, noise_range, \"Translation Magnitude (proportion)\", 1)\n",
    "if enable_scaling:\n",
    "    all_data = zip(points, noises, errors, translations, scalings, rotations)\n",
    "    all_data_sorted = sorted(all_data, key=operator.itemgetter(4))\n",
    "    _, ns, es, _, ss, _ = zip(*all_data_sorted)\n",
    "    partition_length = len(all_data) / (len(scaling_range) * len(noise_range))\n",
    "    ns = np.mean(np.array(ns).reshape(-1, partition_length), axis=1)\n",
    "    es = np.mean(np.array(es).reshape(-1, partition_length), axis=1)\n",
    "    ss = np.mean(np.array(ss).reshape(-1, partition_length), axis=1)\n",
    "    plot_heatmap(ss, ns, es, scaling_range, noise_range, \"Scaling Magnitude (proportion)\", 2)\n",
    "if enable_rotation:\n",
    "    all_data = zip(points, noises, errors, translations, scalings, rotations)\n",
    "    all_data_sorted = sorted(all_data, key=operator.itemgetter(5))\n",
    "    _, ns, es, _, _, rs = zip(*all_data_sorted)\n",
    "    partition_length = len(all_data) / (len(rotation_range) * len(noise_range))\n",
    "    ns = np.mean(np.array(ns).reshape(-1, partition_length), axis=1)\n",
    "    es = np.mean(np.array(es).reshape(-1, partition_length), axis=1)\n",
    "    rs = np.mean(np.array(rs).reshape(-1, partition_length), axis=1)\n",
    "    plot_heatmap(rs, ns, es, rotation_range, noise_range, \"Rotation Magnitude (radians)\", 3)\n",
    "\n",
    "plt.show()"
   ]
  },
  {
   "cell_type": "code",
   "execution_count": null,
   "metadata": {
    "collapsed": true
   },
   "outputs": [],
   "source": []
  }
 ],
 "metadata": {
  "kernelspec": {
   "display_name": "Python 2",
   "language": "python",
   "name": "python2"
  },
  "language_info": {
   "codemirror_mode": {
    "name": "ipython",
    "version": 2
   },
   "file_extension": ".py",
   "mimetype": "text/x-python",
   "name": "python",
   "nbconvert_exporter": "python",
   "pygments_lexer": "ipython2",
   "version": "2.7.13"
  }
 },
 "nbformat": 4,
 "nbformat_minor": 2
}
