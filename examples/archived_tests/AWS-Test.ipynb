{
 "cells": [
  {
   "cell_type": "markdown",
   "metadata": {},
   "source": [
    "# AWS KDE Computation\n",
    "\n",
    "This file allows easy running of computationally expensive KDE computations on AWS."
   ]
  },
  {
   "cell_type": "markdown",
   "metadata": {},
   "source": [
    "## Load Data\n",
    "\n",
    "This section loads data from the internet."
   ]
  },
  {
   "cell_type": "code",
   "execution_count": 22,
   "metadata": {},
   "outputs": [],
   "source": [
    "from urllib import urlopen\n",
    "import sys, os\n",
    "\n",
    "def chunk_report(bytes_so_far, chunk_size, total_size):\n",
    "    percent = float(bytes_so_far) / total_size\n",
    "    percent = round(percent*100, 2)\n",
    "    sys.stdout.write(\"Downloaded %d of %d bytes (%0.2f%%)\\r\" % (bytes_so_far, total_size, percent))\n",
    "    if bytes_so_far >= total_size:\n",
    "        sys.stdout.write('\\n')\n",
    "\n",
    "def chunk_download(response, save_file_name, chunk_size=8192, report_hook=None):\n",
    "    total_size = response.info().getheader('Content-Length').strip()\n",
    "    total_size = int(total_size)\n",
    "    bytes_so_far = 0\n",
    "    with open(save_file_name, \"wb\") as f:\n",
    "        while 1:\n",
    "            chunk = response.read(chunk_size)\n",
    "            f.write(chunk)\n",
    "            bytes_so_far += len(chunk)\n",
    "            if not chunk:\n",
    "                break\n",
    "            if report_hook:\n",
    "                 report_hook(bytes_so_far, chunk_size, total_size)\n",
    "    return bytes_so_far\n",
    "\n",
    "def load_data(data_file_address, save_file_name, reload=False):\n",
    "    if reload or not os.path.exists(save_file_name):\n",
    "        print('{0} was not found. Downloading from {1}...'.format(save_file_name, data_file_address))\n",
    "        response = urlopen(data_file_address)\n",
    "        chunk_download(response, save_file_name, report_hook=chunk_report)\n",
    "        print('Download complete, saved to {0}.'.format(save_file_name))\n",
    "    else:\n",
    "        print('{0} was found locally and will be used. To redownload, delete the file and run again or add reload=True to load_data.'.format(save_file_name))"
   ]
  },
  {
   "cell_type": "code",
   "execution_count": 23,
   "metadata": {},
   "outputs": [
    {
     "name": "stdout",
     "output_type": "stream",
     "text": [
      "all_points_item_bins_width2s_trial3.p was found locally and will be used. To redownload, delete the file and run again or add reload=True to load_data.\n"
     ]
    }
   ],
   "source": [
    "data_file_address = r'https://www.dropbox.com/sh/41z79caglyodesz/AABMg_R8vdyTE2ADc3J9Nfm-a/all_points_item_bins_width2s_trial3.p?dl=1'\n",
    "save_file_name = r'all_points_item_bins_width2s_trial3.p'\n",
    "\n",
    "load_data(data_file_address, save_file_name, reload=False)"
   ]
  },
  {
   "cell_type": "code",
   "execution_count": null,
   "metadata": {
    "collapsed": true
   },
   "outputs": [],
   "source": []
  }
 ],
 "metadata": {
  "kernelspec": {
   "display_name": "Python 2",
   "language": "python",
   "name": "python2"
  },
  "language_info": {
   "codemirror_mode": {
    "name": "ipython",
    "version": 2
   },
   "file_extension": ".py",
   "mimetype": "text/x-python",
   "name": "python",
   "nbconvert_exporter": "python",
   "pygments_lexer": "ipython2",
   "version": "2.7.13"
  }
 },
 "nbformat": 4,
 "nbformat_minor": 2
}
