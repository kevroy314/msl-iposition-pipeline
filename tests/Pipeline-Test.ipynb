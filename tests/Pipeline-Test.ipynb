{
 "cells": [
  {
   "cell_type": "markdown",
   "metadata": {},
   "source": [
    "# Full Pipeline Test\n",
    "This section tests the Full Pipeline - which runs on a single participant's data."
   ]
  },
  {
   "cell_type": "code",
   "execution_count": null,
   "metadata": {
    "collapsed": true
   },
   "outputs": [],
   "source": [
    "import cogrecon\n",
    "from cogrecon.core.full_pipeline import full_pipeline\n",
    "from cogrecon.core.data_structures import TrialData, ParticipantData, AnalysisConfiguration\n",
    "from cogrecon.core.tools import generate_random_test_points"
   ]
  },
  {
   "cell_type": "code",
   "execution_count": null,
   "metadata": {
    "collapsed": true
   },
   "outputs": [],
   "source": [
    "# Test with random first\n",
    "a, b = generate_random_test_points()\n",
    "data = ParticipantData([TrialData(a, b)])\n",
    "config = AnalysisConfiguration(debug_labels=['test', -1])\n",
    "full_pipeline(data, config, visualize=True, visualization_extent=[[0., 1.], [0., 1.]])"
   ]
  },
  {
   "cell_type": "code",
   "execution_count": null,
   "metadata": {
    "collapsed": true
   },
   "outputs": [],
   "source": [
    "# Now test with data\n",
    "actual_coordinates_filepath = r\"Z:\\Kevin\\iPosition\\Hillary\\MRE\\actual_coordinates.txt\"\n",
    "filepath_template = r\"Z:\\Kevin\\iPosition\\Hillary\\MRE\\{0}\\{0}position_data_coordinates.txt\"\n",
    "participant_ids = ['101', '104', '105', '112', '104', '101', '114', '118', '119', '120', '101', '104', '113', '120']\n",
    "labels = ['Cycle Agree - 101', 'Cycle Agree - 104', 'Cycle Agree - 105', 'Cycle Agree - 112',\n",
    "          'Debatable - 104',\n",
    "          'New Single Swap - 101', 'New Single Swap - 114',\n",
    "          'New Single Swap - 118', 'New Single Swap - 119', 'New Single Swap - 120',\n",
    "          'Old False Positive - 101', 'Old False Positive - 104',\n",
    "          'Old False Positive - 113', 'Old False Positive - 120']\n",
    "trial_nums = [10, 12, 2, 6, 2, 0, 12, 10, 10, 14, 11, 10, 2, 12]\n",
    "\n",
    "for pid, label, trial_n in zip(participant_ids, labels, trial_nums):\n",
    "    data = ParticipantData.load_from_file(actual_coordinates_filepath, filepath_template.format(pid), (15, 5, 2))\n",
    "    data.trials = [data.trials[trial_n]]\n",
    "    config = AnalysisConfiguration(debug_labels=[label, trial_n])\n",
    "    full_pipeline(data, config, visualize=True, visualization_extent=[[-640., 640.], [-480., 480.]])"
   ]
  },
  {
   "cell_type": "code",
   "execution_count": null,
   "metadata": {
    "collapsed": true
   },
   "outputs": [],
   "source": [
    "from cogrecon.core.data_flexing.dimension_removal import remove_dimensions\n",
    "\n",
    "actual_coordinates_filepath = r\"C:\\Users\\Kevin\\Documents\\GitHub\\msl-iposition-pipeline\\saved_data\\iPositionConversion\\071actual_coordinates.txt\"\n",
    "filepath_template = r\"C:\\Users\\Kevin\\Documents\\GitHub\\msl-iposition-pipeline\\saved_data\\iPositionConversion\\{0}position_data_coordinates.txt\"\n",
    "participant_ids = ['071']\n",
    "trial_nums = [3]\n",
    "labels = ['071 - 4th Trial']\n",
    "\n",
    "for pid, label, trial_n in zip(participant_ids, labels, trial_nums):\n",
    "    data = ParticipantData.load_from_file(actual_coordinates_filepath, filepath_template.format(pid), (4, 10, 3))\n",
    "    data.trials = [data.trials[trial_n]]\n",
    "    config = AnalysisConfiguration(debug_labels=[label, trial_n])\n",
    "    time_data = remove_dimensions(data, removal_dim_indices=[0, 1])\n",
    "    space_data = remove_dimensions(data, removal_dim_indices=[2])\n",
    "    full_pipeline(time_data, config, visualize=True, visualization_extent=[[0., 60.], [-4., 4.]], fig_size=(10, 2))\n",
    "    full_pipeline(space_data, config, visualize=True, visualization_extent=[[-20., 20.], [-20., 20.]], fig_size=(10, 10))"
   ]
  },
  {
   "cell_type": "markdown",
   "metadata": {},
   "source": [
    "# Batch Pipeline Test\n",
    "This section tests the Batch Pipeline, which runs on a folder full of data files, automatically finding the appropriate files."
   ]
  },
  {
   "cell_type": "code",
   "execution_count": null,
   "metadata": {
    "collapsed": true
   },
   "outputs": [],
   "source": [
    "import cogrecon\n",
    "from cogrecon.core.batch_pipeline import batch_pipeline\n",
    "from cogrecon.core.data_structures import TrialData, ParticipantData, AnalysisConfiguration\n",
    "import os, datetime\n",
    "import easygui"
   ]
  },
  {
   "cell_type": "code",
   "execution_count": null,
   "metadata": {
    "collapsed": true
   },
   "outputs": [],
   "source": [
    "selected_directory = easygui.diropenbox()\n",
    "\n",
    "print(selected_directory)\n",
    "print(type(selected_directory))\n",
    "if os.path.exists(selected_directory):\n",
    "    batch_pipeline(str(selected_directory), datetime.datetime.now().strftime(\"%Y-%m-%d_%H-%M-%S.csv\"))\n",
    "elif selected_directory is not '':\n",
    "    logging.error('Directory not found.')"
   ]
  },
  {
   "cell_type": "code",
   "execution_count": null,
   "metadata": {
    "collapsed": true
   },
   "outputs": [],
   "source": [
    "batch_pipeline(\"Z:\\\\Kevin\\\\iPosition\\\\Hillary\\\\MRE\",\n",
    "               datetime.datetime.now().strftime(\"%Y-%m-%d_%H-%M-%S.csv\"),\n",
    "               data_shape=(15, 5, 2))"
   ]
  },
  {
   "cell_type": "code",
   "execution_count": null,
   "metadata": {
    "collapsed": true
   },
   "outputs": [],
   "source": []
  }
 ],
 "metadata": {
  "kernelspec": {
   "display_name": "Python 2",
   "language": "python",
   "name": "python2"
  },
  "language_info": {
   "codemirror_mode": {
    "name": "ipython",
    "version": 2
   },
   "file_extension": ".py",
   "mimetype": "text/x-python",
   "name": "python",
   "nbconvert_exporter": "python",
   "pygments_lexer": "ipython2",
   "version": "2.7.13"
  }
 },
 "nbformat": 4,
 "nbformat_minor": 1
}
