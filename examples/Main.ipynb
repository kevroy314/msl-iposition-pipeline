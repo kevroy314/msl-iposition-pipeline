{
 "cells": [
  {
   "cell_type": "markdown",
   "metadata": {},
   "source": [
    "# Full Pipeline Test\n",
    "This section tests the Full Pipeline - which runs on a single participant's data."
   ]
  },
  {
   "cell_type": "code",
   "execution_count": null,
   "metadata": {
    "collapsed": true
   },
   "outputs": [],
   "source": [
    "import cogrecon\n",
    "from cogrecon.core.full_pipeline import full_pipeline\n",
    "from cogrecon.core.data_structures import TrialData, ParticipantData, AnalysisConfiguration\n",
    "from cogrecon.core.tools import generate_random_test_points"
   ]
  },
  {
   "cell_type": "code",
   "execution_count": null,
   "metadata": {
    "collapsed": true
   },
   "outputs": [],
   "source": [
    "# Test with random first\n",
    "a, b = generate_random_test_points()\n",
    "data = ParticipantData([TrialData(a, b)])\n",
    "config = AnalysisConfiguration(debug_labels=['test', -1])\n",
    "full_pipeline(data, config, visualize=True, visualization_extent=[[0., 1.], [0., 1.]])"
   ]
  },
  {
   "cell_type": "code",
   "execution_count": null,
   "metadata": {
    "collapsed": true
   },
   "outputs": [],
   "source": [
    "# Now test with data\n",
    "actual_coordinates_filepath = r\"Z:\\Kevin\\iPosition\\Hillary\\MRE\\actual_coordinates.txt\"\n",
    "filepath_template = r\"Z:\\Kevin\\iPosition\\Hillary\\MRE\\{0}\\{0}position_data_coordinates.txt\"\n",
    "participant_ids = ['101', '104', '105', '112', '104', '101', '114', '118', '119', '120', '101', '104', '113', '120']\n",
    "labels = ['Cycle Agree - 101', 'Cycle Agree - 104', 'Cycle Agree - 105', 'Cycle Agree - 112',\n",
    "          'Debatable - 104',\n",
    "          'New Single Swap - 101', 'New Single Swap - 114',\n",
    "          'New Single Swap - 118', 'New Single Swap - 119', 'New Single Swap - 120',\n",
    "          'Old False Positive - 101', 'Old False Positive - 104',\n",
    "          'Old False Positive - 113', 'Old False Positive - 120']\n",
    "trial_nums = [10, 12, 2, 6, 2, 0, 12, 10, 10, 14, 11, 10, 2, 12]\n",
    "\n",
    "for pid, label, trial_n in zip(participant_ids, labels, trial_nums):\n",
    "    data = ParticipantData.load_from_file(actual_coordinates_filepath, filepath_template.format(pid), (15, 5, 2))\n",
    "    data.trials = [data.trials[trial_n]]\n",
    "    config = AnalysisConfiguration(debug_labels=[label, trial_n])\n",
    "    full_pipeline(data, config, visualize=True, visualization_extent=[[-640., 640.], [-480., 480.]])"
   ]
  },
  {
   "cell_type": "code",
   "execution_count": null,
   "metadata": {
    "collapsed": true
   },
   "outputs": [],
   "source": [
    "from cogrecon.core.data_flexing.dimension_removal import remove_dimensions\n",
    "\n",
    "actual_coordinates_filepath = r\"C:\\Users\\admin\\Documents\\GitHub\\msl-iposition-pipeline\\saved_data\\iPositionConversion\\071actual_coordinates.txt\"\n",
    "filepath_template = r\"C:\\Users\\admin\\Documents\\GitHub\\msl-iposition-pipeline\\saved_data\\iPositionConversion\\{0}position_data_coordinates.txt\"\n",
    "participant_ids = ['071']\n",
    "trial_nums = [3]\n",
    "labels = ['071 - 4th Trial']\n",
    "\n",
    "for pid, label, trial_n in zip(participant_ids, labels, trial_nums):\n",
    "    data = ParticipantData.load_from_file(actual_coordinates_filepath, filepath_template.format(pid), (4, 10, 3))\n",
    "    data.trials = [data.trials[trial_n]]\n",
    "    config = AnalysisConfiguration(debug_labels=[label, trial_n])\n",
    "    time_data = remove_dimensions(data, removal_dim_indices=[0, 1])\n",
    "    space_data = remove_dimensions(data, removal_dim_indices=[2])\n",
    "    full_pipeline(time_data, config, visualize=True, visualization_extent=[[0., 60.], [-4., 4.]], fig_size=(10, 2))\n",
    "    full_pipeline(space_data, config, visualize=True, visualization_extent=[[-20., 20.], [-20., 20.]], fig_size=(10, 10))"
   ]
  },
  {
   "cell_type": "markdown",
   "metadata": {},
   "source": [
    "# Batch Pipeline Test\n",
    "This section tests the Batch Pipeline, which runs on a folder full of data files, automatically finding the appropriate files."
   ]
  },
  {
   "cell_type": "code",
   "execution_count": 1,
   "metadata": {
    "collapsed": true
   },
   "outputs": [],
   "source": [
    "import cogrecon\n",
    "from cogrecon.core.batch_pipeline import batch_pipeline\n",
    "from cogrecon.core.data_structures import TrialData, ParticipantData, AnalysisConfiguration\n",
    "import os, datetime\n",
    "import easygui"
   ]
  },
  {
   "cell_type": "code",
   "execution_count": 2,
   "metadata": {},
   "outputs": [
    {
     "name": "stderr",
     "output_type": "stream",
     "text": [
      "INFO:root:Finding files in folder C:\\Users\\Kevin\\Documents\\GitHub\\msl-iposition-pipeline\\tests\\saved_data\\4-room-iposition.\n",
      "INFO:root:Found 47 data files in 0.0140001773834 seconds.\n",
      "INFO:root:Parsing files with expected shape None.\n",
      "INFO:root:The following ids were found and are being processed: ['001', '003', '004', '005', '006', '008', '009', '010', '011', '012', '013', '014', '016', '017', '018', '020', '021', '022', '025', '101', '102', '103', '104', '105', '106', '108', '109', '110', '112', '113', '114', '115', '116', '123', '124', '125', '127', '128', '129', '131', '134', '135', '145', '146', '147', '148', '149']\n"
     ]
    },
    {
     "name": "stdout",
     "output_type": "stream",
     "text": [
      "C:\\Users\\Kevin\\Documents\\GitHub\\msl-iposition-pipeline\\tests\\saved_data\\4-room-iposition\n",
      "<type 'unicode'>\n"
     ]
    },
    {
     "name": "stderr",
     "output_type": "stream",
     "text": [
      "INFO:root:['001'] : The transformation function did not reduce the error, removing rotation and retying (old_error=116.577730726, new_error=130.179458954).\n",
      "WARNING:root:['001'] : The transformation function did not reduce the error, removing transform (old_error=116.577730726, new_error=126.521395303).\n",
      "INFO:root:['001'] : The transformation function did not reduce the error, removing rotation and retying (old_error=99.9597965218, new_error=115.187533311).\n",
      "WARNING:root:['001'] : The transformation function did not reduce the error, removing transform (old_error=99.9597965218, new_error=100.833229213).\n",
      "INFO:root:['001'] : The transformation function did not reduce the error, removing rotation and retying (old_error=80.4215905037, new_error=86.9995647442).\n",
      "WARNING:root:['001'] : The transformation function did not reduce the error, removing transform (old_error=80.4215905037, new_error=81.6396265831).\n",
      "C:\\Program Files\\Anaconda3\\envs\\iposition\\lib\\site-packages\\cogrecon\\core\\batch_pipeline.py:412: RuntimeWarning: Mean of empty slice\n",
      "  result.append(agg_functions[iidx]([row[iidx] for row in results]))\n",
      "INFO:root:['003'] : The transformation function did not reduce the error, removing rotation and retying (old_error=198.894664647, new_error=335.266800882).\n",
      "WARNING:root:['003'] : The transformation function did not reduce the error, removing transform (old_error=198.894664647, new_error=249.416158759).\n",
      "INFO:root:['003'] : The transformation function did not reduce the error, removing rotation and retying (old_error=141.230927409, new_error=226.828671474).\n",
      "WARNING:root:['003'] : The transformation function did not reduce the error, removing transform (old_error=141.230927409, new_error=164.448206235).\n",
      "INFO:root:['003'] : The transformation function did not reduce the error, removing rotation and retying (old_error=144.667117486, new_error=175.837708416).\n",
      "INFO:root:['004'] : The transformation function did not reduce the error, removing rotation and retying (old_error=170.118856338, new_error=209.782285242).\n",
      "INFO:root:['004'] : The transformation function did not reduce the error, removing rotation and retying (old_error=191.200971295, new_error=202.711143227).\n",
      "INFO:root:['004'] : The transformation function did not reduce the error, removing rotation and retying (old_error=154.455812337, new_error=178.460085935).\n",
      "WARNING:root:['004'] : The transformation function did not reduce the error, removing transform (old_error=154.455812337, new_error=155.80298783).\n",
      "INFO:root:['004'] : The transformation function did not reduce the error, removing rotation and retying (old_error=186.628705088, new_error=207.358102853).\n",
      "INFO:root:['005'] : The transformation function did not reduce the error, removing rotation and retying (old_error=184.348897582, new_error=238.317105527).\n",
      "WARNING:root:['005'] : Not enough points were found to be accurate enough to create a geometric transform. It will be skipped.\n",
      "INFO:root:['005'] : The transformation function did not reduce the error, removing rotation and retying (old_error=164.289146134, new_error=194.509117079).\n",
      "WARNING:root:['005'] : The transformation function did not reduce the error, removing transform (old_error=164.289146134, new_error=170.03170091).\n",
      "WARNING:root:['005'] : Not enough points were found to be accurate enough to create a geometric transform. It will be skipped.\n",
      "INFO:root:['006'] : The transformation function did not reduce the error, removing rotation and retying (old_error=150.873567608, new_error=155.935873255).\n",
      "INFO:root:['008'] : The transformation function did not reduce the error, removing rotation and retying (old_error=165.230437452, new_error=200.015509725).\n",
      "WARNING:root:['008'] : The transformation function did not reduce the error, removing transform (old_error=165.230437452, new_error=174.305664259).\n",
      "INFO:root:['008'] : The transformation function did not reduce the error, removing rotation and retying (old_error=117.622637986, new_error=125.180836145).\n",
      "INFO:root:['008'] : The transformation function did not reduce the error, removing rotation and retying (old_error=75.8959955476, new_error=85.2852558911).\n",
      "WARNING:root:['008'] : The transformation function did not reduce the error, removing transform (old_error=75.8959955476, new_error=75.8998010136).\n",
      "INFO:root:['008'] : The transformation function did not reduce the error, removing rotation and retying (old_error=65.7117304914, new_error=99.8907371435).\n",
      "WARNING:root:['008'] : The transformation function did not reduce the error, removing transform (old_error=65.7117304914, new_error=71.4952141126).\n",
      "INFO:root:['009'] : The transformation function did not reduce the error, removing rotation and retying (old_error=82.5326892745, new_error=90.4454512638).\n",
      "WARNING:root:['009'] : The transformation function did not reduce the error, removing transform (old_error=82.5326892745, new_error=84.6576475177).\n",
      "INFO:root:['009'] : The transformation function did not reduce the error, removing rotation and retying (old_error=125.20457533, new_error=192.898673116).\n",
      "WARNING:root:['009'] : The transformation function did not reduce the error, removing transform (old_error=125.20457533, new_error=138.806242523).\n",
      "INFO:root:['009'] : The transformation function did not reduce the error, removing rotation and retying (old_error=126.030997656, new_error=181.086181332).\n",
      "WARNING:root:['009'] : The transformation function did not reduce the error, removing transform (old_error=126.030997656, new_error=136.864729455).\n",
      "INFO:root:['009'] : The transformation function did not reduce the error, removing rotation and retying (old_error=57.3645076338, new_error=66.6533023325).\n",
      "INFO:root:['010'] : The transformation function did not reduce the error, removing rotation and retying (old_error=140.738547401, new_error=194.451911249).\n",
      "WARNING:root:['010'] : The transformation function did not reduce the error, removing transform (old_error=140.738547401, new_error=148.673970511).\n",
      "INFO:root:['010'] : The transformation function did not reduce the error, removing rotation and retying (old_error=76.8092144309, new_error=87.6002669649).\n",
      "INFO:root:['011'] : The transformation function did not reduce the error, removing rotation and retying (old_error=110.011268277, new_error=154.9601983).\n",
      "WARNING:root:['011'] : The transformation function did not reduce the error, removing transform (old_error=110.011268277, new_error=121.272358192).\n",
      "INFO:root:['011'] : The transformation function did not reduce the error, removing rotation and retying (old_error=97.1212065094, new_error=105.855002528).\n",
      "INFO:root:['011'] : The transformation function did not reduce the error, removing rotation and retying (old_error=98.410291124, new_error=126.683015996).\n",
      "WARNING:root:['011'] : The transformation function did not reduce the error, removing transform (old_error=98.410291124, new_error=108.036734125).\n",
      "INFO:root:['011'] : The transformation function did not reduce the error, removing rotation and retying (old_error=63.9660377205, new_error=67.4448575192).\n",
      "WARNING:root:['011'] : The transformation function did not reduce the error, removing transform (old_error=63.9660377205, new_error=65.2850184124).\n",
      "INFO:root:['012'] : The transformation function did not reduce the error, removing rotation and retying (old_error=150.181860679, new_error=239.755475577).\n",
      "WARNING:root:['012'] : The transformation function did not reduce the error, removing transform (old_error=150.181860679, new_error=190.358768269).\n",
      "INFO:root:['012'] : The transformation function did not reduce the error, removing rotation and retying (old_error=116.00897283, new_error=140.235256812).\n",
      "INFO:root:['012'] : The transformation function did not reduce the error, removing rotation and retying (old_error=123.620787363, new_error=183.519420786).\n",
      "WARNING:root:['012'] : The transformation function did not reduce the error, removing transform (old_error=123.620787363, new_error=130.913013868).\n",
      "INFO:root:['013'] : The transformation function did not reduce the error, removing rotation and retying (old_error=68.7660394819, new_error=115.393338132).\n",
      "WARNING:root:['013'] : The transformation function did not reduce the error, removing transform (old_error=68.7660394819, new_error=72.0579530335).\n"
     ]
    },
    {
     "name": "stderr",
     "output_type": "stream",
     "text": [
      "INFO:root:['013'] : The transformation function did not reduce the error, removing rotation and retying (old_error=59.9014244381, new_error=110.614056759).\n",
      "WARNING:root:['013'] : The transformation function did not reduce the error, removing transform (old_error=59.9014244381, new_error=69.547256631).\n",
      "INFO:root:['013'] : The transformation function did not reduce the error, removing rotation and retying (old_error=51.0105568874, new_error=78.1062307109).\n",
      "WARNING:root:['013'] : The transformation function did not reduce the error, removing transform (old_error=51.0105568874, new_error=55.9412660009).\n",
      "INFO:root:['013'] : The transformation function did not reduce the error, removing rotation and retying (old_error=50.188576608, new_error=85.0158853325).\n",
      "WARNING:root:['013'] : The transformation function did not reduce the error, removing transform (old_error=50.188576608, new_error=55.3301782433).\n",
      "INFO:root:['014'] : The transformation function did not reduce the error, removing rotation and retying (old_error=118.89650437, new_error=154.403700467).\n",
      "WARNING:root:['014'] : The transformation function did not reduce the error, removing transform (old_error=118.89650437, new_error=124.512706591).\n",
      "INFO:root:['014'] : The transformation function did not reduce the error, removing rotation and retying (old_error=118.690964896, new_error=239.668009645).\n",
      "WARNING:root:['014'] : The transformation function did not reduce the error, removing transform (old_error=118.690964896, new_error=145.787395104).\n",
      "INFO:root:['014'] : The transformation function did not reduce the error, removing rotation and retying (old_error=101.034075257, new_error=179.169341032).\n",
      "WARNING:root:['014'] : The transformation function did not reduce the error, removing transform (old_error=101.034075257, new_error=111.442197355).\n",
      "INFO:root:['016'] : The transformation function did not reduce the error, removing rotation and retying (old_error=160.67346296, new_error=247.310733092).\n",
      "WARNING:root:['016'] : The transformation function did not reduce the error, removing transform (old_error=160.67346296, new_error=174.825332032).\n",
      "INFO:root:['016'] : The transformation function did not reduce the error, removing rotation and retying (old_error=143.369282032, new_error=174.095713141).\n",
      "INFO:root:['016'] : The transformation function did not reduce the error, removing rotation and retying (old_error=178.734611998, new_error=281.944166724).\n",
      "WARNING:root:['016'] : The transformation function did not reduce the error, removing transform (old_error=178.734611998, new_error=193.239506236).\n",
      "INFO:root:['017'] : The transformation function did not reduce the error, removing rotation and retying (old_error=134.936289196, new_error=176.985708648).\n",
      "WARNING:root:['017'] : The transformation function did not reduce the error, removing transform (old_error=134.936289196, new_error=142.885008677).\n",
      "INFO:root:['017'] : The transformation function did not reduce the error, removing rotation and retying (old_error=60.3560041077, new_error=63.250425709).\n",
      "INFO:root:['017'] : The transformation function did not reduce the error, removing rotation and retying (old_error=98.5263519279, new_error=147.908589379).\n",
      "WARNING:root:['017'] : The transformation function did not reduce the error, removing transform (old_error=98.5263519279, new_error=107.862870057).\n",
      "INFO:root:['018'] : The transformation function did not reduce the error, removing rotation and retying (old_error=159.076558831, new_error=162.051718099).\n",
      "WARNING:root:['018'] : The transformation function did not reduce the error, removing transform (old_error=159.076558831, new_error=159.470115955).\n",
      "INFO:root:['018'] : The transformation function did not reduce the error, removing rotation and retying (old_error=166.035587264, new_error=180.617545204).\n",
      "WARNING:root:['018'] : The transformation function did not reduce the error, removing transform (old_error=166.035587264, new_error=166.621048871).\n",
      "INFO:root:['018'] : The transformation function did not reduce the error, removing rotation and retying (old_error=139.246714618, new_error=154.474306218).\n",
      "WARNING:root:['018'] : The transformation function did not reduce the error, removing transform (old_error=139.246714618, new_error=139.591090974).\n",
      "INFO:root:['018'] : The transformation function did not reduce the error, removing rotation and retying (old_error=167.943345566, new_error=201.21542138).\n",
      "WARNING:root:['018'] : The transformation function did not reduce the error, removing transform (old_error=167.943345566, new_error=174.200538564).\n",
      "INFO:root:['020'] : The transformation function did not reduce the error, removing rotation and retying (old_error=141.76721208, new_error=207.85973441).\n",
      "WARNING:root:['020'] : The transformation function did not reduce the error, removing transform (old_error=141.76721208, new_error=155.013739669).\n",
      "INFO:root:['020'] : The transformation function did not reduce the error, removing rotation and retying (old_error=92.508179698, new_error=106.441157347).\n",
      "INFO:root:['020'] : The transformation function did not reduce the error, removing rotation and retying (old_error=122.080288794, new_error=133.06535418).\n",
      "INFO:root:['020'] : The transformation function did not reduce the error, removing rotation and retying (old_error=89.9426496067, new_error=119.772570909).\n",
      "WARNING:root:['020'] : The transformation function did not reduce the error, removing transform (old_error=89.9426496067, new_error=93.7455742709).\n",
      "INFO:root:['021'] : The transformation function did not reduce the error, removing rotation and retying (old_error=204.772207029, new_error=248.049073773).\n",
      "WARNING:root:['021'] : The transformation function did not reduce the error, removing transform (old_error=204.772207029, new_error=205.06198252).\n",
      "INFO:root:['021'] : The transformation function did not reduce the error, removing rotation and retying (old_error=127.275923959, new_error=147.592066003).\n",
      "WARNING:root:['021'] : The transformation function did not reduce the error, removing transform (old_error=127.275923959, new_error=129.036029297).\n",
      "INFO:root:['022'] : The transformation function did not reduce the error, removing rotation and retying (old_error=199.322209239, new_error=249.288959786).\n",
      "INFO:root:['022'] : The transformation function did not reduce the error, removing rotation and retying (old_error=133.756769127, new_error=189.099870333).\n",
      "WARNING:root:['022'] : The transformation function did not reduce the error, removing transform (old_error=133.756769127, new_error=141.940404624).\n",
      "INFO:root:['022'] : The transformation function did not reduce the error, removing rotation and retying (old_error=149.590800992, new_error=161.373363661).\n",
      "INFO:root:['025'] : The transformation function did not reduce the error, removing rotation and retying (old_error=110.527272036, new_error=144.252304109).\n",
      "WARNING:root:['025'] : The transformation function did not reduce the error, removing transform (old_error=110.527272036, new_error=118.105321208).\n",
      "INFO:root:['025'] : The transformation function did not reduce the error, removing rotation and retying (old_error=75.7267080697, new_error=88.3214894776).\n",
      "INFO:root:['025'] : The transformation function did not reduce the error, removing rotation and retying (old_error=102.881752178, new_error=150.819278178).\n",
      "WARNING:root:['025'] : The transformation function did not reduce the error, removing transform (old_error=102.881752178, new_error=106.368772962).\n",
      "INFO:root:['025'] : The transformation function did not reduce the error, removing rotation and retying (old_error=105.021084333, new_error=175.006712219).\n",
      "WARNING:root:['025'] : The transformation function did not reduce the error, removing transform (old_error=105.021084333, new_error=126.083862184).\n",
      "INFO:root:['101'] : The transformation function did not reduce the error, removing rotation and retying (old_error=141.480417872, new_error=168.976909192).\n",
      "INFO:root:['101'] : The transformation function did not reduce the error, removing rotation and retying (old_error=96.4806077587, new_error=142.022568218).\n",
      "WARNING:root:['101'] : The transformation function did not reduce the error, removing transform (old_error=96.4806077587, new_error=105.818200754).\n"
     ]
    },
    {
     "name": "stderr",
     "output_type": "stream",
     "text": [
      "INFO:root:['101'] : The transformation function did not reduce the error, removing rotation and retying (old_error=110.526397199, new_error=241.164339619).\n",
      "WARNING:root:['101'] : The transformation function did not reduce the error, removing transform (old_error=110.526397199, new_error=136.687547919).\n",
      "INFO:root:['101'] : The transformation function did not reduce the error, removing rotation and retying (old_error=94.2832501571, new_error=132.594550635).\n",
      "WARNING:root:['101'] : The transformation function did not reduce the error, removing transform (old_error=94.2832501571, new_error=100.111103359).\n",
      "INFO:root:['102'] : The transformation function did not reduce the error, removing rotation and retying (old_error=151.807700566, new_error=193.291721798).\n",
      "INFO:root:['102'] : The transformation function did not reduce the error, removing rotation and retying (old_error=146.145284355, new_error=192.514770636).\n",
      "WARNING:root:['102'] : The transformation function did not reduce the error, removing transform (old_error=146.145284355, new_error=153.436505107).\n",
      "INFO:root:['103'] : The transformation function did not reduce the error, removing rotation and retying (old_error=118.646579165, new_error=161.876985953).\n",
      "WARNING:root:['103'] : The transformation function did not reduce the error, removing transform (old_error=118.646579165, new_error=127.010552688).\n",
      "INFO:root:['104'] : The transformation function did not reduce the error, removing rotation and retying (old_error=232.949446785, new_error=322.774649995).\n",
      "WARNING:root:['104'] : The transformation function did not reduce the error, removing transform (old_error=232.949446785, new_error=251.099233374).\n",
      "INFO:root:['105'] : The transformation function did not reduce the error, removing rotation and retying (old_error=140.412735452, new_error=209.198408651).\n",
      "WARNING:root:['105'] : The transformation function did not reduce the error, removing transform (old_error=140.412735452, new_error=157.668289903).\n",
      "INFO:root:['105'] : The transformation function did not reduce the error, removing rotation and retying (old_error=173.063632534, new_error=187.996055234).\n",
      "INFO:root:['105'] : The transformation function did not reduce the error, removing rotation and retying (old_error=131.391742293, new_error=136.758970305).\n",
      "WARNING:root:['105'] : The transformation function did not reduce the error, removing transform (old_error=131.391742293, new_error=133.622249312).\n",
      "INFO:root:['105'] : The transformation function did not reduce the error, removing rotation and retying (old_error=107.765432199, new_error=181.197438277).\n",
      "WARNING:root:['105'] : The transformation function did not reduce the error, removing transform (old_error=107.765432199, new_error=120.129527287).\n",
      "INFO:root:['106'] : The transformation function did not reduce the error, removing rotation and retying (old_error=109.736575546, new_error=123.455620029).\n",
      "INFO:root:['106'] : The transformation function did not reduce the error, removing rotation and retying (old_error=74.9860509357, new_error=108.42676615).\n",
      "INFO:root:['106'] : The transformation function did not reduce the error, removing rotation and retying (old_error=94.6769761561, new_error=124.464143008).\n",
      "INFO:root:['106'] : The transformation function did not reduce the error, removing rotation and retying (old_error=88.7141341847, new_error=162.202825812).\n",
      "WARNING:root:['106'] : The transformation function did not reduce the error, removing transform (old_error=88.7141341847, new_error=105.634015706).\n",
      "INFO:root:['108'] : The transformation function did not reduce the error, removing rotation and retying (old_error=310.445138753, new_error=395.260054861).\n",
      "WARNING:root:['108'] : The transformation function did not reduce the error, removing transform (old_error=310.445138753, new_error=336.410929168).\n",
      "INFO:root:['108'] : The transformation function did not reduce the error, removing rotation and retying (old_error=128.36586763, new_error=191.122173624).\n",
      "WARNING:root:['108'] : The transformation function did not reduce the error, removing transform (old_error=128.36586763, new_error=142.136958378).\n",
      "INFO:root:['108'] : The transformation function did not reduce the error, removing rotation and retying (old_error=63.6499062195, new_error=69.5022338381).\n",
      "INFO:root:['109'] : The transformation function did not reduce the error, removing rotation and retying (old_error=130.037309481, new_error=132.13108402).\n",
      "INFO:root:['109'] : The transformation function did not reduce the error, removing rotation and retying (old_error=210.906561668, new_error=296.63166773).\n",
      "WARNING:root:['109'] : The transformation function did not reduce the error, removing transform (old_error=210.906561668, new_error=217.776759827).\n",
      "INFO:root:['109'] : The transformation function did not reduce the error, removing rotation and retying (old_error=99.1350394816, new_error=101.634717948).\n",
      "INFO:root:['109'] : The transformation function did not reduce the error, removing rotation and retying (old_error=139.34333767, new_error=152.950748713).\n",
      "INFO:root:['110'] : The transformation function did not reduce the error, removing rotation and retying (old_error=321.305657174, new_error=963.955957667).\n",
      "WARNING:root:['110'] : The transformation function did not reduce the error, removing transform (old_error=321.305657174, new_error=866.70553104).\n",
      "INFO:root:['110'] : The transformation function did not reduce the error, removing rotation and retying (old_error=243.242658432, new_error=395.244558815).\n",
      "WARNING:root:['110'] : The transformation function did not reduce the error, removing transform (old_error=243.242658432, new_error=285.328088321).\n",
      "INFO:root:['110'] : The transformation function did not reduce the error, removing rotation and retying (old_error=282.06759476, new_error=290.291758797).\n",
      "WARNING:root:['110'] : The transformation function did not reduce the error, removing transform (old_error=282.06759476, new_error=283.847706138).\n",
      "INFO:root:['112'] : The transformation function did not reduce the error, removing rotation and retying (old_error=122.99870701, new_error=124.654102917).\n",
      "INFO:root:['112'] : The transformation function did not reduce the error, removing rotation and retying (old_error=246.358790529, new_error=380.045506329).\n",
      "WARNING:root:['112'] : The transformation function did not reduce the error, removing transform (old_error=246.358790529, new_error=278.025475463).\n",
      "INFO:root:['112'] : The transformation function did not reduce the error, removing rotation and retying (old_error=105.034425815, new_error=131.251119332).\n",
      "INFO:root:['113'] : The transformation function did not reduce the error, removing rotation and retying (old_error=164.509784024, new_error=180.123833849).\n",
      "WARNING:root:['113'] : The transformation function did not reduce the error, removing transform (old_error=164.509784024, new_error=171.09963857).\n",
      "INFO:root:['113'] : The transformation function did not reduce the error, removing rotation and retying (old_error=147.496475163, new_error=164.128287492).\n",
      "WARNING:root:['113'] : The transformation function did not reduce the error, removing transform (old_error=147.496475163, new_error=148.343285181).\n",
      "INFO:root:['114'] : The transformation function did not reduce the error, removing rotation and retying (old_error=162.79017008, new_error=191.612845032).\n",
      "INFO:root:['114'] : The transformation function did not reduce the error, removing rotation and retying (old_error=172.929303528, new_error=189.234794453).\n",
      "WARNING:root:['114'] : The transformation function did not reduce the error, removing transform (old_error=172.929303528, new_error=173.79927464).\n",
      "INFO:root:['114'] : The transformation function did not reduce the error, removing rotation and retying (old_error=137.078744861, new_error=139.120774558).\n",
      "INFO:root:['114'] : The transformation function did not reduce the error, removing rotation and retying (old_error=154.890437266, new_error=171.023982148).\n",
      "INFO:root:['115'] : The transformation function did not reduce the error, removing rotation and retying (old_error=68.9935361488, new_error=73.2793057019).\n",
      "INFO:root:['115'] : The transformation function did not reduce the error, removing rotation and retying (old_error=128.946527598, new_error=201.141031084).\n"
     ]
    },
    {
     "name": "stderr",
     "output_type": "stream",
     "text": [
      "WARNING:root:['115'] : The transformation function did not reduce the error, removing transform (old_error=128.946527598, new_error=143.731899042).\n",
      "INFO:root:['115'] : The transformation function did not reduce the error, removing rotation and retying (old_error=73.4040317974, new_error=122.555944556).\n",
      "WARNING:root:['115'] : The transformation function did not reduce the error, removing transform (old_error=73.4040317974, new_error=79.9881649767).\n",
      "INFO:root:['116'] : The transformation function did not reduce the error, removing rotation and retying (old_error=96.0347355361, new_error=117.875439836).\n",
      "WARNING:root:['116'] : The transformation function did not reduce the error, removing transform (old_error=96.0347355361, new_error=97.5698364505).\n",
      "INFO:root:['116'] : The transformation function did not reduce the error, removing rotation and retying (old_error=105.028227623, new_error=135.900743437).\n",
      "WARNING:root:['116'] : The transformation function did not reduce the error, removing transform (old_error=105.028227623, new_error=113.135708048).\n",
      "INFO:root:['116'] : The transformation function did not reduce the error, removing rotation and retying (old_error=51.5859599803, new_error=68.5968622741).\n",
      "WARNING:root:['116'] : The transformation function did not reduce the error, removing transform (old_error=51.5859599803, new_error=53.4753951445).\n",
      "INFO:root:['116'] : The transformation function did not reduce the error, removing rotation and retying (old_error=59.8471804056, new_error=133.026463335).\n",
      "WARNING:root:['116'] : The transformation function did not reduce the error, removing transform (old_error=59.8471804056, new_error=77.4851997099).\n",
      "INFO:root:['123'] : The transformation function did not reduce the error, removing rotation and retying (old_error=116.199653518, new_error=119.260113776).\n",
      "INFO:root:['124'] : The transformation function did not reduce the error, removing rotation and retying (old_error=183.650839739, new_error=348.934307153).\n",
      "WARNING:root:['124'] : The transformation function did not reduce the error, removing transform (old_error=183.650839739, new_error=237.50812293).\n",
      "INFO:root:['124'] : The transformation function did not reduce the error, removing rotation and retying (old_error=154.227900894, new_error=160.85707982).\n",
      "INFO:root:['124'] : The transformation function did not reduce the error, removing rotation and retying (old_error=136.523630545, new_error=142.636183752).\n",
      "INFO:root:['125'] : The transformation function did not reduce the error, removing rotation and retying (old_error=110.83095415, new_error=134.452354467).\n",
      "INFO:root:['125'] : The transformation function did not reduce the error, removing rotation and retying (old_error=144.57356278, new_error=209.995527051).\n",
      "WARNING:root:['125'] : The transformation function did not reduce the error, removing transform (old_error=144.57356278, new_error=157.764645838).\n",
      "INFO:root:['125'] : The transformation function did not reduce the error, removing rotation and retying (old_error=69.1791949631, new_error=99.4875203453).\n",
      "WARNING:root:['125'] : The transformation function did not reduce the error, removing transform (old_error=69.1791949631, new_error=76.3319273093).\n",
      "INFO:root:['125'] : The transformation function did not reduce the error, removing rotation and retying (old_error=45.2241468833, new_error=61.207986704).\n",
      "WARNING:root:['125'] : The transformation function did not reduce the error, removing transform (old_error=45.2241468833, new_error=49.5099653626).\n",
      "INFO:root:['127'] : The transformation function did not reduce the error, removing rotation and retying (old_error=331.107859606, new_error=588.253909944).\n",
      "WARNING:root:['127'] : The transformation function did not reduce the error, removing transform (old_error=331.107859606, new_error=588.083273184).\n",
      "INFO:root:['127'] : The transformation function did not reduce the error, removing rotation and retying (old_error=318.626172582, new_error=492.162707367).\n",
      "WARNING:root:['127'] : The transformation function did not reduce the error, removing transform (old_error=318.626172582, new_error=469.72735678).\n",
      "INFO:root:['127'] : The transformation function did not reduce the error, removing rotation and retying (old_error=383.038243959, new_error=2607.65248801).\n",
      "WARNING:root:['127'] : The transformation function did not reduce the error, removing transform (old_error=383.038243959, new_error=2591.60080273).\n",
      "INFO:root:['127'] : The transformation function did not reduce the error, removing rotation and retying (old_error=138.282028617, new_error=146.44327514).\n",
      "INFO:root:['128'] : The transformation function did not reduce the error, removing rotation and retying (old_error=106.177066557, new_error=186.903312122).\n",
      "WARNING:root:['128'] : The transformation function did not reduce the error, removing transform (old_error=106.177066557, new_error=132.027780234).\n",
      "INFO:root:['128'] : The transformation function did not reduce the error, removing rotation and retying (old_error=182.227823902, new_error=306.01881891).\n",
      "WARNING:root:['128'] : The transformation function did not reduce the error, removing transform (old_error=182.227823902, new_error=223.1569657).\n",
      "INFO:root:['128'] : The transformation function did not reduce the error, removing rotation and retying (old_error=54.5457923911, new_error=92.7354567536).\n",
      "WARNING:root:['128'] : The transformation function did not reduce the error, removing transform (old_error=54.5457923911, new_error=62.1992844678).\n",
      "INFO:root:['128'] : The transformation function did not reduce the error, removing rotation and retying (old_error=49.2402444853, new_error=61.3050929598).\n",
      "INFO:root:['129'] : The transformation function did not reduce the error, removing rotation and retying (old_error=142.176875827, new_error=221.588161056).\n",
      "WARNING:root:['129'] : The transformation function did not reduce the error, removing transform (old_error=142.176875827, new_error=163.520212471).\n",
      "INFO:root:['129'] : The transformation function did not reduce the error, removing rotation and retying (old_error=174.241620967, new_error=212.99773489).\n",
      "INFO:root:['129'] : The transformation function did not reduce the error, removing rotation and retying (old_error=128.1752076, new_error=226.646020377).\n",
      "WARNING:root:['129'] : The transformation function did not reduce the error, removing transform (old_error=128.1752076, new_error=149.233218137).\n",
      "INFO:root:['129'] : The transformation function did not reduce the error, removing rotation and retying (old_error=94.7558404798, new_error=113.461250709).\n",
      "WARNING:root:['129'] : The transformation function did not reduce the error, removing transform (old_error=94.7558404798, new_error=95.3639707034).\n",
      "INFO:root:['131'] : The transformation function did not reduce the error, removing rotation and retying (old_error=164.060225589, new_error=200.170578855).\n",
      "WARNING:root:['131'] : The transformation function did not reduce the error, removing transform (old_error=164.060225589, new_error=168.670859229).\n",
      "INFO:root:['131'] : The transformation function did not reduce the error, removing rotation and retying (old_error=150.300820493, new_error=270.901671503).\n",
      "WARNING:root:['131'] : The transformation function did not reduce the error, removing transform (old_error=150.300820493, new_error=170.630722062).\n",
      "INFO:root:['131'] : The transformation function did not reduce the error, removing rotation and retying (old_error=60.470357891, new_error=87.5107114319).\n",
      "WARNING:root:['131'] : The transformation function did not reduce the error, removing transform (old_error=60.470357891, new_error=65.9384120805).\n",
      "INFO:root:['131'] : The transformation function did not reduce the error, removing rotation and retying (old_error=45.228702946, new_error=53.552276833).\n",
      "WARNING:root:['131'] : The transformation function did not reduce the error, removing transform (old_error=45.228702946, new_error=45.3530731294).\n",
      "INFO:root:['134'] : The transformation function did not reduce the error, removing rotation and retying (old_error=265.443836538, new_error=394.785465424).\n",
      "WARNING:root:['134'] : The transformation function did not reduce the error, removing transform (old_error=265.443836538, new_error=275.005578117).\n"
     ]
    },
    {
     "name": "stderr",
     "output_type": "stream",
     "text": [
      "INFO:root:['134'] : The transformation function did not reduce the error, removing rotation and retying (old_error=137.540954836, new_error=160.732810394).\n",
      "WARNING:root:['134'] : The transformation function did not reduce the error, removing transform (old_error=137.540954836, new_error=141.855384896).\n",
      "INFO:root:['134'] : The transformation function did not reduce the error, removing rotation and retying (old_error=110.195257756, new_error=139.597645401).\n",
      "WARNING:root:['134'] : The transformation function did not reduce the error, removing transform (old_error=110.195257756, new_error=117.81178372).\n",
      "INFO:root:['135'] : The transformation function did not reduce the error, removing rotation and retying (old_error=212.593475584, new_error=224.707083068).\n",
      "INFO:root:['135'] : The transformation function did not reduce the error, removing rotation and retying (old_error=76.4756776824, new_error=86.210806517).\n",
      "INFO:root:['135'] : The transformation function did not reduce the error, removing rotation and retying (old_error=120.365805373, new_error=177.671697389).\n",
      "WARNING:root:['135'] : The transformation function did not reduce the error, removing transform (old_error=120.365805373, new_error=126.00328633).\n",
      "INFO:root:['145'] : The transformation function did not reduce the error, removing rotation and retying (old_error=143.517221468, new_error=197.204899151).\n",
      "WARNING:root:['145'] : The transformation function did not reduce the error, removing transform (old_error=143.517221468, new_error=149.583954019).\n",
      "INFO:root:['145'] : The transformation function did not reduce the error, removing rotation and retying (old_error=150.041533084, new_error=162.033322925).\n",
      "INFO:root:['145'] : The transformation function did not reduce the error, removing rotation and retying (old_error=167.373889205, new_error=168.684664536).\n",
      "INFO:root:['146'] : The transformation function did not reduce the error, removing rotation and retying (old_error=142.985515973, new_error=147.188661699).\n",
      "WARNING:root:['146'] : The transformation function did not reduce the error, removing transform (old_error=142.985515973, new_error=144.245538355).\n",
      "INFO:root:['146'] : The transformation function did not reduce the error, removing rotation and retying (old_error=158.713644734, new_error=201.162775695).\n",
      "WARNING:root:['146'] : The transformation function did not reduce the error, removing transform (old_error=158.713644734, new_error=164.670227201).\n",
      "INFO:root:['146'] : The transformation function did not reduce the error, removing rotation and retying (old_error=130.520553161, new_error=161.508504044).\n",
      "WARNING:root:['146'] : The transformation function did not reduce the error, removing transform (old_error=130.520553161, new_error=132.989832282).\n",
      "INFO:root:['146'] : The transformation function did not reduce the error, removing rotation and retying (old_error=183.171278426, new_error=186.782363038).\n",
      "INFO:root:['147'] : The transformation function did not reduce the error, removing rotation and retying (old_error=89.2508899386, new_error=95.5117361884).\n",
      "INFO:root:['148'] : The transformation function did not reduce the error, removing rotation and retying (old_error=157.241112638, new_error=165.837826813).\n",
      "INFO:root:['148'] : The transformation function did not reduce the error, removing rotation and retying (old_error=361.169521788, new_error=793.773555716).\n",
      "WARNING:root:['148'] : The transformation function did not reduce the error, removing transform (old_error=361.169521788, new_error=794.100914471).\n",
      "INFO:root:['149'] : The transformation function did not reduce the error, removing rotation and retying (old_error=159.265059416, new_error=166.785622117).\n",
      "INFO:root:['149'] : The transformation function did not reduce the error, removing rotation and retying (old_error=128.557121933, new_error=132.179731725).\n",
      "WARNING:root:['149'] : The transformation function did not reduce the error, removing transform (old_error=128.557121933, new_error=129.06443307).\n",
      "INFO:root:Done processing all files. Data can be found in 2017-11-09_12-04-56.csv.\n"
     ]
    }
   ],
   "source": [
    "selected_directory = easygui.diropenbox()\n",
    "\n",
    "if selected_directory is not None:\n",
    "    print(selected_directory)\n",
    "    print(type(selected_directory))\n",
    "    if os.path.exists(selected_directory):\n",
    "        batch_pipeline(str(selected_directory), datetime.datetime.now().strftime(\"%Y-%m-%d_%H-%M-%S.csv\"), actual_coordinate_prefixes=False)\n",
    "    elif selected_directory is not '':\n",
    "        logging.error('Directory not found.')"
   ]
  },
  {
   "cell_type": "code",
   "execution_count": null,
   "metadata": {
    "scrolled": true
   },
   "outputs": [
    {
     "name": "stderr",
     "output_type": "stream",
     "text": [
      "INFO:root:Finding files in folder Z:\\CohenKhanProjects\\Corinne\\iPosition_IIV\\A.\n",
      "INFO:root:Found 25 data files in 1.16499996185 seconds.\n",
      "INFO:root:Parsing files with expected shape None.\n"
     ]
    }
   ],
   "source": [
    "batch_pipeline(\"Z:\\CohenKhanProjects\\Corinne\\iPosition_IIV\\A\",\n",
    "               datetime.datetime.now().strftime(\"%Y-%m-%d_%H-%M-%S.csv\"), \n",
    "               collapse_trials=False, trial_by_trial_accuracy=True)"
   ]
  },
  {
   "cell_type": "code",
   "execution_count": null,
   "metadata": {
    "collapsed": true
   },
   "outputs": [],
   "source": [
    "import cogrecon.core.data_flexing.time_travel_task.time_travel_task_to_iposition as ttt2i"
   ]
  },
  {
   "cell_type": "code",
   "execution_count": null,
   "metadata": {
    "collapsed": true
   },
   "outputs": [],
   "source": [
    "ttt2i.time_travel_task_to_iposition(r'\\\\192.168.2.2\\kevroy314\\Work\\Time Travel Task\\Paper Data (cleaned)', r'\\\\192.168.2.2\\kevroy314\\Work\\Time Travel Task\\Paper Data (iPosition format cleaned)')"
   ]
  },
  {
   "cell_type": "code",
   "execution_count": null,
   "metadata": {
    "collapsed": true
   },
   "outputs": [],
   "source": []
  }
 ],
 "metadata": {
  "kernelspec": {
   "display_name": "Python 2",
   "language": "python",
   "name": "python2"
  },
  "language_info": {
   "codemirror_mode": {
    "name": "ipython",
    "version": 2
   },
   "file_extension": ".py",
   "mimetype": "text/x-python",
   "name": "python",
   "nbconvert_exporter": "python",
   "pygments_lexer": "ipython2",
   "version": "2.7.13"
  }
 },
 "nbformat": 4,
 "nbformat_minor": 1
}
