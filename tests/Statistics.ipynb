{
 "cells": [
  {
   "cell_type": "code",
   "execution_count": null,
   "metadata": {
    "collapsed": true
   },
   "outputs": [],
   "source": [
    "import numpy as np\n",
    "import matplotlib.pyplot as plt\n",
    "import scipy.stats as stats\n",
    "from scipy.stats import t as tstat"
   ]
  },
  {
   "cell_type": "code",
   "execution_count": null,
   "metadata": {
    "collapsed": true
   },
   "outputs": [],
   "source": [
    "def ste(_x):\n",
    "    return stats.sem(_x, axis=None, ddof=(len(_x)-1.))\n",
    "\n",
    "def regression(x, y, visualize=True, print_stats=True, p=0.95, two_tailed=True, extent=None):\n",
    "    slope, intercept, r_value, p_value, std_err = stats.linregress(x, y)\n",
    "    \n",
    "    print('p={0}, r={1}, y={2}*x+{3}, ste={4}'.format(p_value, r_value, slope, intercept, std_err))\n",
    "    \n",
    "    mean_x = np.mean(x)\n",
    "    n = len(x)\n",
    "    p_tailed = p\n",
    "    if two_tailed:\n",
    "        p_tailed = p + ((1. - p) / 2.)\n",
    "    t = tstat.ppf(p_tailed, n - 1.)\n",
    "    s_err = ste(y)\n",
    "    \n",
    "    z = np.polyfit(x,y,1)\n",
    "    p_x = np.arange(np.min(x),np.max(x)+1,1)\n",
    "    \n",
    "    confs = t * np.sqrt((s_err/(n-2))*(1.0/n + (np.power((p_x-mean_x),2)/((np.sum(np.power(x,2)))-n*(np.power(mean_x,2))))))\n",
    "    \n",
    "    p_y = z[0]*p_x+z[0]\n",
    "\n",
    "    lower = p_y - abs(confs)\n",
    "    upper = p_y + abs(confs)\n",
    "    \n",
    "    c_x = x\n",
    "    c_y = [slope * i + intercept for i in x]\n",
    "\n",
    "    if visualize:\n",
    "        plt.xlabel('X values')\n",
    "        plt.ylabel('Y values')\n",
    "        plt.title('Linear regression and confidence limits')\n",
    "\n",
    "        plt.plot(x,y,'bo',label='Sample observations')\n",
    "        plt.plot(c_x,c_y,'r-',label='Regression line')\n",
    "\n",
    "        tail = 'one-tailed'\n",
    "        if two_tailed:\n",
    "            tail = 'two-tailed'\n",
    "\n",
    "        plt.plot(p_x,lower,'b--',label='Lower confidence limit ({0}% {1})'.format(p, tail))\n",
    "        plt.plot(p_x,upper,'b--',label='Upper confidence limit ({0}% {1})'.format(p, tail))\n",
    "\n",
    "        if extent is None:\n",
    "            extent = [[min(x), max(x)], [min(y), max(y)]]\n",
    "        plt.xlim(*extent[0])\n",
    "        plt.ylim(*extent[1])\n",
    "\n",
    "        plt.legend(loc=0)\n",
    "        leg = plt.gca().get_legend()\n",
    "        ltext = leg.get_texts()\n",
    "        plt.setp(ltext, fontsize=10)\n",
    "\n",
    "        plt.show()"
   ]
  },
  {
   "cell_type": "code",
   "execution_count": null,
   "metadata": {
    "collapsed": true
   },
   "outputs": [],
   "source": [
    "# example data\n",
    "x = np.array([4.0,2.5,3.2,5.8,7.4,4.4,8.3,8.5])\n",
    "y = np.array([2.1,4.0,1.5,6.3,5.0,5.8,8.1,7.1])\n",
    "regression(x, y, extent=[[0, 10], [0, 10]])"
   ]
  },
  {
   "cell_type": "code",
   "execution_count": null,
   "metadata": {
    "collapsed": true
   },
   "outputs": [],
   "source": [
    "import numpy as np\n",
    "import matplotlib.pyplot as plt\n",
    "import scipy.stats"
   ]
  },
  {
   "cell_type": "code",
   "execution_count": null,
   "metadata": {
    "collapsed": true
   },
   "outputs": [],
   "source": [
    "def t_test(a, b, visualize=True, print_stats=True):\n",
    "    t, p = scipy.stats.ttest_ind(a, b, equal_var=False)\n",
    "    \n",
    "    print('t={0}, p={1}'.format(t, p))\n",
    "    \n",
    "    n_a = len(a)\n",
    "    n_b = len(b)\n",
    "    mean_a = np.mean(a)\n",
    "    mean_b = np.mean(b)\n",
    "    ste_a = ste(a)\n",
    "    ste_b = ste(b)\n",
    "\n",
    "    fig, ax = plt.subplots()\n",
    "    rects1 = ax.bar(np.arange(2), (mean_a, mean_b), 0.8, color='r', yerr=(ste_a, ste_b))\n",
    "\n",
    "    plt.show()"
   ]
  },
  {
   "cell_type": "code",
   "execution_count": null,
   "metadata": {
    "collapsed": true
   },
   "outputs": [],
   "source": [
    "t_test(x, y)"
   ]
  },
  {
   "cell_type": "code",
   "execution_count": null,
   "metadata": {
    "collapsed": true
   },
   "outputs": [],
   "source": [
    "import statsmodels.sandbox.stats.multicomp as multi"
   ]
  },
  {
   "cell_type": "code",
   "execution_count": null,
   "metadata": {
    "collapsed": true
   },
   "outputs": [],
   "source": [
    "def multiple_compare_columns(a, b, a_cols, b_cols, p=0.95):\n",
    "    '''\n",
    "    From: http://www.statsmodels.org/devel/generated/statsmodels.sandbox.stats.multicomp.multipletests.html#statsmodels.sandbox.stats.multicomp.multipletests\n",
    "    `bonferroni` : one-step correction\n",
    "    `sidak` : one-step correction\n",
    "    `holm-sidak` : step down method using Sidak adjustments\n",
    "    `holm` : step-down method using Bonferroni adjustments\n",
    "    `simes-hochberg` : step-up method  (independent)\n",
    "    `hommel` : closed method based on Simes tests (non-negative)\n",
    "    `fdr_bh` : Benjamini/Hochberg  (non-negative)\n",
    "    `fdr_by` : Benjamini/Yekutieli (negative)\n",
    "    `fdr_tsbh` : two stage fdr correction (non-negative)\n",
    "    `fdr_tsbky` : two stage fdr correction (non-negative)\n",
    "    '''\n",
    "    \n",
    "    reject, pvals, alphacSidak, alphacBonf = multi.multipletests([0.1, 0.12, 0.13, 0.04], alpha=0.05, method='simes-hochberg')\n",
    "    \n",
    "    return reject, pvals, alphacSidak, alphacBonf"
   ]
  },
  {
   "cell_type": "code",
   "execution_count": null,
   "metadata": {
    "collapsed": true
   },
   "outputs": [],
   "source": [
    "multiple_compare_columns(0, 0, 0, 0)"
   ]
  },
  {
   "cell_type": "code",
   "execution_count": null,
   "metadata": {
    "collapsed": true
   },
   "outputs": [],
   "source": []
  },
  {
   "cell_type": "code",
   "execution_count": null,
   "metadata": {
    "collapsed": true
   },
   "outputs": [],
   "source": []
  }
 ],
 "metadata": {
  "kernelspec": {
   "display_name": "Python 2",
   "language": "python",
   "name": "python2"
  },
  "language_info": {
   "codemirror_mode": {
    "name": "ipython",
    "version": 2
   },
   "file_extension": ".py",
   "mimetype": "text/x-python",
   "name": "python",
   "nbconvert_exporter": "python",
   "pygments_lexer": "ipython2",
   "version": "2.7.13"
  }
 },
 "nbformat": 4,
 "nbformat_minor": 2
}
