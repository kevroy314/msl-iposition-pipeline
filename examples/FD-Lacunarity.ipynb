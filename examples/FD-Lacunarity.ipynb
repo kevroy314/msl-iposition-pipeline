{
 "cells": [
  {
   "cell_type": "markdown",
   "metadata": {},
   "source": [
    "From: http://connor-johnson.com/2014/03/04/fractal-dimension-and-box-counting/"
   ]
  },
  {
   "cell_type": "code",
   "execution_count": 1,
   "metadata": {},
   "outputs": [],
   "source": [
    "import numpy as np, scipy, scipy.stats\n",
    "from pandas import Series, DataFrame\n",
    "import scipy.optimize"
   ]
  },
  {
   "cell_type": "code",
   "execution_count": 2,
   "metadata": {},
   "outputs": [],
   "source": [
    "L = 64\n",
    "U = list()\n",
    "rate = L / 6.0\n",
    "N = scipy.stats.poisson( rate ).rvs()\n",
    "U = list( scipy.stats.uniform(0,L).rvs(N) )\n",
    " \n",
    "def matern_children( U, rate, nbhd ):\n",
    "    T = list()\n",
    "    for i in range( len( U ) ):\n",
    "        M = scipy.stats.poisson( rate ).rvs()\n",
    "        for j in range( M ):\n",
    "            T.append( scipy.stats.uniform( U[i]-nbhd, 2*nbhd ).rvs() )\n",
    "    return T\n",
    " \n",
    "nbhd = 2.0\n",
    "U = matern_children( U, rate, nbhd )\n",
    "U = matern_children( U, rate, nbhd/4.0 )\n",
    "U = matern_children( U, rate, nbhd/8.0 )\n",
    "U = matern_children( U, rate, nbhd/16.0 )"
   ]
  },
  {
   "cell_type": "code",
   "execution_count": 14,
   "metadata": {},
   "outputs": [
    {
     "data": {
      "image/png": "[encoded data removed]",
      "text/plain": [
       "<matplotlib.figure.Figure at 0xe339470>"
      ]
     },
     "metadata": {},
     "output_type": "display_data"
    }
   ],
   "source": [
    "import matplotlib.pyplot as plt\n",
    "plt.hist( U, 100, alpha=0.5 ) ;\n",
    "plt.title('Distribution of Four Tier Matern Point Process')\n",
    "plt.ylabel('Frequency') ; xlabel('Location') ;\n",
    "plt.savefig('matern_fractal_distribution.png', fmt='png', dpi=100 )"
   ]
  },
  {
   "cell_type": "code",
   "execution_count": 20,
   "metadata": {},
   "outputs": [],
   "source": [
    "def count_boxes( data, box_size, M ):\n",
    "    data = Series( data )\n",
    "    N = np.int( np.floor( M / box_size ) )\n",
    "    counts = list()\n",
    "    for i in range( N ):\n",
    "        condition = ( data >= i*box_size )&( data < (i+1)*box_size )\n",
    "        subset = data[ condition ]\n",
    "        counts.append( subset.count() )\n",
    "    counts = [ i for i in counts if i != 0 ]\n",
    "    return len( counts )\n",
    " \n",
    "r = np.array([ L/(2.0**i) for i in range(20,0,-1) ])\n",
    "N = [ count_boxes( U, ri, L ) for ri in r ]"
   ]
  },
  {
   "cell_type": "code",
   "execution_count": 21,
   "metadata": {},
   "outputs": [],
   "source": [
    "def f( x, A, Df ):\n",
    "    '''\n",
    "    User defined function for scipy.optimize.curve_fit(),\n",
    "    which will find optimal values for A and Df.\n",
    "    '''\n",
    "    return Df * x + A\n",
    " \n",
    "popt, pcov = scipy.optimize.curve_fit( f, np.log( 1./r ), np.log( N ) )\n",
    "A, Df = popt"
   ]
  },
  {
   "cell_type": "code",
   "execution_count": 22,
   "metadata": {},
   "outputs": [
    {
     "data": {
      "image/png": "[encoded data removed]",
      "text/plain": [
       "<matplotlib.figure.Figure at 0xdfc1b38>"
      ]
     },
     "metadata": {},
     "output_type": "display_data"
    }
   ],
   "source": [
    "import matplotlib.pyplot as plt\n",
    "\n",
    "fig, ax = plt.subplots()\n",
    "plt.plot( 1./r, N, 'b.-' )\n",
    "ax.plot( 1./r, np.exp(A)*1./r**Df, 'g', alpha=1.0 )\n",
    "ax.set_xscale('log')\n",
    "ax.set_yscale('log')\n",
    "ax.set_aspect(1)\n",
    "plt.xlabel('Box Size')\n",
    "plt.ylabel('Number of Boxes')\n",
    "plt.grid(which='minor', ls='-', color='0.75')\n",
    "plt.grid(which='major', ls='-', color='0.25')\n",
    "plt.title('Box-Counting')\n",
    "plt.savefig('fractal_box_counting.png',fmt='png',dpi=100)"
   ]
  },
  {
   "cell_type": "code",
   "execution_count": 23,
   "metadata": {},
   "outputs": [
    {
     "data": {
      "text/html": [
       "<table class=\"simpletable\">\n",
       "<caption>OLS Regression Results</caption>\n",
       "<tr>\n",
       "  <th>Dep. Variable:</th>          <td>N(r)</td>       <th>  R-squared:         </th> <td>   0.996</td>\n",
       "</tr>\n",
       "<tr>\n",
       "  <th>Model:</th>                   <td>OLS</td>       <th>  Adj. R-squared:    </th> <td>   0.996</td>\n",
       "</tr>\n",
       "<tr>\n",
       "  <th>Method:</th>             <td>Least Squares</td>  <th>  F-statistic:       </th> <td>   4448.</td>\n",
       "</tr>\n",
       "<tr>\n",
       "  <th>Date:</th>             <td>Fri, 05 Jan 2018</td> <th>  Prob (F-statistic):</th> <td>5.21e-23</td>\n",
       "</tr>\n",
       "<tr>\n",
       "  <th>Time:</th>                 <td>14:09:47</td>     <th>  Log-Likelihood:    </th> <td>  1.2380</td>\n",
       "</tr>\n",
       "<tr>\n",
       "  <th>No. Observations:</th>      <td>    20</td>      <th>  AIC:               </th> <td>   1.524</td>\n",
       "</tr>\n",
       "<tr>\n",
       "  <th>Df Residuals:</th>          <td>    18</td>      <th>  BIC:               </th> <td>   3.515</td>\n",
       "</tr>\n",
       "<tr>\n",
       "  <th>Df Model:</th>              <td>     1</td>      <th>                     </th>     <td> </td>   \n",
       "</tr>\n",
       "<tr>\n",
       "  <th>Covariance Type:</th>      <td>nonrobust</td>    <th>                     </th>     <td> </td>   \n",
       "</tr>\n",
       "</table>\n",
       "<table class=\"simpletable\">\n",
       "<tr>\n",
       "   <td></td>     <th>coef</th>     <th>std err</th>      <th>t</th>      <th>P>|t|</th>  <th>[0.025</th>    <th>0.975]</th>  \n",
       "</tr>\n",
       "<tr>\n",
       "  <th>Df</th> <td>    0.8946</td> <td>    0.013</td> <td>   66.695</td> <td> 0.000</td> <td>    0.866</td> <td>    0.923</td>\n",
       "</tr>\n",
       "<tr>\n",
       "  <th>A</th>  <td>    3.8557</td> <td>    0.068</td> <td>   56.700</td> <td> 0.000</td> <td>    3.713</td> <td>    3.999</td>\n",
       "</tr>\n",
       "</table>\n",
       "<table class=\"simpletable\">\n",
       "<tr>\n",
       "  <th>Omnibus:</th>       <td>11.319</td> <th>  Durbin-Watson:     </th> <td>   0.400</td>\n",
       "</tr>\n",
       "<tr>\n",
       "  <th>Prob(Omnibus):</th> <td> 0.003</td> <th>  Jarque-Bera (JB):  </th> <td>   9.270</td>\n",
       "</tr>\n",
       "<tr>\n",
       "  <th>Skew:</th>          <td>-1.228</td> <th>  Prob(JB):          </th> <td> 0.00971</td>\n",
       "</tr>\n",
       "<tr>\n",
       "  <th>Kurtosis:</th>      <td> 5.256</td> <th>  Cond. No.          </th> <td>    6.53</td>\n",
       "</tr>\n",
       "</table>"
      ],
      "text/plain": [
       "<class 'statsmodels.iolib.summary.Summary'>\n",
       "\"\"\"\n",
       "                            OLS Regression Results                            \n",
       "==============================================================================\n",
       "Dep. Variable:                   N(r)   R-squared:                       0.996\n",
       "Model:                            OLS   Adj. R-squared:                  0.996\n",
       "Method:                 Least Squares   F-statistic:                     4448.\n",
       "Date:                Fri, 05 Jan 2018   Prob (F-statistic):           5.21e-23\n",
       "Time:                        14:09:47   Log-Likelihood:                 1.2380\n",
       "No. Observations:                  20   AIC:                             1.524\n",
       "Df Residuals:                      18   BIC:                             3.515\n",
       "Df Model:                           1                                         \n",
       "Covariance Type:            nonrobust                                         \n",
       "==============================================================================\n",
       "                 coef    std err          t      P>|t|      [0.025      0.975]\n",
       "------------------------------------------------------------------------------\n",
       "Df             0.8946      0.013     66.695      0.000       0.866       0.923\n",
       "A              3.8557      0.068     56.700      0.000       3.713       3.999\n",
       "==============================================================================\n",
       "Omnibus:                       11.319   Durbin-Watson:                   0.400\n",
       "Prob(Omnibus):                  0.003   Jarque-Bera (JB):                9.270\n",
       "Skew:                          -1.228   Prob(JB):                      0.00971\n",
       "Kurtosis:                       5.256   Cond. No.                         6.53\n",
       "==============================================================================\n",
       "\n",
       "Warnings:\n",
       "[1] Standard Errors assume that the covariance matrix of the errors is correctly specified.\n",
       "\"\"\""
      ]
     },
     "execution_count": 23,
     "metadata": {},
     "output_type": "execute_result"
    }
   ],
   "source": [
    "import statsmodels.formula.api as sm\n",
    " \n",
    "Y = np.log( N )\n",
    "X = np.log( 1./r )\n",
    "T = np.vstack((Y,X,np.ones_like(X))).T\n",
    " \n",
    "df = DataFrame( T, columns=['N(r)','Df','A'] )\n",
    "Y = df['N(r)']\n",
    "X = df[['Df','A']]\n",
    "result = sm.OLS( Y, X ).fit()\n",
    "result.summary()"
   ]
  },
  {
   "cell_type": "code",
   "execution_count": null,
   "metadata": {},
   "outputs": [],
   "source": []
  }
 ],
 "metadata": {
  "kernelspec": {
   "display_name": "Python 2",
   "language": "python",
   "name": "python2"
  },
  "language_info": {
   "codemirror_mode": {
    "name": "ipython",
    "version": 2
   },
   "file_extension": ".py",
   "mimetype": "text/x-python",
   "name": "python",
   "nbconvert_exporter": "python",
   "pygments_lexer": "ipython2",
   "version": "2.7.14"
  }
 },
 "nbformat": 4,
 "nbformat_minor": 2
}
