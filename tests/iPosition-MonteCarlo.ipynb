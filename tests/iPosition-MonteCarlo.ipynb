{
 "cells": [
  {
   "cell_type": "markdown",
   "metadata": {},
   "source": [
    "# iPosition Monte Carlo Simulation\n",
    "\n",
    "This notebook contains various monte carlo simulations for iPosition data. In particular, a few primary methods of simulation are used. Naive 2D simulation, histogram data-driven simulation, and dirichlet distribution simulation are used to determine chance levels. The \"actual coordinates\" are either from real coordinates or from random coordinates."
   ]
  },
  {
   "cell_type": "markdown",
   "metadata": {},
   "source": [
    "First we need to import the pipeline. You'll need to change this directory to wherever it is stored on your machine."
   ]
  },
  {
   "cell_type": "code",
   "execution_count": null,
   "metadata": {
    "collapsed": true
   },
   "outputs": [],
   "source": [
    "from cogrecon.core.full_pipeline import full_pipeline, get_header_labels\n",
    "from cogrecon.core.data_structures import TrialData, ParticipantData, AnalysisConfiguration"
   ]
  },
  {
   "cell_type": "markdown",
   "metadata": {},
   "source": [
    "## Naive 2D Simulation\n",
    "\n",
    "This section contains the Naive 2D simulations using either truly random values with random target points or truly random values with actual target points.\n",
    "\n",
    "First, we define some global variables about our simulation."
   ]
  },
  {
   "cell_type": "code",
   "execution_count": null,
   "metadata": {},
   "outputs": [],
   "source": [
    "from sklearn.externals import joblib\n",
    "\n",
    "sim_iterations = 1000  # For convenience, the number of iterations each simulation configuration should run\n",
    "\n",
    "# Define the dimensions, number of items, and iterations for each test\n",
    "root_dir = r'C:\\Users\\Kevin\\Google Drive\\iPyNotebooks\\iPosition'\n",
    "# kde_model = joblib.load(root_dir + r'\\pat_kde.pkl')\n",
    "test_configs = [\n",
    "    {'dims': 2, 'items': 2, 'iterations': sim_iterations, 'random_source': 'naive2d'},  # 'kde', 'model': kde_model},\n",
    "    {'dims': 2, 'items': 3, 'iterations': sim_iterations, 'random_source': 'naive2d'},  # 'kde', 'model': kde_model},\n",
    "    {'dims': 2, 'items': 4, 'iterations': sim_iterations, 'random_source': 'naive2d'},  # 'kde', 'model': kde_model},\n",
    "    {'dims': 2, 'items': 5, 'iterations': sim_iterations, 'random_source': 'naive2d'},  # 'kde', 'model': kde_model},\n",
    "    {'dims': 2, 'items': 6, 'iterations': sim_iterations, 'random_source': 'naive2d'},  # 'kde', 'model': kde_model},\n",
    "    {'dims': 2, 'items': 7, 'iterations': sim_iterations, 'random_source': 'naive2d'}  # 'kde', 'model': kde_model}\n",
    "]\n",
    "\n",
    "remove_columns = [4, 18, 40, 41, 42, 43]  # Some columns of our output may not average or standard-deviation easily, so we remove those\n",
    "\n",
    "save_filename = 'naive_2d_monte_carlo.p'  # The filename to save the output as we go"
   ]
  },
  {
   "cell_type": "code",
   "execution_count": null,
   "metadata": {
    "collapsed": true
   },
   "outputs": [],
   "source": [
    "import numpy as np\n",
    "import numpy.random as rand\n",
    "import logging\n",
    "import time\n",
    "import os\n",
    "import pickle\n",
    "\n",
    "# Disable some outputs that we don't need given our circumstances\n",
    "logger = logging.getLogger()\n",
    "logger.disabled = True\n",
    "np.seterr(invalid='ignore')"
   ]
  },
  {
   "cell_type": "code",
   "execution_count": null,
   "metadata": {
    "collapsed": true
   },
   "outputs": [],
   "source": [
    "# Helper for getting the appropriate headers for columns we keep\n",
    "def get_output_labels():\n",
    "    headers = get_header_labels()\n",
    "    headers = np.delete(headers, remove_columns)\n",
    "    return headers\n",
    "\n",
    "# Helper for printing our variables as we run\n",
    "def print_read_friendly(o):\n",
    "    headers = get_output_labels()\n",
    "    \n",
    "    row_format =\"{0:55}: {1:15}\"\n",
    "    for h, oo in zip(headers, o):\n",
    "        print(row_format.format(h, oo))\n",
    "\n",
    "# Helper for converting our outputs to an easy-to-save format\n",
    "def get_save_data(_test_configs, _output_labels, _mean_outputs, _std_outputs, _times):\n",
    "    save_data = {\n",
    "        'test_configs': _test_configs,\n",
    "        'output_labels': _output_labels,\n",
    "        'mean_outputs': _mean_outputs,\n",
    "        'std_outputs': _std_outputs,\n",
    "        'times': _times\n",
    "            }\n",
    "    return save_data\n",
    "    \n",
    "# Helper for saving our data\n",
    "def checkpoint_data(save_filename, data):\n",
    "    pickle.dump(data, open(save_filename, 'wb'))\n",
    "\n",
    "def generate_bounded_samples(kde, n_samples, x_range=(0, 1), y_range=(0, 1)):\n",
    "    y_sample, x_sample = np.transpose(kde.sample(n_samples=n_samples))\n",
    "    count = np.inf\n",
    "    while count != 0:\n",
    "        count = 0\n",
    "        for idx, (x, y) in enumerate(zip(x_sample, y_sample)):\n",
    "            if (not (x_range[0] <= x <= x_range[1])) or (not (y_range[0] <= y <= y_range[1])):\n",
    "                count += 1\n",
    "                yy, xx = np.transpose(kde.sample(n_samples=1))\n",
    "                x_sample[idx] = xx[0]\n",
    "                y_sample[idx] = yy[0]\n",
    "    return x_sample, y_sample    \n",
    "    \n",
    "# Helper for getting random data\n",
    "def get_random_data(n, dims, source='naive2d', model=None):\n",
    "    if source == 'naive2d':\n",
    "        actual = np.array([np.array([rand.random() for _ in range(dims)]) for _ in range(n)])\n",
    "        data = np.array([np.array([rand.random() for _ in range(dims)]) for _ in range(n)])\n",
    "    elif source == 'kde':\n",
    "        if model is None:\n",
    "            raise ValueError(\"No model provided for KDE.\")\n",
    "        if dims != 2:\n",
    "            raise ValueError(\"Dimension must be 2D for KDE.\")\n",
    "        x, y = generate_bounded_samples(model, n)\n",
    "        actual = np.array([np.array([xx, yy]) for xx, yy in zip(x, y)])\n",
    "        data = np.array([np.array([rand.random() for _ in range(dims)]) for _ in range(n)])\n",
    "    return actual.tolist(), data.tolist()"
   ]
  },
  {
   "cell_type": "code",
   "execution_count": null,
   "metadata": {
<<<<<<< HEAD
    "collapsed": true
=======
    "scrolled": true
>>>>>>> origin/master
   },
   "outputs": [],
   "source": [
    "np.seterr(divide='ignore')\n",
    "\n",
    "# Lists to store our main outputs\n",
    "mean_outputs = []\n",
    "std_outputs = []\n",
    "times = []\n",
    "\n",
    "# Iterate through our configurations\n",
    "for config in test_configs:\n",
    "    # Get config parameters\n",
    "    dims = config['dims']\n",
    "    items = config['items']\n",
    "    iterations = config['iterations']\n",
    "    random_source = config['random_source']\n",
    "    if 'model' in config:\n",
    "        model = config['model']\n",
    "    else:\n",
    "        model = None\n",
    "    \n",
    "    # List to store each iteration output - for large iterations, this is the list that can balloon up\n",
    "    outputs = []\n",
    "    \n",
    "    # Record start runtime\n",
    "    start_time = time.time()\n",
    "    \n",
    "    # Iterate the number of times requested\n",
    "    for _ in range(iterations):\n",
    "        # Generate random data\n",
    "        actual, data = get_random_data(items, dims, random_source, model)\n",
    "        \n",
    "        # Run the pipeline\n",
    "        output = full_pipeline(ParticipantData([TrialData(actual, data)]), AnalysisConfiguration(), visualize=False)[0]\n",
    "\n",
    "        # Delete the removal columns and append the output\n",
    "        output = np.delete(output, remove_columns, axis=0)\n",
    "        outputs.append(output)\n",
    "    \n",
    "    # Save the runtime, mean of outputs, and standard deviation of outputs (converting to float for that to avoid errors)\n",
    "    duration = time.time() - start_time\n",
    "    try:\n",
    "        avgs = np.nanmean(outputs, axis=0)\n",
    "    except ZeroDivisionError:\n",
    "        print(np.array(outputs).tolist())\n",
    "        break\n",
    "    stds = np.nanstd([[float(x) for x in inner] for inner in outputs], axis=0)\n",
    "    \n",
    "    mean_outputs.append(avgs)\n",
    "    std_outputs.append(stds)\n",
    "    times.append(duration)\n",
    "    \n",
    "    # Checkpoint/save the data to file\n",
    "    checkpoint_data(save_filename, get_save_data(test_configs, get_output_labels(), mean_outputs, std_outputs, times))\n",
    "\n",
    "    # Print a report on this configuration for the user\n",
    "    print('{0} iterations run in {1} seconds ({2} average) on {3}.'.format(sim_iterations, duration, duration/sim_iterations, config))\n",
    "    print('_'*100)\n",
    "    print_read_friendly(avgs)\n",
    "    print('_'*100)\n",
    "    print('_'*100)"
   ]
  },
  {
   "cell_type": "markdown",
   "metadata": {},
   "source": [
    "Load the data to confirm it saved properly."
   ]
  },
  {
   "cell_type": "code",
   "execution_count": null,
   "metadata": {
    "collapsed": true
   },
   "outputs": [],
   "source": [
    "load_data = pickle.load(open(save_filename, \"rb\"))\n",
    "print(load_data)"
   ]
  },
  {
   "cell_type": "code",
   "execution_count": null,
   "metadata": {
    "collapsed": true
   },
   "outputs": [],
   "source": []
  }
 ],
 "metadata": {
  "anaconda-cloud": {},
  "kernelspec": {
   "display_name": "Python 2",
   "language": "python",
   "name": "python2"
  },
  "language_info": {
   "codemirror_mode": {
    "name": "ipython",
    "version": 2
   },
   "file_extension": ".py",
   "mimetype": "text/x-python",
   "name": "python",
   "nbconvert_exporter": "python",
   "pygments_lexer": "ipython2",
   "version": "2.7.13"
  }
 },
 "nbformat": 4,
 "nbformat_minor": 1
}
