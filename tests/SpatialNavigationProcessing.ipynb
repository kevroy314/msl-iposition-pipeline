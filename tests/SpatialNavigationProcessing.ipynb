{
 "cells": [
  {
   "cell_type": "markdown",
   "metadata": {},
   "source": [
    "# Spatial Navigation Processing\n",
    "\n",
    "This notebook contains the necessary steps to perform the processing on the 4-room spatial navigation task as well as the 2-room spatial navigation task. Due to minor differences in the 2-room task using anonymized items during test, it is recommended that different scripts be used to parse that data (hence the separate example). In principle, study and practice should be parsable in the same way regardless of the number of rooms."
   ]
  },
  {
   "cell_type": "markdown",
   "metadata": {},
   "source": [
    "## 4-Room Spatial Navigation\n",
    "\n",
    "First, we'll import the analytics framework."
   ]
  },
  {
   "cell_type": "code",
   "execution_count": null,
   "metadata": {
    "collapsed": true
   },
   "outputs": [],
   "source": [
    "import cogrecon.core.data_flexing.spatial_navigation.spatial_navigation_analytics as analytics"
   ]
  },
  {
   "cell_type": "markdown",
   "metadata": {},
   "source": [
    "Next, we'll generate the intermediate files from the data set. This is a one-time, computationally expensive process which will save us time in future processing. It can take quite a long time (especially if running over the network as seen below). To selectively generate only parts of the intermediate data set, we can flag elements as False (so they will be ignored)."
   ]
  },
  {
   "cell_type": "code",
   "execution_count": null,
   "metadata": {
    "collapsed": true
   },
   "outputs": [],
   "source": [
    "analytics.generate_intermediate_files(r'Z:\\Kevin\\Holodeck\\Virtual Navigation Data', full_study_path=False, full_study_look=False, full_test_path=False,\n",
    "                                full_test_look=False, full_practice_path=False, full_practice_look=False,\n",
    "                                full_test_2d=False, full_test_vr=True)"
   ]
  },
  {
   "cell_type": "markdown",
   "metadata": {},
   "source": [
    "Next, we'll run some of our additional analyses on the intermediate files. This includes calculating:\n",
    " * Item-Specific Efficiency Metrics\n",
    " * Study-Path Efficiency Metrics\n",
    " * Basic Exploration Metrics\n",
    " * Segmentation Analysis"
   ]
  },
  {
   "cell_type": "code",
   "execution_count": null,
   "metadata": {
    "collapsed": true
   },
   "outputs": [],
   "source": [
    "intermediate_files_dir = r'C:\\Users\\Kevin\\Documents\\GitHub\\msl-iposition-pipeline\\tests\\2017-06-27_19-13-53'\n",
    "\n",
    "analytics.generate_segmentation_analysis(intermediate_files_dir + r'\\vr_test.csv', '4-room_segmentation_analysis.csv')"
   ]
  },
  {
   "cell_type": "markdown",
   "metadata": {},
   "source": [
    "Next, we'll run a conversion on the intermediate files to generate iposition compatible data which can be run through the standard pipeline to analyze item placement."
   ]
  },
  {
   "cell_type": "code",
   "execution_count": null,
   "metadata": {
    "collapsed": true
   },
   "outputs": [],
   "source": [
    "import cogrecon.core.data_flexing.spatial_navigation.spatial_navigation_analytics as analytics\n",
    "\n",
    "intermediate_files_dir = r'C:\\Users\\Kevin\\Documents\\GitHub\\msl-iposition-pipeline\\tests\\2017-06-27_19-13-53'\n",
    "analytics.convert_to_iposition(intermediate_files_dir + r'\\vr_test.csv', r'C:\\Users\\Kevin\\Documents\\GitHub\\msl-iposition-pipeline\\tests\\4-room-iposition')"
   ]
  },
  {
   "cell_type": "markdown",
   "metadata": {},
   "source": [
    "Finally, we'll run the pipeline on the files to generate our reconstruction output metrics. Note that for the 4-room deanonymization, doing global deanonymization would involve finding a minimum in 16! possible combinations or 2.09227899e13 combinations. This is extremely impractical to do across nearly 200 trials so we use order to determine minimal placement."
   ]
  },
  {
   "cell_type": "code",
   "execution_count": null,
   "metadata": {},
   "outputs": [],
   "source": [
    "from cogrecon.core.batch_pipeline import batch_pipeline\n",
    "import datetime\n",
    "\n",
    "batch_pipeline(r\"C:\\Users\\Kevin\\Documents\\GitHub\\msl-iposition-pipeline\\tests\\4-room-iposition\",\n",
    "               datetime.datetime.now().strftime(\"%Y-%m-%d_%H-%M-%S.csv\"), \n",
    "               category_independence_enabled=True, category_prefixes=True, trial_by_trial_accuracy=False)"
   ]
  },
  {
   "cell_type": "code",
   "execution_count": null,
   "metadata": {},
   "outputs": [],
   "source": [
    "from cogrecon.core.data_structures import ParticipantData, AnalysisConfiguration\n",
    "from cogrecon.core.full_pipeline import full_pipeline\n",
    "\n",
    "subid = '135'\n",
    "\n",
    "root_path = r'C:\\Users\\Kevin\\Documents\\GitHub\\msl-iposition-pipeline\\tests\\4-room-iposition'\n",
    "full_pipeline(ParticipantData.load_from_file(root_path + r'\\actual_coordinates.txt', \n",
    "                                             root_path + r'\\{0}position_data_coordinates.txt'.format(subid), \n",
    "                                             None), \n",
    "              AnalysisConfiguration(trial_by_trial_accuracy=False), \n",
    "              visualize=True)"
   ]
  },
  {
   "cell_type": "markdown",
   "metadata": {},
   "source": [
    "## Statistical Analysis\n",
    "\n",
    "Now, we'll want to combine the outputs from the various analyses and look for associations."
   ]
  },
  {
   "cell_type": "code",
   "execution_count": null,
   "metadata": {
    "collapsed": true
   },
   "outputs": [],
   "source": []
  },
  {
   "cell_type": "markdown",
   "metadata": {},
   "source": [
    "## 2-Room Spatial Navigation\n",
    "\n",
    "Next, we'll repeat the above process on the 2-room spatial navigation task data."
   ]
  },
  {
   "cell_type": "code",
   "execution_count": null,
   "metadata": {
    "collapsed": true
   },
   "outputs": [],
   "source": []
  }
 ],
 "metadata": {
  "kernelspec": {
   "display_name": "Python 2",
   "language": "python",
   "name": "python2"
  },
  "language_info": {
   "codemirror_mode": {
    "name": "ipython",
    "version": 2
   },
   "file_extension": ".py",
   "mimetype": "text/x-python",
   "name": "python",
   "nbconvert_exporter": "python",
   "pygments_lexer": "ipython2",
   "version": "2.7.13"
  }
 },
 "nbformat": 4,
 "nbformat_minor": 1
}
