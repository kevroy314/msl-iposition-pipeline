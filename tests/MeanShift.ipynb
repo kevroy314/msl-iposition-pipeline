{
 "cells": [
  {
   "cell_type": "code",
   "execution_count": 2,
   "metadata": {},
   "outputs": [],
   "source": [
    "from cogrecon.core.data_flexing.time_travel_task.time_travel_task_binary_reader import get_items_solutions"
   ]
  },
  {
   "cell_type": "code",
   "execution_count": null,
   "metadata": {
    "collapsed": true
   },
   "outputs": [],
   "source": [
    "%matplotlib inline\n",
    "import numpy as np\n",
    "import matplotlib.pyplot as plt\n",
    "from sklearn.neighbors import KernelDensity\n",
    "from scipy.stats.distributions import norm\n",
    "from sklearn.grid_search import GridSearchCV\n",
    "\n",
    "def tuples_to_xy(tuples):\n",
    "    tmp = np.transpose(tuples)\n",
    "    return tmp[0], tmp[1]\n",
    "\n",
    "def norm_on_range(x, y, x_range=None, y_range=None):\n",
    "    if x_range is None:\n",
    "        x_range = (min(x), max(x))\n",
    "    if y_range is None:\n",
    "        y_range = (min(y), max(y))\n",
    "    x_measured_range = [min(x), max(x)]\n",
    "    y_measured_range = [min(y), max(y)]\n",
    "    \n",
    "    x = [(xx - x_measured_range[0]) / (x_measured_range[1] - x_measured_range[0]) for xx in x]\n",
    "    y = [(yy - y_measured_range[0]) / (y_measured_range[1] - y_measured_range[0]) for yy in y]\n",
    "    \n",
    "    x = [(xx + x_range[0]) * (x_range[1] - x_range[0]) for xx in x]\n",
    "    y = [(yy + y_range[0]) * (y_range[1] - y_range[0]) for yy in y]\n",
    "    return x, y\n",
    "\n",
    "def KDEiPosition(points, title=None, show=False, save_to=None, bandwidth=None, show_points=False):\n",
    "    x, y = tuples_to_xy(points)\n",
    "    x, y = norm_on_range(x, y, x_range=(0, 1), y_range=(0, 1))\n",
    "\n",
    "    x = np.array(x)\n",
    "    y = np.array(y)\n",
    "\n",
    "    xy_train  = np.vstack([y, x]).T\n",
    "    if bandwidth is None:\n",
    "        grid = GridSearchCV(KernelDensity(kernel='gaussian'),  # 'tophat' is other option that allows sampling\n",
    "                            {'bandwidth': np.linspace(0.1, 1.0, 5)},\n",
    "                            cv=20) # 20-fold cross-validation\n",
    "        grid.fit(xy_train)\n",
    "        print(grid.best_params_)\n",
    "\n",
    "        kde = grid.best_estimator_\n",
    "    else:\n",
    "        grid = GridSearchCV(KernelDensity(kernel='gaussian'),  # 'tophat' is other option that allows sampling\n",
    "                            {'bandwidth': np.linspace(bandwidth, bandwidth, 1)},\n",
    "                            cv=20) # 20-fold cross-validation\n",
    "        grid.fit(xy_train)\n",
    "        print(grid.best_params_)\n",
    "\n",
    "        kde = grid.best_estimator_\n",
    "    # Create grid of sample locations (default: 100x100)\n",
    "    xx, yy = np.mgrid[0:1:100j, \n",
    "                      0:1:100j]\n",
    "\n",
    "    xy_sample = np.vstack([yy.ravel(), xx.ravel()]).T\n",
    "\n",
    "    pdf = np.exp(kde.score_samples(xy_sample))\n",
    "    \n",
    "    if show or save_to is not None:\n",
    "        with plt.rc_context():\n",
    "            ax = plt.subplot(111)\n",
    "            plt.pcolormesh(xx, yy, np.reshape(pdf, xx.shape))\n",
    "            if show_points:\n",
    "                plt.scatter(x, y, s=0.5, color='white')\n",
    "            plt.xlim(0, 1)\n",
    "            plt.ylim(0, 1)\n",
    "            plt.axis([0., 1., 0., 1.])\n",
    "            #plt.axis('equal')\n",
    "            if title is not None:\n",
    "                plt.title(title)\n",
    "            if save_to is not None:\n",
    "                plt.savefig(save_to, dpi=600)\n",
    "            if show:\n",
    "                plt.show()\n",
    "            \n",
    "    return kde\n",
    "\n",
    "def KDEiPosition3D(points, bandwidth=None):\n",
    "    x, y, z = np.transpose([[xx, yy, zz] for xx, yy, zz in points])\n",
    "    x, _ = norm_on_range(x, [0, 1], x_range=(0, 1), y_range=(0, 1))\n",
    "    y, _ = norm_on_range(y, [0, 1], x_range=(0, 1), y_range=(0, 1))\n",
    "    z, _ = norm_on_range(z, [0, 1], x_range=(0, 2), y_range=(0, 1))\n",
    "\n",
    "    x = np.array(x)\n",
    "    y = np.array(y)\n",
    "    z = np.array(z)\n",
    "\n",
    "    xyz_train  = np.vstack([z, y, x]).T\n",
    "    if bandwidth is None:\n",
    "        grid = GridSearchCV(KernelDensity(kernel='gaussian'),  # 'tophat' is other option that allows sampling\n",
    "                            {'bandwidth': np.linspace(0.1, 1.0, 5)},\n",
    "                            cv=20) # 20-fold cross-validation\n",
    "        grid.fit(xyz_train)\n",
    "        print(grid.best_params_)\n",
    "\n",
    "        kde = grid.best_estimator_\n",
    "    else:\n",
    "        grid = GridSearchCV(KernelDensity(kernel='gaussian'),  # 'tophat' is other option that allows sampling\n",
    "                            {'bandwidth': np.linspace(bandwidth, bandwidth, 1)},\n",
    "                            cv=20) # 20-fold cross-validation\n",
    "        grid.fit(xyz_train)\n",
    "        print(grid.best_params_)\n",
    "\n",
    "        kde = grid.best_estimator_\n",
    "    # Create grid of sample locations (default: 100x100)\n",
    "    # xx, yy, zz = np.mgrid[0:1:50j, \n",
    "    #                       0:1:50j,\n",
    "    #                       0:2:100j]\n",
    "\n",
    "    # xyz_sample = np.vstack([zz.ravel(), yy.ravel(), xx.ravel()]).T\n",
    "\n",
    "    # pdf = np.exp(kde.score_samples(xyz_sample))\n",
    "            \n",
    "    return kde\n",
    "\n",
    "def save_model(model, filename):\n",
    "    from sklearn.externals import joblib\n",
    "    joblib.dump(model, filename)"
   ]
  },
  {
   "cell_type": "code",
   "execution_count": null,
   "metadata": {
    "collapsed": true
   },
   "outputs": [],
   "source": [
    "_, times, _ = get_items_solutions({'inverse': '0', 'phase': '1'})\n",
    "print(times)\n",
    "bin_boundaries = [[x - 1, x + 1] for x in times]\n",
    "print(bin_boundaries)"
   ]
  },
  {
   "cell_type": "code",
   "execution_count": null,
   "metadata": {
    "collapsed": true
   },
   "outputs": [],
   "source": [
    "from cogrecon.core.data_flexing.time_travel_task_binary_reader import read_binary_file, find_data_files_in_directory, get_filename_meta_data\n",
    "import numpy as np\n",
    "import datetime\n",
    "\n",
    "def bin_iterations(iterations, bins, bin_width=2):\n",
    "    bin_boundaries = [[x - bin_width/2, x + bin_width/2] for x in bins]\n",
    "    points = [[] for _ in bins]\n",
    "    for i in iterations:\n",
    "        p = (i['x'], i['z'])\n",
    "        t = i['time_val']\n",
    "        for idx, b in enumerate(bin_boundaries):\n",
    "            if b[0] <= t <= b[1]:\n",
    "                points[idx].append(p)\n",
    "    return points, bins\n",
    "\n",
    "def get_raw_points_from_iterations(iterations, flip=False):\n",
    "    points = []\n",
    "    for i in iterations:\n",
    "        if flip:\n",
    "            p = (i['x'], i['z'], 60. - i['time_val'])\n",
    "        else:\n",
    "            p = (i['x'], i['z'], i['time_val'])\n",
    "        points.append(p)\n",
    "    return points\n",
    "\n",
    "# TODO: Invert timelines as appropriate\n",
    "def get_points_from_file_paths(files, bins):\n",
    "    all_points = [[] for _ in bins]\n",
    "    for idx, f in enumerate(files):\n",
    "        print('Parsing file {0}/{1}.'.format(idx, len(files)))\n",
    "        data = read_binary_file(f)\n",
    "        points, bins = bin_iterations(data, bins)\n",
    "        meta = get_filename_meta_data(f)\n",
    "        if meta['inverse'] == '1':\n",
    "            points = np.flip(points, axis=0).tolist()\n",
    "        for idx, ps in enumerate(points):\n",
    "            all_points[idx].extend(ps)\n",
    "    return all_points\n",
    "\n",
    "def get_raw_points_from_file_paths(files):\n",
    "    all_points = []\n",
    "    for idx, f in enumerate(files):\n",
    "        print('Parsing file {0}/{1}.'.format(idx, len(files)))\n",
    "        meta = get_filename_meta_data(f)\n",
    "        data = read_binary_file(f)\n",
    "        points = get_raw_points_from_iterations(data, flip=(meta['inverse'] == '1'))\n",
    "        all_points.extend(points)\n",
    "    return all_points\n",
    "\n",
    "def generate_kdes(points, bandwidth=None, start_idx=0, directory=''):\n",
    "    kdes = []\n",
    "    for idx, ps in enumerate(points):\n",
    "        if idx < start_idx:\n",
    "            continue\n",
    "        print('{2} : Finding KDE for bin {0}/{1}.'.format(idx, len(points), str(datetime.datetime.now())))\n",
    "        kde = KDEiPosition(ps, title=str(idx), save_to='{1}/{0}.png'.format(idx, directory), bandwidth=bandwidth)\n",
    "        save_model(kde, '{1}/{0}.pkl'.format(idx, directory))\n",
    "        kdes.append(kde)\n",
    "        \n",
    "    return kdes"
   ]
  },
  {
   "cell_type": "code",
   "execution_count": null,
   "metadata": {
    "collapsed": true
   },
   "outputs": [],
   "source": [
    "trial4study = find_data_files_in_directory(r'C:\\Users\\Kevin\\Desktop\\Work\\Time Travel Task\\v2', file_regex=\"\\d\\d\\d_4_1_\\d_\\d\\d\\d\\d-\\d\\d-\\d\\d_\\d\\d-\\d\\d-\\d\\d.dat\")"
   ]
  },
  {
   "cell_type": "code",
   "execution_count": null,
   "metadata": {
    "collapsed": true
   },
   "outputs": [],
   "source": [
    "get_items_solutions({'inverse': '0', 'phase': '1'})[1]"
   ]
  },
  {
   "cell_type": "code",
   "execution_count": null,
   "metadata": {
    "collapsed": true
   },
   "outputs": [],
   "source": [
    "# all_points = get_points_from_file_paths(trial4study, get_items_solutions({'inverse': '0', 'phase': '1'})[1])\n",
    "all_points = get_raw_points_from_file_paths(trial4study)"
   ]
  },
  {
   "cell_type": "code",
   "execution_count": null,
   "metadata": {
    "collapsed": true
   },
   "outputs": [],
   "source": [
    "import pickle\n",
    "pickle.dump(all_points, open('all_points_trial4.p', 'wb'))\n",
    "print(len(all_points))"
   ]
  },
  {
   "cell_type": "code",
   "execution_count": null,
   "metadata": {
    "collapsed": true
   },
   "outputs": [],
   "source": [
    "import pickle\n",
    "all_points = pickle.load(open('all_points_item_bins_width2s_trial2.p', 'rb'))"
   ]
  },
  {
   "cell_type": "code",
   "execution_count": null,
   "metadata": {
    "collapsed": true
   },
   "outputs": [],
   "source": [
    "print(len(all_points))\n",
    "for p in all_points:\n",
    "    print(len(p))"
   ]
  },
  {
   "cell_type": "code",
   "execution_count": null,
   "metadata": {
    "collapsed": true
   },
   "outputs": [],
   "source": [
    "import numpy as np\n",
    "from sklearn.cluster import MeanShift, estimate_bandwidth\n",
    "from sklearn.datasets.samples_generator import make_blobs\n",
    "\n",
    "# The following bandwidth can be automatically detected using\n",
    "bandwidth = 1.\n",
    "X = np.array([[x, y] for x, y in all_points[0]])\n",
    "\n",
    "ms = MeanShift(bandwidth=bandwidth, bin_seeding=True)\n",
    "ms.fit(X)\n",
    "labels = ms.labels_\n",
    "cluster_centers = ms.cluster_centers_\n",
    "\n",
    "labels_unique = np.unique(labels)\n",
    "n_clusters_ = len(labels_unique)\n",
    "\n",
    "print(\"number of estimated clusters : %d\" % n_clusters_)"
   ]
  },
  {
   "cell_type": "code",
   "execution_count": null,
   "metadata": {
    "collapsed": true
   },
   "outputs": [],
   "source": [
    "import matplotlib.pyplot as plt\n",
    "from itertools import cycle\n",
    "\n",
    "plt.figure(1)\n",
    "plt.clf()\n",
    "\n",
    "colors = cycle('bgrcmykbgrcmykbgrcmykbgrcmyk')\n",
    "for k, col in zip(range(n_clusters_), colors):\n",
    "    my_members = labels == k\n",
    "    cluster_center = cluster_centers[k]\n",
    "    #plt.plot(X[my_members, 0], X[my_members, 1], col + '.')\n",
    "    plt.plot(cluster_center[0], cluster_center[1], 'o', markerfacecolor=col,\n",
    "             markeredgecolor='k', markersize=14)\n",
    "plt.title('Estimated number of clusters: %d' % n_clusters_)\n",
    "plt.show()"
   ]
  },
  {
   "cell_type": "code",
   "execution_count": null,
   "metadata": {
    "collapsed": true
   },
   "outputs": [],
   "source": [
    "import datetime\n",
    "\n",
    "def generate_kdes(points, bandwidth=None, start_idx=0, directory=''):\n",
    "    kdes = []\n",
    "    for idx, ps in enumerate(points):\n",
    "        if idx < start_idx:\n",
    "            continue\n",
    "        print('{2} : Finding KDE for bin {0}/{1}.'.format(idx, len(points), str(datetime.datetime.now())))\n",
    "        kde = KDEiPosition(ps, title=str(idx), save_to='{1}/{0}.png'.format(idx, directory), bandwidth=bandwidth)\n",
    "        save_model(kde, '{1}/{0}.pkl'.format(idx, directory))\n",
    "        kdes.append(kde)\n",
    "        \n",
    "    return kdes"
   ]
  },
  {
   "cell_type": "code",
   "execution_count": null,
   "metadata": {
    "collapsed": true
   },
   "outputs": [],
   "source": [
    "generate_kdes(all_points, bandwidth=0.1, directory='temporal_item_kde')"
   ]
  },
  {
   "cell_type": "code",
   "execution_count": null,
   "metadata": {
    "collapsed": true
   },
   "outputs": [],
   "source": [
    "kde = KDEiPosition3D(all_points, bandwidth=0.1)\n",
    "save_model(kde, '3d_kde_trial4.pkl')"
   ]
  },
  {
   "cell_type": "code",
   "execution_count": null,
   "metadata": {
    "collapsed": true
   },
   "outputs": [],
   "source": []
  }
 ],
 "metadata": {
  "kernelspec": {
   "display_name": "Python 2",
   "language": "python",
   "name": "python2"
  },
  "language_info": {
   "codemirror_mode": {
    "name": "ipython",
    "version": 2
   },
   "file_extension": ".py",
   "mimetype": "text/x-python",
   "name": "python",
   "nbconvert_exporter": "python",
   "pygments_lexer": "ipython2",
   "version": "2.7.13"
  }
 },
 "nbformat": 4,
 "nbformat_minor": 2
}
