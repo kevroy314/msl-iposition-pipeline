{
 "cells": [
  {
   "cell_type": "code",
   "execution_count": null,
   "metadata": {
    "collapsed": true
   },
   "outputs": [],
   "source": [
    "%matplotlib inline\n",
    "import numpy as np\n",
    "import matplotlib.pyplot as plt\n",
    "from sklearn.neighbors import KernelDensity\n",
    "from scipy.stats.distributions import norm\n",
    "from sklearn.grid_search import GridSearchCV\n",
    "\n",
    "def tuples_to_xy(tuples):\n",
    "    tmp = np.transpose(tuples)\n",
    "    return tmp[0], tmp[1]\n",
    "\n",
    "def norm_on_range(x, y, x_range=None, y_range=None):\n",
    "    if x_range is None:\n",
    "        x_range = (min(x), max(x))\n",
    "    if y_range is None:\n",
    "        y_range = (min(y), max(y))\n",
    "    x_measured_range = [min(x), max(x)]\n",
    "    y_measured_range = [min(y), max(y)]\n",
    "    \n",
    "    x = [(xx - x_measured_range[0]) / (x_measured_range[1] - x_measured_range[0]) for xx in x]\n",
    "    y = [(yy - y_measured_range[0]) / (y_measured_range[1] - y_measured_range[0]) for yy in y]\n",
    "    \n",
    "    x = [(xx + x_range[0]) * (x_range[1] - x_range[0]) for xx in x]\n",
    "    y = [(yy + y_range[0]) * (y_range[1] - y_range[0]) for yy in y]\n",
    "    return x, y\n",
    "\n",
    "def KDEiPosition(points, title=None, show=False, save_to=None, bandwidth=None, show_points=False):\n",
    "    x, y = tuples_to_xy(points)\n",
    "    x, y = norm_on_range(x, y, x_range=(0, 1), y_range=(0, 1))\n",
    "\n",
    "    x = np.array(x)\n",
    "    y = np.array(y)\n",
    "\n",
    "    xy_train  = np.vstack([y, x]).T\n",
    "    if bandwidth is None:\n",
    "        grid = GridSearchCV(KernelDensity(kernel='gaussian'),  # 'tophat' is other option that allows sampling\n",
    "                            {'bandwidth': np.linspace(0.1, 1.0, 5)},\n",
    "                            cv=20) # 20-fold cross-validation\n",
    "        grid.fit(xy_train)\n",
    "        print(grid.best_params_)\n",
    "\n",
    "        kde = grid.best_estimator_\n",
    "    else:\n",
    "        grid = GridSearchCV(KernelDensity(kernel='gaussian'),  # 'tophat' is other option that allows sampling\n",
    "                            {'bandwidth': np.linspace(bandwidth, bandwidth, 1)},\n",
    "                            cv=20) # 20-fold cross-validation\n",
    "        grid.fit(xy_train)\n",
    "        print(grid.best_params_)\n",
    "\n",
    "        kde = grid.best_estimator_\n",
    "    # Create grid of sample locations (default: 100x100)\n",
    "    xx, yy = np.mgrid[0:1:100j, \n",
    "                      0:1:100j]\n",
    "\n",
    "    xy_sample = np.vstack([yy.ravel(), xx.ravel()]).T\n",
    "\n",
    "    pdf = np.exp(kde.score_samples(xy_sample))\n",
    "    \n",
    "    if show or save_to is not None:\n",
    "        with plt.rc_context():\n",
    "            ax = plt.subplot(111)\n",
    "            plt.pcolormesh(xx, yy, np.reshape(pdf, xx.shape))\n",
    "            if show_points:\n",
    "                plt.scatter(x, y, s=0.5, color='white')\n",
    "            plt.xlim(0, 1)\n",
    "            plt.ylim(0, 1)\n",
    "            plt.axis([0., 1., 0., 1.])\n",
    "            #plt.axis('equal')\n",
    "            if title is not None:\n",
    "                plt.title(title)\n",
    "            if save_to is not None:\n",
    "                plt.savefig(save_to, dpi=600)\n",
    "            if show:\n",
    "                plt.show()\n",
    "            \n",
    "    return kde\n",
    "\n",
    "def save_model(model, filename):\n",
    "    from sklearn.externals import joblib\n",
    "    joblib.dump(model, filename)"
   ]
  },
  {
   "cell_type": "code",
   "execution_count": null,
   "metadata": {
    "collapsed": true
   },
   "outputs": [],
   "source": [
    "from cogrecon.core.data_flexing.time_travel_task_binary_reader import read_binary_file, find_data_files_in_directory, get_filename_meta_data\n",
    "import numpy as np\n",
    "import datetime\n",
    "\n",
    "def bin_iterations(iterations, exclude_repeated_points=False):\n",
    "    bins = np.linspace(0, 60, 61, endpoint=True)\n",
    "    points = [[] for _ in bins]\n",
    "    prev_point = None\n",
    "    for i in iterations:\n",
    "        p = (i['x'], i['z'])\n",
    "        bin_idx = int(np.floor(i['time_val']))\n",
    "        if not exclude_repeated_points:\n",
    "            points[bin_idx].append(p)\n",
    "        else:\n",
    "            if len(points[bin_idx]) == 0:\n",
    "                points[bin_idx].append(p)\n",
    "            elif points[bin_idx][-1] == p:\n",
    "                print(\"removed point\")\n",
    "            else:\n",
    "                points[bin_idx].append(p)\n",
    "    return points, bins\n",
    "\n",
    "# TODO: Invert timelines as appropriate\n",
    "def get_points_from_file_paths(files, exclude_repeated_points=False):\n",
    "    bins = np.linspace(0, 60, 61, endpoint=True)\n",
    "    all_points = [[] for _ in bins]\n",
    "    for idx, f in enumerate(files):\n",
    "        print('Parsing file {0}/{1}.'.format(idx, len(files)))\n",
    "        data = read_binary_file(f)\n",
    "        points, bins = bin_iterations(data, exclude_repeated_points=exclude_repeated_points)\n",
    "        meta = get_filename_meta_data(f)\n",
    "        if meta['inverse'] == '1':\n",
    "            points = np.flip(points, axis=0).tolist()\n",
    "        for idx, ps in enumerate(points):\n",
    "            all_points[idx].extend(ps)\n",
    "    return all_points\n",
    "        \n",
    "\n",
    "def generate_kdes(points, bandwidth=None, start_idx=0, directory=''):\n",
    "    kdes = []\n",
    "    for idx, ps in enumerate(points):\n",
    "        if idx < start_idx:\n",
    "            continue\n",
    "        print('{2} : Finding KDE for bin {0}/{1}.'.format(idx, len(points), str(datetime.datetime.now())))\n",
    "        kde = KDEiPosition(ps, title=str(idx), save_to='{1}/{0}.png'.format(idx, directory), bandwidth=bandwidth)\n",
    "        save_model(kde, '{1}/{0}.pkl'.format(idx, directory))\n",
    "        kdes.append(kde)\n",
    "        \n",
    "    return kdes"
   ]
  },
  {
   "cell_type": "code",
   "execution_count": null,
   "metadata": {
    "collapsed": true
   },
   "outputs": [],
   "source": [
    "trial4study = find_data_files_in_directory(r'C:\\Users\\Kevin\\Desktop\\Work\\Time Travel Task\\v2', file_regex=\"\\d\\d\\d_1_1_\\d_\\d\\d\\d\\d-\\d\\d-\\d\\d_\\d\\d-\\d\\d-\\d\\d.dat\")"
   ]
  },
  {
   "cell_type": "code",
   "execution_count": null,
   "metadata": {
    "collapsed": true
   },
   "outputs": [],
   "source": [
    "all_points = get_points_from_file_paths(trial4study, exclude_repeated_points=False)"
   ]
  },
  {
   "cell_type": "code",
   "execution_count": null,
   "metadata": {
    "collapsed": true
   },
   "outputs": [],
   "source": [
    "print(len(all_points))\n",
    "print(len(all_points[3]))\n",
    "x, y = tuples_to_xy(all_points[1])\n",
    "x, y = norm_on_range(x, y, x_range=(0., 1.), y_range=(0., 1.))\n",
    "plt.scatter(x, y)\n",
    "plt.show()\n",
    "\n",
    "x, y = tuples_to_xy(all_points[1])\n",
    "plt.scatter(x, y)\n",
    "plt.show()"
   ]
  },
  {
   "cell_type": "code",
   "execution_count": null,
   "metadata": {
    "collapsed": true
   },
   "outputs": [],
   "source": [
    "generate_kdes(all_points, bandwidth=0.1, directory=r'C:\\Users\\Kevin\\Documents\\GitHub\\msl-iposition-pipeline\\tests\\all_points_trial_1_study')"
   ]
  },
  {
   "cell_type": "code",
   "execution_count": null,
   "metadata": {
    "collapsed": true
   },
   "outputs": [],
   "source": []
  }
 ],
 "metadata": {
  "anaconda-cloud": {},
  "kernelspec": {
   "display_name": "Python 2",
   "language": "python",
   "name": "python2"
  },
  "language_info": {
   "codemirror_mode": {
    "name": "ipython",
    "version": 2
   },
   "file_extension": ".py",
   "mimetype": "text/x-python",
   "name": "python",
   "nbconvert_exporter": "python",
   "pygments_lexer": "ipython2",
   "version": "2.7.13"
  }
 },
 "nbformat": 4,
 "nbformat_minor": 2
}
