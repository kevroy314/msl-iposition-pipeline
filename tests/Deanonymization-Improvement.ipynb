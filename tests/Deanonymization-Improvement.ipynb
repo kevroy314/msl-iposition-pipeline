{
 "cells": [
  {
   "cell_type": "code",
   "execution_count": 1,
   "metadata": {
    "collapsed": true
   },
   "outputs": [],
   "source": [
    "import itertools\n",
    "import random\n",
    "import numpy as np\n",
    "from scipy.spatial import distance\n",
    "\n",
    "from scipy.spatial.distance import cdist\n",
    "from scipy.optimize import linear_sum_assignment"
   ]
  },
  {
   "cell_type": "code",
   "execution_count": 2,
   "metadata": {
    "collapsed": true
   },
   "outputs": [],
   "source": [
    "def minimization_function(list1, list2):\n",
    "    return sum(np.diag(distance.cdist(list1, list2)))\n",
    "\n",
    "def find_minimal_mapping(p0, p1):\n",
    "    min_score = np.inf\n",
    "    min_score_idx = -1\n",
    "    min_permutation = p1\n",
    "    idx = 0\n",
    "    for perm in itertools.permutations(p1):\n",
    "        score = minimization_function(perm, p0)\n",
    "        if score < min_score:\n",
    "            min_score = score\n",
    "            min_score_idx = idx\n",
    "            min_permutation = perm\n",
    "            if score == 0:\n",
    "                break\n",
    "        idx += 1\n",
    "    return min_score, min_score_idx, min_permutation"
   ]
  },
  {
   "cell_type": "code",
   "execution_count": 3,
   "metadata": {
    "collapsed": true
   },
   "outputs": [],
   "source": [
    "from math import factorial\n",
    "\n",
    "def lexicographic_index(p):\n",
    "    \"\"\"\n",
    "    Return the lexicographic index of the permutation `p` among all\n",
    "    permutations of its elements. `p` must be a sequence and all elements\n",
    "    of `p` must be distinct.\n",
    "\n",
    "    >>> lexicographic_index('dacb')\n",
    "    19\n",
    "    >>> from itertools import permutations\n",
    "    >>> all(lexicographic_index(p) == i\n",
    "    ...     for i, p in enumerate(permutations('abcde')))\n",
    "    True\n",
    "    \"\"\"\n",
    "    result = 0\n",
    "    for j in range(len(p)):\n",
    "        k = sum(1 for i in p[j + 1:] if i < p[j])\n",
    "        result += k * factorial(len(p) - j - 1)\n",
    "    return result\n",
    "\n",
    "def scipy_find_minimal_mapping(p0, p1):\n",
    "    C = cdist(p0, p1)\n",
    "\n",
    "    _, assignment = linear_sum_assignment(C)\n",
    "\n",
    "    p1_reordered = [p1[idx] for idx in assignment]\n",
    "    return minimization_function(p0, p1_reordered), lexicographic_index(assignment), p1_reordered"
   ]
  },
  {
   "cell_type": "code",
   "execution_count": 4,
   "metadata": {
    "collapsed": true
   },
   "outputs": [],
   "source": [
    "def generate_random_test_points(number_of_points=5, dimension=2, shuffle_points=True, noise=(1.0 / 20.0),\n",
    "                                num_rerandomed_points=1):\n",
    "    correct_points = [[random.random() for _ in range(dimension)] for _ in range(0, number_of_points)]\n",
    "    offsets = [[(random.random()) * noise for _ in range(dimension)] for _ in range(0, number_of_points)]\n",
    "    input_points = np.array(correct_points) + np.array(offsets)\n",
    "\n",
    "    if shuffle_points:\n",
    "        perms = list(itertools.permutations(input_points))\n",
    "        input_points = perms[random.randint(0, len(perms) - 1)]\n",
    "\n",
    "    if num_rerandomed_points > len(input_points):  # Bound the number of randomized points to the number of points\n",
    "        num_rerandomed_points = len(input_points)\n",
    "    # Generate a random sampling of point indicies\n",
    "    indicies = random.sample(range(0, len(input_points)), num_rerandomed_points)\n",
    "    # Loop through each index and re-randomize each element in the point\n",
    "    for index in indicies:\n",
    "        for idx in range(len(input_points[index])):\n",
    "            input_points[index][idx] = random.random()\n",
    "\n",
    "    return np.array(correct_points).tolist(), np.array(input_points).tolist()"
   ]
  },
  {
   "cell_type": "code",
   "execution_count": 5,
   "metadata": {},
   "outputs": [
    {
     "name": "stdout",
     "output_type": "stream",
     "text": [
      "n=2 took 0.00300002098083 seconds\n",
      "n=3 took 0.00300002098083 seconds\n",
      "n=4 took 0.000999927520752 seconds\n",
      "n=5 took 0.000999927520752 seconds\n",
      "n=6 took 0.000999927520752 seconds\n",
      "n=7 took 0.00300002098083 seconds\n",
      "n=8 took 0.0110001564026 seconds\n",
      "n=9 took 0.0829999446869 seconds\n"
     ]
    }
   ],
   "source": [
    "import time\n",
    "\n",
    "for n in range(2, 10):\n",
    "    start_time = time.time()\n",
    "    scipy_find_minimal_mapping(*generate_random_test_points(number_of_points=n))\n",
    "    duration = time.time() - start_time\n",
    "    print('n={0} took {1} seconds'.format(n, duration))"
   ]
  },
  {
   "cell_type": "code",
   "execution_count": 53,
   "metadata": {},
   "outputs": [
    {
     "name": "stdout",
     "output_type": "stream",
     "text": [
      "n=2 took 0.0 seconds with solution (0.26475660454499556, 1, ([0.5513105990009332, 0.7340847958664606], [0.4219064893084553, 0.5422803977355627]))\n",
      "[1 0]\n",
      "n=2 took 0.00200009346008 seconds with solution (0.26475660454499556, 1, [[0.5513105990009332, 0.7340847958664606], [0.4219064893084553, 0.5422803977355627]])\n",
      "n=3 took 0.0 seconds with solution (0.42474742854854869, 3, ([0.5912551176607548, 0.5986669716907186], [0.5333973226533139, 0.5271463288779743], [0.5269799838579898, 0.8910776879204751]))\n",
      "[1 2 0]\n",
      "n=3 took 0.00100016593933 seconds with solution (0.42474742854854869, 3, [[0.5912551176607548, 0.5986669716907186], [0.5333973226533139, 0.5271463288779743], [0.5269799838579898, 0.8910776879204751]])\n",
      "n=4 took 0.0019998550415 seconds with solution (0.72256188507253172, 12, ([0.3847708955726311, 0.32694859507155616], [0.939540912885035, 0.04780057718781339], [0.8048230390031065, 0.9046475488678198], [0.601505485882614, 0.03884537207013897]))\n",
      "[2 0 1 3]\n",
      "n=4 took 0.00200009346008 seconds with solution (0.72256188507253172, 12, [[0.3847708955726311, 0.32694859507155616], [0.939540912885035, 0.04780057718781339], [0.8048230390031065, 0.9046475488678198], [0.601505485882614, 0.03884537207013897]])\n",
      "n=5 took 0.00500011444092 seconds with solution (0.48522983471730019, 44, ([0.5825402945416105, 0.36915446053600465], [0.1373062044032869, 0.1421150749909687], [0.49610649360095255, 0.8915994257741046], [0.16368803731104126, 0.7148261192624575], [0.7247351972383165, 0.9484433500791356]))\n",
      "[1 4 2 0 3]\n",
      "n=5 took 0.0019998550415 seconds with solution (0.48522983471730019, 44, [[0.5825402945416105, 0.36915446053600465], [0.1373062044032869, 0.1421150749909687], [0.49610649360095255, 0.8915994257741046], [0.16368803731104126, 0.7148261192624575], [0.7247351972383165, 0.9484433500791356]])\n",
      "n=6 took 0.0210001468658 seconds with solution (1.0224645785102937, 105, ([0.7915759454044462, 0.48922197531055683], [0.9874963075138727, 0.3054268324733997], [0.8821332025778844, 0.7643516595251826], [0.9682302421014152, 0.6318905302797025], [0.6779441957005643, 0.8640470336151418], [0.6377516676188714, 0.08843209479141209]))\n",
      "[0 5 2 3 4 1]\n",
      "n=6 took 0.0019998550415 seconds with solution (1.0224645785102937, 105, [[0.7915759454044462, 0.48922197531055683], [0.9874963075138727, 0.3054268324733997], [0.8821332025778844, 0.7643516595251826], [0.9682302421014152, 0.6318905302797025], [0.6779441957005643, 0.8640470336151418], [0.6377516676188714, 0.08843209479141209]])\n",
      "n=7 took 0.134000062943 seconds with solution (0.71829449450114524, 3690, ([0.9609519355091641, 0.9173255837682063], [0.8644819805812354, 0.8031741931518221], [0.8409832801303754, 0.766681812224158], [0.5830786956239579, 0.6393777879467167], [0.42726734603221456, 0.7486597515095552], [0.6893966005629967, 0.7748651629314867], [0.02409546094990319, 0.3917740170756811]))\n",
      "[5 0 4 6 1 2 3]\n",
      "n=7 took 0.00200009346008 seconds with solution (0.71829449450114524, 3690, [[0.9609519355091641, 0.9173255837682063], [0.8644819805812354, 0.8031741931518221], [0.8409832801303754, 0.766681812224158], [0.5830786956239579, 0.6393777879467167], [0.42726734603221456, 0.7486597515095552], [0.6893966005629967, 0.7748651629314867], [0.02409546094990319, 0.3917740170756811]])\n",
      "n=8 took 1.17700004578 seconds with solution (0.78890933649386441, 25116, ([0.1564629368382746, 0.5302022644099633], [0.7367506351565482, 0.7120068596576652], [0.6621050453594272, 0.0025494373032332596], [0.10525939623274796, 0.8779553161876132], [0.6370962825420887, 0.2949207431985945], [0.4903514372684018, 0.39522438835966106], [0.24176735475042244, 0.5901858170897814], [0.19378903227090663, 0.3992909235086891]))\n",
      "[4 7 6 1 3 0 2 5]\n",
      "n=8 took 0.0019998550415 seconds with solution (0.78890933649386441, 25116, [[0.1564629368382746, 0.5302022644099633], [0.7367506351565482, 0.7120068596576652], [0.6621050453594272, 0.0025494373032332596], [0.10525939623274796, 0.8779553161876132], [0.6370962825420887, 0.2949207431985945], [0.4903514372684018, 0.39522438835966106], [0.24176735475042244, 0.5901858170897814], [0.19378903227090663, 0.3992909235086891]])\n",
      "n=9 took 10.9049999714 seconds with solution (0.82956107353950481, 185389, ([0.9334095474665458, 0.09025971805677821], [0.8111903665680915, 0.1617762962359223], [0.06957613455145739, 0.9624426367967579], [0.650587708814206, 0.6439218678371025], [0.4652745195999019, 0.29141576077390324], [0.4346675122108653, 0.5273765282695154], [0.7102738736497463, 0.14270536441990828], [0.22950416033556847, 0.14203494229958402], [0.13887647823734173, 0.925391662562882]))\n",
      "[4 5 7 2 8 3 0 6 1]\n",
      "n=9 took 0.00399994850159 seconds with solution (0.82956107353950481, 185389, [[0.9334095474665458, 0.09025971805677821], [0.8111903665680915, 0.1617762962359223], [0.06957613455145739, 0.9624426367967579], [0.650587708814206, 0.6439218678371025], [0.4652745195999019, 0.29141576077390324], [0.4346675122108653, 0.5273765282695154], [0.7102738736497463, 0.14270536441990828], [0.22950416033556847, 0.14203494229958402], [0.13887647823734173, 0.925391662562882]])\n"
     ]
    }
   ],
   "source": [
    "import time\n",
    "\n",
    "for n in range(2, 10):\n",
    "    rand_input = generate_random_test_points(number_of_points=n)\n",
    "    start_time = time.time()\n",
    "    a, b, c = find_minimal_mapping(*rand_input)\n",
    "    duration = time.time() - start_time\n",
    "    print('n={0} took {1} seconds with solution {2}'.format(n, duration, (a, b, c)))\n",
    "    \n",
    "    start_time = time.time()\n",
    "    a, b, c = scipy_find_minimal_mapping(*rand_input)\n",
    "    scipy_duration = time.time() - start_time\n",
    "    print('n={0} took {1} seconds with solution {2}'.format(n, scipy_duration, (a, b, c)))"
   ]
  },
  {
   "cell_type": "code",
   "execution_count": 22,
   "metadata": {},
   "outputs": [],
   "source": [
    "import sys\n",
    "\n",
    "# noinspection PyUnusedLocal\n",
    "def greedy_find_minimal_mapping(p0, p1, order):\n",
    "    assert len(p0) == len(p1) and len(p0) == len(order), \"greedy_find_minimal_mapping requires all list to be equal \" \\\n",
    "                                                         \"in length \"\n",
    "    assert sorted(list(set(order))) == list(range(len(order))), \"greedy_find_minimal_mapping order should contain \" \\\n",
    "                                                                \"unique values between 0 and n-1, inclusively, \" \\\n",
    "                                                                \"where n is the number of items \"\n",
    "    # Sort by order\n",
    "    indices = list(range(len(order)))\n",
    "    indices.sort(key=order.__getitem__)\n",
    "    sorted_p0 = list(map(p0.__getitem__, indices))\n",
    "    sorted_p1 = list(map(p1.__getitem__, indices))\n",
    "\n",
    "    map_order = []\n",
    "    for idx, p in enumerate(sorted_p1):\n",
    "        min_dist = sys.float_info.max\n",
    "        min_idx = -1\n",
    "        for idxx, pp in enumerate(sorted_p0):\n",
    "            dist = distance.euclidean(p, pp)\n",
    "            if dist < min_dist:\n",
    "                min_dist = dist\n",
    "                min_idx = idx\n",
    "        map_order.append(min_idx)\n",
    "        del sorted_p1[min_idx]\n",
    "\n",
    "    p1_reordered = [p1[idx] for idx in map_order]\n",
    "\n",
    "    return minimization_function(p0, p1_reordered), lexicographic_index(map_order), p1_reordered"
   ]
  },
  {
   "cell_type": "code",
   "execution_count": 26,
   "metadata": {},
   "outputs": [
    {
     "name": "stdout",
     "output_type": "stream",
     "text": [
      "[[[0.22902552973717638, 0.3826316826434478], [0.9883445439866303, 0.9546963475123881], [0.5569337958188245, 0.7854665967359095], [0.7963162867890826, 0.9620530207181707], [0.5154311764619945, 0.1801887108093313], [0.6879823003713249, 0.5147402989795069]], [[0.5518277613630433, 0.18546203945117792], [0.8288229028352251, 0.9785909524748173], [0.6939549858689164, 0.5637231466291507], [0.26342393951624055, 0.4070197879891629], [0.6008260038087491, 0.8227982964683391], [0.8911974660622662, 0.7496630691419779]], [1, 3, 5, 0, 2, 4]]\n",
      "---------------\n",
      "(0.80021924018434065, 0, [[0.5518277613630433, 0.18546203945117792], [0.8288229028352251, 0.9785909524748173], [0.6939549858689164, 0.5637231466291507]])\n"
     ]
    }
   ],
   "source": [
    "n=6\n",
    "order = list(range(0, n))\n",
    "random.shuffle(order)\n",
    "input_data = (list(generate_random_test_points(number_of_points=n)) + [order])\n",
    "print(input_data)\n",
    "a, b, c = greedy_find_minimal_mapping(*input_data)\n",
    "print('---------------')\n",
    "print((a,b,c))"
   ]
  },
  {
   "cell_type": "markdown",
   "metadata": {},
   "source": [
    "If we compare greedy to global, we find that greedy general and systematically finds a solution which reduces the overall error less due to the later order items being non-ideal. This difference is likely to be lower with lower overall error."
   ]
  },
  {
   "cell_type": "code",
   "execution_count": 31,
   "metadata": {},
   "outputs": [
    {
     "name": "stdout",
     "output_type": "stream",
     "text": [
      "n=2 scipy has mean dist 0.553121829035 while greedy has mean dist 0.395954158864\n",
      "n=3 scipy has mean dist 0.580755749498 while greedy has mean dist 0.795869911292\n",
      "n=4 scipy has mean dist 0.619747163232 while greedy has mean dist 0.861555510798\n",
      "n=5 scipy has mean dist 0.666762563795 while greedy has mean dist 1.34417277527\n",
      "n=6 scipy has mean dist 0.705873042302 while greedy has mean dist 1.36498098229\n",
      "n=7 scipy has mean dist 0.740277232379 while greedy has mean dist 1.87976003796\n",
      "n=8 scipy has mean dist 0.756575578302 while greedy has mean dist 1.87060002479\n"
     ]
    }
   ],
   "source": [
    "import time\n",
    "\n",
    "iterations = 1000\n",
    "for n in range(2, 9):\n",
    "    scipy = []\n",
    "    greedy = []\n",
    "    for i in range(0, iterations):\n",
    "        rand_input = generate_random_test_points(number_of_points=n)\n",
    "        order = list(range(0, n))\n",
    "        random.shuffle(order)\n",
    "        input_data = (list(generate_random_test_points(number_of_points=n)) + [order])\n",
    "\n",
    "        a0, b0, c0 = scipy_find_minimal_mapping(*rand_input)\n",
    "\n",
    "        a1, b1, c1 = greedy_find_minimal_mapping(*input_data)\n",
    "        \n",
    "        scipy.append(a0)\n",
    "        greedy.append(a1)\n",
    "    \n",
    "    print('n={0} scipy has mean dist {1} while greedy has mean dist {2}'.format(n, np.mean(scipy), np.mean(greedy)))"
   ]
  },
  {
   "cell_type": "code",
   "execution_count": null,
   "metadata": {
    "collapsed": true
   },
   "outputs": [],
   "source": [
    ""
   ]
  }
 ],
 "metadata": {
  "kernelspec": {
   "display_name": "Python 2",
   "language": "python",
   "name": "python2"
  },
  "language_info": {
   "codemirror_mode": {
    "name": "ipython",
    "version": 2.0
   },
   "file_extension": ".py",
   "mimetype": "text/x-python",
   "name": "python",
   "nbconvert_exporter": "python",
   "pygments_lexer": "ipython2",
   "version": "2.7.13"
  }
 },
 "nbformat": 4,
 "nbformat_minor": 0
}